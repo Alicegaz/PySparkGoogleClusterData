{
 "cells": [
  {
   "cell_type": "markdown",
   "metadata": {},
   "source": [
    "## Q1: What is the distribution of the machines according to their CPU capacity?"
   ]
  },
  {
   "cell_type": "code",
   "execution_count": 44,
   "metadata": {},
   "outputs": [],
   "source": [
    "import sys\n",
    "from pyspark import SparkContext\n",
    "import time\n",
    "from pyspark.sql.functions import countDistinct\n",
    "import timeit\n",
    "import gc\n",
    "import pandas as pd\n",
    "from pyspark.sql import SQLContext\n",
    "from pyspark.sql import Row\n",
    "import numpy as np\n",
    "import pandas as pd\n",
    "import seaborn as sns\n",
    "import matplotlib.pyplot as plt\n",
    "from scipy import stats"
   ]
  },
  {
   "cell_type": "code",
   "execution_count": 45,
   "metadata": {},
   "outputs": [],
   "source": [
    "import os"
   ]
  },
  {
   "cell_type": "code",
   "execution_count": 46,
   "metadata": {},
   "outputs": [],
   "source": [
    "sns.set(color_codes=True)"
   ]
  },
  {
   "cell_type": "code",
   "execution_count": 47,
   "metadata": {},
   "outputs": [],
   "source": [
    "def f(x):\n",
    "    d = {}\n",
    "    for i in range(len(x)):\n",
    "        d[str(i)] = x[i]\n",
    "    return d\n",
    "def adjust_params(x):\n",
    "    return x/10**6"
   ]
  },
  {
   "cell_type": "markdown",
   "metadata": {},
   "source": [
    "read the data table \"machine events\":\n",
    "    1. timestamp\n",
    "    2. machine ID\n",
    "    3. event type\n",
    "    4. platform ID\n",
    "    5. capacity: CPU\n",
    "    6. capacity: memory\n",
    "Description of the table:\n",
    "    'event_type'    \n",
    "    1. Contains information about the machines that went offline and reconnected during the period that the data covers"
   ]
  },
  {
   "cell_type": "code",
   "execution_count": 49,
   "metadata": {},
   "outputs": [],
   "source": [
    "#if sc:\n",
    "#    sc.stop()\n",
    "    \n",
    "sc = SparkContext(\"local[1]\")\n",
    "sc.setLogLevel(\"ERROR\")\n",
    "\n",
    "#0. timestamp 1. machineID 2. eventtype 3. platformID 4. capacity:CPU 5. capacity:memory\n",
    "machine_events = sc.textFile('../../datasets/machine_events/*.gz')\n",
    "machine_events_RDD = machine_events.map(lambda line: line.split(\",\"))\n",
    "machine_events_RDD = machine_events_RDD.map(lambda tokens: (int(tokens[0]), int(tokens[1]), int(tokens[2]), tokens[3], tokens[4], tokens[5]))\n",
    "machine_events_RDD_filtered = machine_events_RDD.map(lambda elem: (elem[0], elem[1], elem[2], elem[3], elem[4], elem[5])).filter(lambda elem: elem[0] != 0 and elem[0] != (2^63-1)).sortByKey(1, 1)"
   ]
  },
  {
   "cell_type": "code",
   "execution_count": 7,
   "metadata": {},
   "outputs": [
    {
     "name": "stdout",
     "output_type": "stream",
     "text": [
      "12477 traces removed\n",
      "Step 4: [(779231019, 5782512, 1, 'HofLGzk1Or/8Ildj2+Lqv0UGGvY82NLoni8+J/Yy0RU=', '0.5', '0.2493')]\n"
     ]
    }
   ],
   "source": [
    "#sortByKey(accending=True, number of partitions)\n",
    "print(\"{} traces removed\".format(machine_events_RDD.count() - machine_events_RDD_filtered.count()))\n",
    "print(\"Step 4: {}\".format(machine_events_RDD_filtered.take(1)))"
   ]
  },
  {
   "cell_type": "code",
   "execution_count": 8,
   "metadata": {},
   "outputs": [],
   "source": [
    "sqlContext = SQLContext(sc)\n",
    "machine_events_df = sqlContext.createDataFrame(machine_events_RDD_filtered, schema=['timestamp', 'machineID', 'eventtype', 'platformID', 'CPU', 'memory'])"
   ]
  },
  {
   "cell_type": "code",
   "execution_count": 8,
   "metadata": {},
   "outputs": [
    {
     "name": "stdout",
     "output_type": "stream",
     "text": [
      "root\n",
      " |-- timestamp: long (nullable = true)\n",
      " |-- machineID: long (nullable = true)\n",
      " |-- eventtype: long (nullable = true)\n",
      " |-- platformID: string (nullable = true)\n",
      " |-- CPU: string (nullable = true)\n",
      " |-- memory: string (nullable = true)\n",
      "\n"
     ]
    }
   ],
   "source": [
    "machine_events_df.printSchema()"
   ]
  },
  {
   "cell_type": "code",
   "execution_count": 9,
   "metadata": {},
   "outputs": [],
   "source": [
    "machine_events_df = machine_events_df.filter(machine_events_df.CPU!='')"
   ]
  },
  {
   "cell_type": "code",
   "execution_count": 19,
   "metadata": {},
   "outputs": [
    {
     "name": "stdout",
     "output_type": "stream",
     "text": [
      "+-------+--------------------+\n",
      "|summary|           timestamp|\n",
      "+-------+--------------------+\n",
      "|  count|               16314|\n",
      "|   mean|1.294475316201773...|\n",
      "| stddev|7.178122891732922E11|\n",
      "|    min|           974363601|\n",
      "|    max|       2506129491172|\n",
      "+-------+--------------------+\n",
      "\n",
      "None\n",
      "+-------+-------------------+\n",
      "|summary|                CPU|\n",
      "+-------+-------------------+\n",
      "|  count|              16314|\n",
      "|   mean| 0.5204578889297535|\n",
      "| stddev|0.11419635148370541|\n",
      "|    min|               0.25|\n",
      "|    max|                  1|\n",
      "+-------+-------------------+\n",
      "\n",
      "None\n",
      "+-------+-------------------+\n",
      "|summary|             memory|\n",
      "+-------+-------------------+\n",
      "|  count|              16314|\n",
      "|   mean| 0.4737559078092239|\n",
      "| stddev|0.18057669652063252|\n",
      "|    min|            0.06158|\n",
      "|    max|                  1|\n",
      "+-------+-------------------+\n",
      "\n",
      "None\n"
     ]
    }
   ],
   "source": [
    "## Get Statistics\n",
    "statistics_timestamp = machine_events_df.describe('timestamp')\n",
    "print(statistics_timestamp.show())\n",
    "statistics_CPU = machine_events_df.describe('CPU')\n",
    "print(statistics_CPU.show())\n",
    "statistics_timestamp = machine_events_df.describe('memory')\n",
    "print(statistics_timestamp.show())"
   ]
  },
  {
   "cell_type": "code",
   "execution_count": 20,
   "metadata": {},
   "outputs": [],
   "source": [
    "cpu_all = np.array(list(machine_events_df.toPandas()['CPU'])).astype(np.float32)"
   ]
  },
  {
   "cell_type": "code",
   "execution_count": 21,
   "metadata": {},
   "outputs": [
    {
     "name": "stdout",
     "output_type": "stream",
     "text": [
      "+----+-----+\n",
      "| CPU|count|\n",
      "+----+-----+\n",
      "|0.25|  281|\n",
      "| 0.5|15225|\n",
      "|   1|  808|\n",
      "+----+-----+\n",
      "\n",
      "None\n"
     ]
    }
   ],
   "source": [
    "number_of_CPU = machine_events_df.groupBy('CPU').count()\n",
    "print(number_of_CPU.show())"
   ]
  },
  {
   "cell_type": "code",
   "execution_count": 23,
   "metadata": {},
   "outputs": [
    {
     "data": {
      "text/plain": [
       "Text(0,0.5,'Machines')"
      ]
     },
     "execution_count": 23,
     "metadata": {},
     "output_type": "execute_result"
    },
    {
     "data": {
      "image/png": "[encoded data removed]",
      "text/plain": [
       "<Figure size 432x288 with 1 Axes>"
      ]
     },
     "metadata": {},
     "output_type": "display_data"
    }
   ],
   "source": [
    "plt.hist(cpu_all, color='blue', edgecolor = 'black', bins=int(3))\n",
    "plt.title('Histogram of CPU aquisition delays')\n",
    "plt.xlabel('Delay (days)')\n",
    "plt.ylabel('Machines')"
   ]
  },
  {
   "cell_type": "code",
   "execution_count": 259,
   "metadata": {},
   "outputs": [
    {
     "name": "stdout",
     "output_type": "stream",
     "text": [
      "28.997178964097223\n"
     ]
    }
   ],
   "source": [
    "from pyspark.sql import functions as F\n",
    "day = 86400 \n",
    "expr_end = [F.last(col).alias(col) for col in df.columns]\n",
    "expr_start = [F.first(col).alias(col) for col in df.columns]\n",
    "total_times = df.groupBy().agg(*expr_end).collect()[0][0] - df.groupBy().agg(*expr_start).collect()[0][0]\n",
    "days = (total_times/10**6)/day\n",
    "print(days)"
   ]
  },
  {
   "cell_type": "code",
   "execution_count": 1,
   "metadata": {},
   "outputs": [],
   "source": [
    "#df.toPandas()['timestamp']"
   ]
  },
  {
   "cell_type": "code",
   "execution_count": 290,
   "metadata": {},
   "outputs": [
    {
     "data": {
      "image/png": "[encoded data removed]",
      "text/plain": [
       "<Figure size 432x288 with 1 Axes>"
      ]
     },
     "metadata": {},
     "output_type": "display_data"
    }
   ],
   "source": [
    "plt.hist(df.toPandas()['timestamp'], color='blue', edgecolor = 'black', bins=int(29))\n",
    "plt.title('Distribution of machines interms of number of CPU')\n",
    "plt.xlabel('Number of CPUs')\n",
    "plt.ylabel('Number of Machines')\n",
    "plt.show()"
   ]
  },
  {
   "cell_type": "code",
   "execution_count": 270,
   "metadata": {},
   "outputs": [],
   "source": [
    "cluster1 = df.filter(df.CPU=='1').toPandas()\n",
    "cluster2 = df.filter(df.CPU=='0.5').toPandas()\n",
    "cluster3 = df.filter(df.CPU=='0.25').toPandas()"
   ]
  },
  {
   "cell_type": "code",
   "execution_count": 288,
   "metadata": {},
   "outputs": [
    {
     "name": "stdout",
     "output_type": "stream",
     "text": [
      "Histogram of CPU aquisition delays\n"
     ]
    },
    {
     "data": {
      "image/png": "[encoded data removed]",
      "text/plain": [
       "<Figure size 432x288 with 1 Axes>"
      ]
     },
     "metadata": {},
     "output_type": "display_data"
    },
    {
     "data": {
      "image/png": "[encoded data removed]",
      "text/plain": [
       "<Figure size 432x288 with 1 Axes>"
      ]
     },
     "metadata": {},
     "output_type": "display_data"
    },
    {
     "data": {
      "image/png": "[encoded data removed]",
      "text/plain": [
       "<Figure size 432x288 with 1 Axes>"
      ]
     },
     "metadata": {},
     "output_type": "display_data"
    }
   ],
   "source": [
    "print(\"Histogram of CPU aquisition delays\")\n",
    "plt.hist(cluster1['timestamp'], color='blue', edgecolor = 'black', bins=int(29), label='CPU 1')\n",
    "plt.title('CPU = 100%')\n",
    "plt.xlabel('Delay (days)')\n",
    "plt.ylabel('Number of Machines')\n",
    "plt.show()\n",
    "plt.hist(cluster2['timestamp'], color='green', edgecolor = 'black', bins=int(29), label='CPU 0.5')\n",
    "plt.title('CPU = 50%')\n",
    "plt.xlabel('Delay (days)')\n",
    "plt.ylabel('Number of Machines')\n",
    "plt.show()\n",
    "plt.hist(cluster3['timestamp'], color='yellow', edgecolor = 'black', bins=int(29), label='CPU 0.25')\n",
    "plt.title('CPU = 25%')\n",
    "plt.xlabel('Delay (days)')\n",
    "plt.ylabel('Number of Machines')\n",
    "plt.show()"
   ]
  },
  {
   "cell_type": "code",
   "execution_count": 295,
   "metadata": {},
   "outputs": [
    {
     "ename": "Py4JJavaError",
     "evalue": "An error occurred while calling o3501.corr.\n: org.apache.spark.SparkException: Job aborted due to stage failure: Task 0 in stage 200.0 failed 1 times, most recent failure: Lost task 0.0 in stage 200.0 (TID 4105, localhost, executor driver): org.apache.spark.api.python.PythonException: Traceback (most recent call last):\n  File \"/home/gazizullina150/anaconda3/lib/python3.7/site-packages/pyspark/python/lib/pyspark.zip/pyspark/worker.py\", line 372, in main\n    process()\n  File \"/home/gazizullina150/anaconda3/lib/python3.7/site-packages/pyspark/python/lib/pyspark.zip/pyspark/worker.py\", line 367, in process\n    serializer.dump_stream(func(split_index, iterator), outfile)\n  File \"/home/gazizullina150/anaconda3/lib/python3.7/site-packages/pyspark/python/lib/pyspark.zip/pyspark/serializers.py\", line 390, in dump_stream\n    vs = list(itertools.islice(iterator, batch))\n  File \"/home/gazizullina150/anaconda3/lib/python3.7/site-packages/pyspark/python/lib/pyspark.zip/pyspark/util.py\", line 99, in wrapper\n    return f(*args, **kwargs)\n  File \"/home/gazizullina150/anaconda3/lib/python3.7/site-packages/pyspark/python/lib/pyspark.zip/pyspark/mllib/linalg/__init__.py\", line 83, in _convert_to_vector\n    raise TypeError(\"Cannot convert type %s into Vector\" % type(l))\nTypeError: Cannot convert type <class 'pyspark.sql.types.Row'> into Vector\n\n\tat org.apache.spark.api.python.BasePythonRunner$ReaderIterator.handlePythonException(PythonRunner.scala:452)\n\tat org.apache.spark.api.python.PythonRunner$$anon$1.read(PythonRunner.scala:588)\n\tat org.apache.spark.api.python.PythonRunner$$anon$1.read(PythonRunner.scala:571)\n\tat org.apache.spark.api.python.BasePythonRunner$ReaderIterator.hasNext(PythonRunner.scala:406)\n\tat org.apache.spark.InterruptibleIterator.hasNext(InterruptibleIterator.scala:37)\n\tat scala.collection.Iterator$$anon$12.hasNext(Iterator.scala:440)\n\tat scala.collection.Iterator$$anon$10.hasNext(Iterator.scala:390)\n\tat scala.collection.Iterator$class.foreach(Iterator.scala:891)\n\tat scala.collection.AbstractIterator.foreach(Iterator.scala:1334)\n\tat scala.collection.generic.Growable$class.$plus$plus$eq(Growable.scala:59)\n\tat scala.collection.mutable.ArrayBuffer.$plus$plus$eq(ArrayBuffer.scala:104)\n\tat scala.collection.mutable.ArrayBuffer.$plus$plus$eq(ArrayBuffer.scala:48)\n\tat scala.collection.TraversableOnce$class.to(TraversableOnce.scala:310)\n\tat scala.collection.AbstractIterator.to(Iterator.scala:1334)\n\tat scala.collection.TraversableOnce$class.toBuffer(TraversableOnce.scala:302)\n\tat scala.collection.AbstractIterator.toBuffer(Iterator.scala:1334)\n\tat scala.collection.TraversableOnce$class.toArray(TraversableOnce.scala:289)\n\tat scala.collection.AbstractIterator.toArray(Iterator.scala:1334)\n\tat org.apache.spark.rdd.RDD$$anonfun$take$1$$anonfun$29.apply(RDD.scala:1364)\n\tat org.apache.spark.rdd.RDD$$anonfun$take$1$$anonfun$29.apply(RDD.scala:1364)\n\tat org.apache.spark.SparkContext$$anonfun$runJob$5.apply(SparkContext.scala:2101)\n\tat org.apache.spark.SparkContext$$anonfun$runJob$5.apply(SparkContext.scala:2101)\n\tat org.apache.spark.scheduler.ResultTask.runTask(ResultTask.scala:90)\n\tat org.apache.spark.scheduler.Task.run(Task.scala:121)\n\tat org.apache.spark.executor.Executor$TaskRunner$$anonfun$10.apply(Executor.scala:402)\n\tat org.apache.spark.util.Utils$.tryWithSafeFinally(Utils.scala:1360)\n\tat org.apache.spark.executor.Executor$TaskRunner.run(Executor.scala:408)\n\tat java.util.concurrent.ThreadPoolExecutor.runWorker(ThreadPoolExecutor.java:1149)\n\tat java.util.concurrent.ThreadPoolExecutor$Worker.run(ThreadPoolExecutor.java:624)\n\tat java.lang.Thread.run(Thread.java:748)\n\nDriver stacktrace:\n\tat org.apache.spark.scheduler.DAGScheduler.org$apache$spark$scheduler$DAGScheduler$$failJobAndIndependentStages(DAGScheduler.scala:1887)\n\tat org.apache.spark.scheduler.DAGScheduler$$anonfun$abortStage$1.apply(DAGScheduler.scala:1875)\n\tat org.apache.spark.scheduler.DAGScheduler$$anonfun$abortStage$1.apply(DAGScheduler.scala:1874)\n\tat scala.collection.mutable.ResizableArray$class.foreach(ResizableArray.scala:59)\n\tat scala.collection.mutable.ArrayBuffer.foreach(ArrayBuffer.scala:48)\n\tat org.apache.spark.scheduler.DAGScheduler.abortStage(DAGScheduler.scala:1874)\n\tat org.apache.spark.scheduler.DAGScheduler$$anonfun$handleTaskSetFailed$1.apply(DAGScheduler.scala:926)\n\tat org.apache.spark.scheduler.DAGScheduler$$anonfun$handleTaskSetFailed$1.apply(DAGScheduler.scala:926)\n\tat scala.Option.foreach(Option.scala:257)\n\tat org.apache.spark.scheduler.DAGScheduler.handleTaskSetFailed(DAGScheduler.scala:926)\n\tat org.apache.spark.scheduler.DAGSchedulerEventProcessLoop.doOnReceive(DAGScheduler.scala:2108)\n\tat org.apache.spark.scheduler.DAGSchedulerEventProcessLoop.onReceive(DAGScheduler.scala:2057)\n\tat org.apache.spark.scheduler.DAGSchedulerEventProcessLoop.onReceive(DAGScheduler.scala:2046)\n\tat org.apache.spark.util.EventLoop$$anon$1.run(EventLoop.scala:49)\n\tat org.apache.spark.scheduler.DAGScheduler.runJob(DAGScheduler.scala:737)\n\tat org.apache.spark.SparkContext.runJob(SparkContext.scala:2061)\n\tat org.apache.spark.SparkContext.runJob(SparkContext.scala:2082)\n\tat org.apache.spark.SparkContext.runJob(SparkContext.scala:2101)\n\tat org.apache.spark.rdd.RDD$$anonfun$take$1.apply(RDD.scala:1364)\n\tat org.apache.spark.rdd.RDDOperationScope$.withScope(RDDOperationScope.scala:151)\n\tat org.apache.spark.rdd.RDDOperationScope$.withScope(RDDOperationScope.scala:112)\n\tat org.apache.spark.rdd.RDD.withScope(RDD.scala:363)\n\tat org.apache.spark.rdd.RDD.take(RDD.scala:1337)\n\tat org.apache.spark.rdd.RDD$$anonfun$first$1.apply(RDD.scala:1378)\n\tat org.apache.spark.rdd.RDDOperationScope$.withScope(RDDOperationScope.scala:151)\n\tat org.apache.spark.rdd.RDDOperationScope$.withScope(RDDOperationScope.scala:112)\n\tat org.apache.spark.rdd.RDD.withScope(RDD.scala:363)\n\tat org.apache.spark.rdd.RDD.first(RDD.scala:1377)\n\tat org.apache.spark.mllib.linalg.distributed.RowMatrix.numCols(RowMatrix.scala:61)\n\tat org.apache.spark.mllib.linalg.distributed.RowMatrix.computeCovariance(RowMatrix.scala:331)\n\tat org.apache.spark.mllib.stat.correlation.PearsonCorrelation$.computeCorrelationMatrix(PearsonCorrelation.scala:49)\n\tat org.apache.spark.mllib.stat.correlation.Correlations$.corrMatrix(Correlation.scala:66)\n\tat org.apache.spark.mllib.stat.Statistics$.corr(Statistics.scala:74)\n\tat org.apache.spark.mllib.api.python.PythonMLLibAPI.corr(PythonMLLibAPI.scala:843)\n\tat sun.reflect.NativeMethodAccessorImpl.invoke0(Native Method)\n\tat sun.reflect.NativeMethodAccessorImpl.invoke(NativeMethodAccessorImpl.java:62)\n\tat sun.reflect.DelegatingMethodAccessorImpl.invoke(DelegatingMethodAccessorImpl.java:43)\n\tat java.lang.reflect.Method.invoke(Method.java:498)\n\tat py4j.reflection.MethodInvoker.invoke(MethodInvoker.java:244)\n\tat py4j.reflection.ReflectionEngine.invoke(ReflectionEngine.java:357)\n\tat py4j.Gateway.invoke(Gateway.java:282)\n\tat py4j.commands.AbstractCommand.invokeMethod(AbstractCommand.java:132)\n\tat py4j.commands.CallCommand.execute(CallCommand.java:79)\n\tat py4j.GatewayConnection.run(GatewayConnection.java:238)\n\tat java.lang.Thread.run(Thread.java:748)\nCaused by: org.apache.spark.api.python.PythonException: Traceback (most recent call last):\n  File \"/home/gazizullina150/anaconda3/lib/python3.7/site-packages/pyspark/python/lib/pyspark.zip/pyspark/worker.py\", line 372, in main\n    process()\n  File \"/home/gazizullina150/anaconda3/lib/python3.7/site-packages/pyspark/python/lib/pyspark.zip/pyspark/worker.py\", line 367, in process\n    serializer.dump_stream(func(split_index, iterator), outfile)\n  File \"/home/gazizullina150/anaconda3/lib/python3.7/site-packages/pyspark/python/lib/pyspark.zip/pyspark/serializers.py\", line 390, in dump_stream\n    vs = list(itertools.islice(iterator, batch))\n  File \"/home/gazizullina150/anaconda3/lib/python3.7/site-packages/pyspark/python/lib/pyspark.zip/pyspark/util.py\", line 99, in wrapper\n    return f(*args, **kwargs)\n  File \"/home/gazizullina150/anaconda3/lib/python3.7/site-packages/pyspark/python/lib/pyspark.zip/pyspark/mllib/linalg/__init__.py\", line 83, in _convert_to_vector\n    raise TypeError(\"Cannot convert type %s into Vector\" % type(l))\nTypeError: Cannot convert type <class 'pyspark.sql.types.Row'> into Vector\n\n\tat org.apache.spark.api.python.BasePythonRunner$ReaderIterator.handlePythonException(PythonRunner.scala:452)\n\tat org.apache.spark.api.python.PythonRunner$$anon$1.read(PythonRunner.scala:588)\n\tat org.apache.spark.api.python.PythonRunner$$anon$1.read(PythonRunner.scala:571)\n\tat org.apache.spark.api.python.BasePythonRunner$ReaderIterator.hasNext(PythonRunner.scala:406)\n\tat org.apache.spark.InterruptibleIterator.hasNext(InterruptibleIterator.scala:37)\n\tat scala.collection.Iterator$$anon$12.hasNext(Iterator.scala:440)\n\tat scala.collection.Iterator$$anon$10.hasNext(Iterator.scala:390)\n\tat scala.collection.Iterator$class.foreach(Iterator.scala:891)\n\tat scala.collection.AbstractIterator.foreach(Iterator.scala:1334)\n\tat scala.collection.generic.Growable$class.$plus$plus$eq(Growable.scala:59)\n\tat scala.collection.mutable.ArrayBuffer.$plus$plus$eq(ArrayBuffer.scala:104)\n\tat scala.collection.mutable.ArrayBuffer.$plus$plus$eq(ArrayBuffer.scala:48)\n\tat scala.collection.TraversableOnce$class.to(TraversableOnce.scala:310)\n\tat scala.collection.AbstractIterator.to(Iterator.scala:1334)\n\tat scala.collection.TraversableOnce$class.toBuffer(TraversableOnce.scala:302)\n\tat scala.collection.AbstractIterator.toBuffer(Iterator.scala:1334)\n\tat scala.collection.TraversableOnce$class.toArray(TraversableOnce.scala:289)\n\tat scala.collection.AbstractIterator.toArray(Iterator.scala:1334)\n\tat org.apache.spark.rdd.RDD$$anonfun$take$1$$anonfun$29.apply(RDD.scala:1364)\n\tat org.apache.spark.rdd.RDD$$anonfun$take$1$$anonfun$29.apply(RDD.scala:1364)\n\tat org.apache.spark.SparkContext$$anonfun$runJob$5.apply(SparkContext.scala:2101)\n\tat org.apache.spark.SparkContext$$anonfun$runJob$5.apply(SparkContext.scala:2101)\n\tat org.apache.spark.scheduler.ResultTask.runTask(ResultTask.scala:90)\n\tat org.apache.spark.scheduler.Task.run(Task.scala:121)\n\tat org.apache.spark.executor.Executor$TaskRunner$$anonfun$10.apply(Executor.scala:402)\n\tat org.apache.spark.util.Utils$.tryWithSafeFinally(Utils.scala:1360)\n\tat org.apache.spark.executor.Executor$TaskRunner.run(Executor.scala:408)\n\tat java.util.concurrent.ThreadPoolExecutor.runWorker(ThreadPoolExecutor.java:1149)\n\tat java.util.concurrent.ThreadPoolExecutor$Worker.run(ThreadPoolExecutor.java:624)\n\t... 1 more\n",
     "output_type": "error",
     "traceback": [
      "\u001b[0;31m---------------------------------------------------------------------------\u001b[0m",
      "\u001b[0;31mPy4JJavaError\u001b[0m                             Traceback (most recent call last)",
      "\u001b[0;32m<ipython-input-295-01eacfab9b98>\u001b[0m in \u001b[0;36m<module>\u001b[0;34m()\u001b[0m\n\u001b[1;32m      3\u001b[0m \u001b[0;34m\u001b[0m\u001b[0m\n\u001b[1;32m      4\u001b[0m \u001b[0mdf_rdd\u001b[0m \u001b[0;34m=\u001b[0m \u001b[0mdf\u001b[0m\u001b[0;34m.\u001b[0m\u001b[0mrdd\u001b[0m\u001b[0;34m.\u001b[0m\u001b[0mmap\u001b[0m\u001b[0;34m(\u001b[0m\u001b[0;32mlambda\u001b[0m \u001b[0mrow\u001b[0m\u001b[0;34m:\u001b[0m \u001b[0mrow\u001b[0m\u001b[0;34m)\u001b[0m\u001b[0;34m\u001b[0m\u001b[0m\n\u001b[0;32m----> 5\u001b[0;31m \u001b[0mcorr_matrix\u001b[0m \u001b[0;34m=\u001b[0m \u001b[0mStatistics\u001b[0m\u001b[0;34m.\u001b[0m\u001b[0mcorr\u001b[0m\u001b[0;34m(\u001b[0m\u001b[0mdf_rdd\u001b[0m\u001b[0;34m,\u001b[0m \u001b[0mmethod\u001b[0m\u001b[0;34m=\u001b[0m\u001b[0;34m'pearson'\u001b[0m\u001b[0;34m)\u001b[0m\u001b[0;34m\u001b[0m\u001b[0m\n\u001b[0m\u001b[1;32m      6\u001b[0m corr_mat_df = pd.DataFrame(corr_mat,\n\u001b[1;32m      7\u001b[0m                     \u001b[0mcolumns\u001b[0m\u001b[0;34m=\u001b[0m\u001b[0mdf\u001b[0m\u001b[0;34m.\u001b[0m\u001b[0mcolumns\u001b[0m\u001b[0;34m,\u001b[0m\u001b[0;34m\u001b[0m\u001b[0m\n",
      "\u001b[0;32m~/anaconda3/lib/python3.7/site-packages/pyspark/mllib/stat/_statistics.py\u001b[0m in \u001b[0;36mcorr\u001b[0;34m(x, y, method)\u001b[0m\n\u001b[1;32m    153\u001b[0m \u001b[0;34m\u001b[0m\u001b[0m\n\u001b[1;32m    154\u001b[0m         \u001b[0;32mif\u001b[0m \u001b[0;32mnot\u001b[0m \u001b[0my\u001b[0m\u001b[0;34m:\u001b[0m\u001b[0;34m\u001b[0m\u001b[0m\n\u001b[0;32m--> 155\u001b[0;31m             \u001b[0;32mreturn\u001b[0m \u001b[0mcallMLlibFunc\u001b[0m\u001b[0;34m(\u001b[0m\u001b[0;34m\"corr\"\u001b[0m\u001b[0;34m,\u001b[0m \u001b[0mx\u001b[0m\u001b[0;34m.\u001b[0m\u001b[0mmap\u001b[0m\u001b[0;34m(\u001b[0m\u001b[0m_convert_to_vector\u001b[0m\u001b[0;34m)\u001b[0m\u001b[0;34m,\u001b[0m \u001b[0mmethod\u001b[0m\u001b[0;34m)\u001b[0m\u001b[0;34m.\u001b[0m\u001b[0mtoArray\u001b[0m\u001b[0;34m(\u001b[0m\u001b[0;34m)\u001b[0m\u001b[0;34m\u001b[0m\u001b[0m\n\u001b[0m\u001b[1;32m    156\u001b[0m         \u001b[0;32melse\u001b[0m\u001b[0;34m:\u001b[0m\u001b[0;34m\u001b[0m\u001b[0m\n\u001b[1;32m    157\u001b[0m             \u001b[0;32mreturn\u001b[0m \u001b[0mcallMLlibFunc\u001b[0m\u001b[0;34m(\u001b[0m\u001b[0;34m\"corr\"\u001b[0m\u001b[0;34m,\u001b[0m \u001b[0mx\u001b[0m\u001b[0;34m.\u001b[0m\u001b[0mmap\u001b[0m\u001b[0;34m(\u001b[0m\u001b[0mfloat\u001b[0m\u001b[0;34m)\u001b[0m\u001b[0;34m,\u001b[0m \u001b[0my\u001b[0m\u001b[0;34m.\u001b[0m\u001b[0mmap\u001b[0m\u001b[0;34m(\u001b[0m\u001b[0mfloat\u001b[0m\u001b[0;34m)\u001b[0m\u001b[0;34m,\u001b[0m \u001b[0mmethod\u001b[0m\u001b[0;34m)\u001b[0m\u001b[0;34m\u001b[0m\u001b[0m\n",
      "\u001b[0;32m~/anaconda3/lib/python3.7/site-packages/pyspark/mllib/common.py\u001b[0m in \u001b[0;36mcallMLlibFunc\u001b[0;34m(name, *args)\u001b[0m\n\u001b[1;32m    128\u001b[0m     \u001b[0msc\u001b[0m \u001b[0;34m=\u001b[0m \u001b[0mSparkContext\u001b[0m\u001b[0;34m.\u001b[0m\u001b[0mgetOrCreate\u001b[0m\u001b[0;34m(\u001b[0m\u001b[0;34m)\u001b[0m\u001b[0;34m\u001b[0m\u001b[0m\n\u001b[1;32m    129\u001b[0m     \u001b[0mapi\u001b[0m \u001b[0;34m=\u001b[0m \u001b[0mgetattr\u001b[0m\u001b[0;34m(\u001b[0m\u001b[0msc\u001b[0m\u001b[0;34m.\u001b[0m\u001b[0m_jvm\u001b[0m\u001b[0;34m.\u001b[0m\u001b[0mPythonMLLibAPI\u001b[0m\u001b[0;34m(\u001b[0m\u001b[0;34m)\u001b[0m\u001b[0;34m,\u001b[0m \u001b[0mname\u001b[0m\u001b[0;34m)\u001b[0m\u001b[0;34m\u001b[0m\u001b[0m\n\u001b[0;32m--> 130\u001b[0;31m     \u001b[0;32mreturn\u001b[0m \u001b[0mcallJavaFunc\u001b[0m\u001b[0;34m(\u001b[0m\u001b[0msc\u001b[0m\u001b[0;34m,\u001b[0m \u001b[0mapi\u001b[0m\u001b[0;34m,\u001b[0m \u001b[0;34m*\u001b[0m\u001b[0margs\u001b[0m\u001b[0;34m)\u001b[0m\u001b[0;34m\u001b[0m\u001b[0m\n\u001b[0m\u001b[1;32m    131\u001b[0m \u001b[0;34m\u001b[0m\u001b[0m\n\u001b[1;32m    132\u001b[0m \u001b[0;34m\u001b[0m\u001b[0m\n",
      "\u001b[0;32m~/anaconda3/lib/python3.7/site-packages/pyspark/mllib/common.py\u001b[0m in \u001b[0;36mcallJavaFunc\u001b[0;34m(sc, func, *args)\u001b[0m\n\u001b[1;32m    121\u001b[0m     \u001b[0;34m\"\"\" Call Java Function \"\"\"\u001b[0m\u001b[0;34m\u001b[0m\u001b[0m\n\u001b[1;32m    122\u001b[0m     \u001b[0margs\u001b[0m \u001b[0;34m=\u001b[0m \u001b[0;34m[\u001b[0m\u001b[0m_py2java\u001b[0m\u001b[0;34m(\u001b[0m\u001b[0msc\u001b[0m\u001b[0;34m,\u001b[0m \u001b[0ma\u001b[0m\u001b[0;34m)\u001b[0m \u001b[0;32mfor\u001b[0m \u001b[0ma\u001b[0m \u001b[0;32min\u001b[0m \u001b[0margs\u001b[0m\u001b[0;34m]\u001b[0m\u001b[0;34m\u001b[0m\u001b[0m\n\u001b[0;32m--> 123\u001b[0;31m     \u001b[0;32mreturn\u001b[0m \u001b[0m_java2py\u001b[0m\u001b[0;34m(\u001b[0m\u001b[0msc\u001b[0m\u001b[0;34m,\u001b[0m \u001b[0mfunc\u001b[0m\u001b[0;34m(\u001b[0m\u001b[0;34m*\u001b[0m\u001b[0margs\u001b[0m\u001b[0;34m)\u001b[0m\u001b[0;34m)\u001b[0m\u001b[0;34m\u001b[0m\u001b[0m\n\u001b[0m\u001b[1;32m    124\u001b[0m \u001b[0;34m\u001b[0m\u001b[0m\n\u001b[1;32m    125\u001b[0m \u001b[0;34m\u001b[0m\u001b[0m\n",
      "\u001b[0;32m~/anaconda3/lib/python3.7/site-packages/py4j/java_gateway.py\u001b[0m in \u001b[0;36m__call__\u001b[0;34m(self, *args)\u001b[0m\n\u001b[1;32m   1255\u001b[0m         \u001b[0manswer\u001b[0m \u001b[0;34m=\u001b[0m \u001b[0mself\u001b[0m\u001b[0;34m.\u001b[0m\u001b[0mgateway_client\u001b[0m\u001b[0;34m.\u001b[0m\u001b[0msend_command\u001b[0m\u001b[0;34m(\u001b[0m\u001b[0mcommand\u001b[0m\u001b[0;34m)\u001b[0m\u001b[0;34m\u001b[0m\u001b[0m\n\u001b[1;32m   1256\u001b[0m         return_value = get_return_value(\n\u001b[0;32m-> 1257\u001b[0;31m             answer, self.gateway_client, self.target_id, self.name)\n\u001b[0m\u001b[1;32m   1258\u001b[0m \u001b[0;34m\u001b[0m\u001b[0m\n\u001b[1;32m   1259\u001b[0m         \u001b[0;32mfor\u001b[0m \u001b[0mtemp_arg\u001b[0m \u001b[0;32min\u001b[0m \u001b[0mtemp_args\u001b[0m\u001b[0;34m:\u001b[0m\u001b[0;34m\u001b[0m\u001b[0m\n",
      "\u001b[0;32m~/anaconda3/lib/python3.7/site-packages/pyspark/sql/utils.py\u001b[0m in \u001b[0;36mdeco\u001b[0;34m(*a, **kw)\u001b[0m\n\u001b[1;32m     61\u001b[0m     \u001b[0;32mdef\u001b[0m \u001b[0mdeco\u001b[0m\u001b[0;34m(\u001b[0m\u001b[0;34m*\u001b[0m\u001b[0ma\u001b[0m\u001b[0;34m,\u001b[0m \u001b[0;34m**\u001b[0m\u001b[0mkw\u001b[0m\u001b[0;34m)\u001b[0m\u001b[0;34m:\u001b[0m\u001b[0;34m\u001b[0m\u001b[0m\n\u001b[1;32m     62\u001b[0m         \u001b[0;32mtry\u001b[0m\u001b[0;34m:\u001b[0m\u001b[0;34m\u001b[0m\u001b[0m\n\u001b[0;32m---> 63\u001b[0;31m             \u001b[0;32mreturn\u001b[0m \u001b[0mf\u001b[0m\u001b[0;34m(\u001b[0m\u001b[0;34m*\u001b[0m\u001b[0ma\u001b[0m\u001b[0;34m,\u001b[0m \u001b[0;34m**\u001b[0m\u001b[0mkw\u001b[0m\u001b[0;34m)\u001b[0m\u001b[0;34m\u001b[0m\u001b[0m\n\u001b[0m\u001b[1;32m     64\u001b[0m         \u001b[0;32mexcept\u001b[0m \u001b[0mpy4j\u001b[0m\u001b[0;34m.\u001b[0m\u001b[0mprotocol\u001b[0m\u001b[0;34m.\u001b[0m\u001b[0mPy4JJavaError\u001b[0m \u001b[0;32mas\u001b[0m \u001b[0me\u001b[0m\u001b[0;34m:\u001b[0m\u001b[0;34m\u001b[0m\u001b[0m\n\u001b[1;32m     65\u001b[0m             \u001b[0ms\u001b[0m \u001b[0;34m=\u001b[0m \u001b[0me\u001b[0m\u001b[0;34m.\u001b[0m\u001b[0mjava_exception\u001b[0m\u001b[0;34m.\u001b[0m\u001b[0mtoString\u001b[0m\u001b[0;34m(\u001b[0m\u001b[0;34m)\u001b[0m\u001b[0;34m\u001b[0m\u001b[0m\n",
      "\u001b[0;32m~/anaconda3/lib/python3.7/site-packages/py4j/protocol.py\u001b[0m in \u001b[0;36mget_return_value\u001b[0;34m(answer, gateway_client, target_id, name)\u001b[0m\n\u001b[1;32m    326\u001b[0m                 raise Py4JJavaError(\n\u001b[1;32m    327\u001b[0m                     \u001b[0;34m\"An error occurred while calling {0}{1}{2}.\\n\"\u001b[0m\u001b[0;34m.\u001b[0m\u001b[0;34m\u001b[0m\u001b[0m\n\u001b[0;32m--> 328\u001b[0;31m                     format(target_id, \".\", name), value)\n\u001b[0m\u001b[1;32m    329\u001b[0m             \u001b[0;32melse\u001b[0m\u001b[0;34m:\u001b[0m\u001b[0;34m\u001b[0m\u001b[0m\n\u001b[1;32m    330\u001b[0m                 raise Py4JError(\n",
      "\u001b[0;31mPy4JJavaError\u001b[0m: An error occurred while calling o3501.corr.\n: org.apache.spark.SparkException: Job aborted due to stage failure: Task 0 in stage 200.0 failed 1 times, most recent failure: Lost task 0.0 in stage 200.0 (TID 4105, localhost, executor driver): org.apache.spark.api.python.PythonException: Traceback (most recent call last):\n  File \"/home/gazizullina150/anaconda3/lib/python3.7/site-packages/pyspark/python/lib/pyspark.zip/pyspark/worker.py\", line 372, in main\n    process()\n  File \"/home/gazizullina150/anaconda3/lib/python3.7/site-packages/pyspark/python/lib/pyspark.zip/pyspark/worker.py\", line 367, in process\n    serializer.dump_stream(func(split_index, iterator), outfile)\n  File \"/home/gazizullina150/anaconda3/lib/python3.7/site-packages/pyspark/python/lib/pyspark.zip/pyspark/serializers.py\", line 390, in dump_stream\n    vs = list(itertools.islice(iterator, batch))\n  File \"/home/gazizullina150/anaconda3/lib/python3.7/site-packages/pyspark/python/lib/pyspark.zip/pyspark/util.py\", line 99, in wrapper\n    return f(*args, **kwargs)\n  File \"/home/gazizullina150/anaconda3/lib/python3.7/site-packages/pyspark/python/lib/pyspark.zip/pyspark/mllib/linalg/__init__.py\", line 83, in _convert_to_vector\n    raise TypeError(\"Cannot convert type %s into Vector\" % type(l))\nTypeError: Cannot convert type <class 'pyspark.sql.types.Row'> into Vector\n\n\tat org.apache.spark.api.python.BasePythonRunner$ReaderIterator.handlePythonException(PythonRunner.scala:452)\n\tat org.apache.spark.api.python.PythonRunner$$anon$1.read(PythonRunner.scala:588)\n\tat org.apache.spark.api.python.PythonRunner$$anon$1.read(PythonRunner.scala:571)\n\tat org.apache.spark.api.python.BasePythonRunner$ReaderIterator.hasNext(PythonRunner.scala:406)\n\tat org.apache.spark.InterruptibleIterator.hasNext(InterruptibleIterator.scala:37)\n\tat scala.collection.Iterator$$anon$12.hasNext(Iterator.scala:440)\n\tat scala.collection.Iterator$$anon$10.hasNext(Iterator.scala:390)\n\tat scala.collection.Iterator$class.foreach(Iterator.scala:891)\n\tat scala.collection.AbstractIterator.foreach(Iterator.scala:1334)\n\tat scala.collection.generic.Growable$class.$plus$plus$eq(Growable.scala:59)\n\tat scala.collection.mutable.ArrayBuffer.$plus$plus$eq(ArrayBuffer.scala:104)\n\tat scala.collection.mutable.ArrayBuffer.$plus$plus$eq(ArrayBuffer.scala:48)\n\tat scala.collection.TraversableOnce$class.to(TraversableOnce.scala:310)\n\tat scala.collection.AbstractIterator.to(Iterator.scala:1334)\n\tat scala.collection.TraversableOnce$class.toBuffer(TraversableOnce.scala:302)\n\tat scala.collection.AbstractIterator.toBuffer(Iterator.scala:1334)\n\tat scala.collection.TraversableOnce$class.toArray(TraversableOnce.scala:289)\n\tat scala.collection.AbstractIterator.toArray(Iterator.scala:1334)\n\tat org.apache.spark.rdd.RDD$$anonfun$take$1$$anonfun$29.apply(RDD.scala:1364)\n\tat org.apache.spark.rdd.RDD$$anonfun$take$1$$anonfun$29.apply(RDD.scala:1364)\n\tat org.apache.spark.SparkContext$$anonfun$runJob$5.apply(SparkContext.scala:2101)\n\tat org.apache.spark.SparkContext$$anonfun$runJob$5.apply(SparkContext.scala:2101)\n\tat org.apache.spark.scheduler.ResultTask.runTask(ResultTask.scala:90)\n\tat org.apache.spark.scheduler.Task.run(Task.scala:121)\n\tat org.apache.spark.executor.Executor$TaskRunner$$anonfun$10.apply(Executor.scala:402)\n\tat org.apache.spark.util.Utils$.tryWithSafeFinally(Utils.scala:1360)\n\tat org.apache.spark.executor.Executor$TaskRunner.run(Executor.scala:408)\n\tat java.util.concurrent.ThreadPoolExecutor.runWorker(ThreadPoolExecutor.java:1149)\n\tat java.util.concurrent.ThreadPoolExecutor$Worker.run(ThreadPoolExecutor.java:624)\n\tat java.lang.Thread.run(Thread.java:748)\n\nDriver stacktrace:\n\tat org.apache.spark.scheduler.DAGScheduler.org$apache$spark$scheduler$DAGScheduler$$failJobAndIndependentStages(DAGScheduler.scala:1887)\n\tat org.apache.spark.scheduler.DAGScheduler$$anonfun$abortStage$1.apply(DAGScheduler.scala:1875)\n\tat org.apache.spark.scheduler.DAGScheduler$$anonfun$abortStage$1.apply(DAGScheduler.scala:1874)\n\tat scala.collection.mutable.ResizableArray$class.foreach(ResizableArray.scala:59)\n\tat scala.collection.mutable.ArrayBuffer.foreach(ArrayBuffer.scala:48)\n\tat org.apache.spark.scheduler.DAGScheduler.abortStage(DAGScheduler.scala:1874)\n\tat org.apache.spark.scheduler.DAGScheduler$$anonfun$handleTaskSetFailed$1.apply(DAGScheduler.scala:926)\n\tat org.apache.spark.scheduler.DAGScheduler$$anonfun$handleTaskSetFailed$1.apply(DAGScheduler.scala:926)\n\tat scala.Option.foreach(Option.scala:257)\n\tat org.apache.spark.scheduler.DAGScheduler.handleTaskSetFailed(DAGScheduler.scala:926)\n\tat org.apache.spark.scheduler.DAGSchedulerEventProcessLoop.doOnReceive(DAGScheduler.scala:2108)\n\tat org.apache.spark.scheduler.DAGSchedulerEventProcessLoop.onReceive(DAGScheduler.scala:2057)\n\tat org.apache.spark.scheduler.DAGSchedulerEventProcessLoop.onReceive(DAGScheduler.scala:2046)\n\tat org.apache.spark.util.EventLoop$$anon$1.run(EventLoop.scala:49)\n\tat org.apache.spark.scheduler.DAGScheduler.runJob(DAGScheduler.scala:737)\n\tat org.apache.spark.SparkContext.runJob(SparkContext.scala:2061)\n\tat org.apache.spark.SparkContext.runJob(SparkContext.scala:2082)\n\tat org.apache.spark.SparkContext.runJob(SparkContext.scala:2101)\n\tat org.apache.spark.rdd.RDD$$anonfun$take$1.apply(RDD.scala:1364)\n\tat org.apache.spark.rdd.RDDOperationScope$.withScope(RDDOperationScope.scala:151)\n\tat org.apache.spark.rdd.RDDOperationScope$.withScope(RDDOperationScope.scala:112)\n\tat org.apache.spark.rdd.RDD.withScope(RDD.scala:363)\n\tat org.apache.spark.rdd.RDD.take(RDD.scala:1337)\n\tat org.apache.spark.rdd.RDD$$anonfun$first$1.apply(RDD.scala:1378)\n\tat org.apache.spark.rdd.RDDOperationScope$.withScope(RDDOperationScope.scala:151)\n\tat org.apache.spark.rdd.RDDOperationScope$.withScope(RDDOperationScope.scala:112)\n\tat org.apache.spark.rdd.RDD.withScope(RDD.scala:363)\n\tat org.apache.spark.rdd.RDD.first(RDD.scala:1377)\n\tat org.apache.spark.mllib.linalg.distributed.RowMatrix.numCols(RowMatrix.scala:61)\n\tat org.apache.spark.mllib.linalg.distributed.RowMatrix.computeCovariance(RowMatrix.scala:331)\n\tat org.apache.spark.mllib.stat.correlation.PearsonCorrelation$.computeCorrelationMatrix(PearsonCorrelation.scala:49)\n\tat org.apache.spark.mllib.stat.correlation.Correlations$.corrMatrix(Correlation.scala:66)\n\tat org.apache.spark.mllib.stat.Statistics$.corr(Statistics.scala:74)\n\tat org.apache.spark.mllib.api.python.PythonMLLibAPI.corr(PythonMLLibAPI.scala:843)\n\tat sun.reflect.NativeMethodAccessorImpl.invoke0(Native Method)\n\tat sun.reflect.NativeMethodAccessorImpl.invoke(NativeMethodAccessorImpl.java:62)\n\tat sun.reflect.DelegatingMethodAccessorImpl.invoke(DelegatingMethodAccessorImpl.java:43)\n\tat java.lang.reflect.Method.invoke(Method.java:498)\n\tat py4j.reflection.MethodInvoker.invoke(MethodInvoker.java:244)\n\tat py4j.reflection.ReflectionEngine.invoke(ReflectionEngine.java:357)\n\tat py4j.Gateway.invoke(Gateway.java:282)\n\tat py4j.commands.AbstractCommand.invokeMethod(AbstractCommand.java:132)\n\tat py4j.commands.CallCommand.execute(CallCommand.java:79)\n\tat py4j.GatewayConnection.run(GatewayConnection.java:238)\n\tat java.lang.Thread.run(Thread.java:748)\nCaused by: org.apache.spark.api.python.PythonException: Traceback (most recent call last):\n  File \"/home/gazizullina150/anaconda3/lib/python3.7/site-packages/pyspark/python/lib/pyspark.zip/pyspark/worker.py\", line 372, in main\n    process()\n  File \"/home/gazizullina150/anaconda3/lib/python3.7/site-packages/pyspark/python/lib/pyspark.zip/pyspark/worker.py\", line 367, in process\n    serializer.dump_stream(func(split_index, iterator), outfile)\n  File \"/home/gazizullina150/anaconda3/lib/python3.7/site-packages/pyspark/python/lib/pyspark.zip/pyspark/serializers.py\", line 390, in dump_stream\n    vs = list(itertools.islice(iterator, batch))\n  File \"/home/gazizullina150/anaconda3/lib/python3.7/site-packages/pyspark/python/lib/pyspark.zip/pyspark/util.py\", line 99, in wrapper\n    return f(*args, **kwargs)\n  File \"/home/gazizullina150/anaconda3/lib/python3.7/site-packages/pyspark/python/lib/pyspark.zip/pyspark/mllib/linalg/__init__.py\", line 83, in _convert_to_vector\n    raise TypeError(\"Cannot convert type %s into Vector\" % type(l))\nTypeError: Cannot convert type <class 'pyspark.sql.types.Row'> into Vector\n\n\tat org.apache.spark.api.python.BasePythonRunner$ReaderIterator.handlePythonException(PythonRunner.scala:452)\n\tat org.apache.spark.api.python.PythonRunner$$anon$1.read(PythonRunner.scala:588)\n\tat org.apache.spark.api.python.PythonRunner$$anon$1.read(PythonRunner.scala:571)\n\tat org.apache.spark.api.python.BasePythonRunner$ReaderIterator.hasNext(PythonRunner.scala:406)\n\tat org.apache.spark.InterruptibleIterator.hasNext(InterruptibleIterator.scala:37)\n\tat scala.collection.Iterator$$anon$12.hasNext(Iterator.scala:440)\n\tat scala.collection.Iterator$$anon$10.hasNext(Iterator.scala:390)\n\tat scala.collection.Iterator$class.foreach(Iterator.scala:891)\n\tat scala.collection.AbstractIterator.foreach(Iterator.scala:1334)\n\tat scala.collection.generic.Growable$class.$plus$plus$eq(Growable.scala:59)\n\tat scala.collection.mutable.ArrayBuffer.$plus$plus$eq(ArrayBuffer.scala:104)\n\tat scala.collection.mutable.ArrayBuffer.$plus$plus$eq(ArrayBuffer.scala:48)\n\tat scala.collection.TraversableOnce$class.to(TraversableOnce.scala:310)\n\tat scala.collection.AbstractIterator.to(Iterator.scala:1334)\n\tat scala.collection.TraversableOnce$class.toBuffer(TraversableOnce.scala:302)\n\tat scala.collection.AbstractIterator.toBuffer(Iterator.scala:1334)\n\tat scala.collection.TraversableOnce$class.toArray(TraversableOnce.scala:289)\n\tat scala.collection.AbstractIterator.toArray(Iterator.scala:1334)\n\tat org.apache.spark.rdd.RDD$$anonfun$take$1$$anonfun$29.apply(RDD.scala:1364)\n\tat org.apache.spark.rdd.RDD$$anonfun$take$1$$anonfun$29.apply(RDD.scala:1364)\n\tat org.apache.spark.SparkContext$$anonfun$runJob$5.apply(SparkContext.scala:2101)\n\tat org.apache.spark.SparkContext$$anonfun$runJob$5.apply(SparkContext.scala:2101)\n\tat org.apache.spark.scheduler.ResultTask.runTask(ResultTask.scala:90)\n\tat org.apache.spark.scheduler.Task.run(Task.scala:121)\n\tat org.apache.spark.executor.Executor$TaskRunner$$anonfun$10.apply(Executor.scala:402)\n\tat org.apache.spark.util.Utils$.tryWithSafeFinally(Utils.scala:1360)\n\tat org.apache.spark.executor.Executor$TaskRunner.run(Executor.scala:408)\n\tat java.util.concurrent.ThreadPoolExecutor.runWorker(ThreadPoolExecutor.java:1149)\n\tat java.util.concurrent.ThreadPoolExecutor$Worker.run(ThreadPoolExecutor.java:624)\n\t... 1 more\n"
     ]
    }
   ],
   "source": [
    "#from pyspark.mllib.stat import Statistics\n",
    "#import pandas as pd\n",
    "\n",
    "#df_rdd = df.rdd.map(lambda row: row)\n",
    "#corr_matrix = Statistics.corr(df_rdd, method='pearson')\n",
    "#corr_mat_df = pd.DataFrame(corr_mat,\n",
    "#                    columns=df.columns, \n",
    "#                    index=df.columns)"
   ]
  },
  {
   "cell_type": "markdown",
   "metadata": {},
   "source": [
    "## Q2: On average, how many tasks compose a job?"
   ]
  },
  {
   "cell_type": "markdown",
   "metadata": {},
   "source": [
    "Task Events Table\n",
    "1. timestamp\n",
    "2. missing info\n",
    "3. job ID\n",
    "4. task index - within the job\n",
    "5. machine ID\n",
    "6. event type\n",
    "7. user name\n",
    "8. scheduling class\n",
    "9. priority\n",
    "10. resource request for CPU cores\n",
    "11. resource request for RAM\n",
    "12. resource request for local disk space\n",
    "13. different-machine constraint"
   ]
  },
  {
   "cell_type": "code",
   "execution_count": 19,
   "metadata": {},
   "outputs": [
    {
     "name": "stdout",
     "output_type": "stream",
     "text": [
      "Step 1: [['0', '2', '3418309', '0', '4155527081', '0', '70s3v5qRyCO/1PCdI6fVXnrW8FU/w+5CKRSa72xgcIo=', '3', '9', '', '', '', ''], ['0', '2', '3418309', '1', '329150663', '0', '70s3v5qRyCO/1PCdI6fVXnrW8FU/w+5CKRSa72xgcIo=', '3', '9', '', '', '', ''], ['0', '', '3418314', '0', '3938719206', '0', '70s3v5qRyCO/1PCdI6fVXnrW8FU/w+5CKRSa72xgcIo=', '3', '9', '0.125', '0.07446', '0.0004244', '0'], ['0', '', '3418314', '1', '351618647', '0', '70s3v5qRyCO/1PCdI6fVXnrW8FU/w+5CKRSa72xgcIo=', '3', '9', '0.125', '0.07446', '0.0004244', '0'], ['0', '2', '3418319', '0', '431052910', '0', '70s3v5qRyCO/1PCdI6fVXnrW8FU/w+5CKRSa72xgcIo=', '3', '9', '', '', '', '']]\n",
      "Step 1: [('0', '3418309', '0', '4155527081', '0', '70s3v5qRyCO/1PCdI6fVXnrW8FU/w+5CKRSa72xgcIo=', '3', '9', '', '', '', ''), ('0', '3418309', '1', '329150663', '0', '70s3v5qRyCO/1PCdI6fVXnrW8FU/w+5CKRSa72xgcIo=', '3', '9', '', '', '', ''), ('0', '3418314', '0', '3938719206', '0', '70s3v5qRyCO/1PCdI6fVXnrW8FU/w+5CKRSa72xgcIo=', '3', '9', '0.125', '0.07446', '0.0004244', '0'), ('0', '3418314', '1', '351618647', '0', '70s3v5qRyCO/1PCdI6fVXnrW8FU/w+5CKRSa72xgcIo=', '3', '9', '0.125', '0.07446', '0.0004244', '0'), ('0', '3418319', '0', '431052910', '0', '70s3v5qRyCO/1PCdI6fVXnrW8FU/w+5CKRSa72xgcIo=', '3', '9', '', '', '', '')]\n",
      "Step 1: [('0', '3418309', '0', '4155527081', '0', '70s3v5qRyCO/1PCdI6fVXnrW8FU/w+5CKRSa72xgcIo=', '3', '9', '', '', '', ''), ('0', '3418309', '1', '329150663', '0', '70s3v5qRyCO/1PCdI6fVXnrW8FU/w+5CKRSa72xgcIo=', '3', '9', '', '', '', ''), ('0', '3418314', '0', '3938719206', '0', '70s3v5qRyCO/1PCdI6fVXnrW8FU/w+5CKRSa72xgcIo=', '3', '9', '0.125', '0.07446', '0.0004244', '0'), ('0', '3418314', '1', '351618647', '0', '70s3v5qRyCO/1PCdI6fVXnrW8FU/w+5CKRSa72xgcIo=', '3', '9', '0.125', '0.07446', '0.0004244', '0'), ('0', '3418319', '0', '431052910', '0', '70s3v5qRyCO/1PCdI6fVXnrW8FU/w+5CKRSa72xgcIo=', '3', '9', '', '', '', '')]\n"
     ]
    }
   ],
   "source": [
    "task_events = sc.textFile('../../datasets/task_events/part-00000-of-00500.csv.gz')\n",
    "task_events_RDD = task_events.map(lambda line: line.split(\",\"))\n",
    "print(\"Step 1: {}\".format(task_events_RDD.take(5)))\n",
    "task_events_RDD = task_events_RDD.map(lambda tokens: (tokens[0], tokens[2], tokens[3], tokens[4], tokens[5], tokens[6], tokens[7], tokens[8], tokens[9], tokens[10], tokens[11], tokens[12]))\n",
    "print(\"Step 1: {}\".format(task_events_RDD.take(5)))\n",
    "task_events_RDD = task_events_RDD.filter(lambda elem: elem[1] != '' and elem[2] != '' and elem[3] !='')\n",
    "print(\"Step 1: {}\".format(task_events_RDD.take(5)))\n",
    "sqlContext = SQLContext(sc)\n",
    "task_events_df = sqlContext.createDataFrame(task_events_RDD, schema=['timestamp', 'jobID', 'taskID', 'machineID', 'eventType', 'userName', 'schedulingClass', 'priority', 'CPUreq', 'RAMreq', 'diskreq', 'const'])"
   ]
  },
  {
   "cell_type": "code",
   "execution_count": 11,
   "metadata": {},
   "outputs": [],
   "source": [
    "##remove the machine with the id that corresponds to the one in the table machine event with event_type=1\n",
    "#task_events_df = task_events_df.join(machine_events_df, \"machineID\", \"leftanti\")"
   ]
  },
  {
   "cell_type": "code",
   "execution_count": 10,
   "metadata": {},
   "outputs": [],
   "source": [
    "from pyspark.sql.functions import *\n",
    "cnt_cond = lambda cond: F.sum(F.when(cond, 1).otherwise(0))\n",
    "dupes = task_events_df.groupBy('jobID').agg(collect_list('taskID').alias(\"taskIDs\"))\n",
    "dupes_rdd = dupes.rdd.map(lambda x: list(x)).map(lambda x: (x[0], len(list(set(x[1])))))"
   ]
  },
  {
   "cell_type": "code",
   "execution_count": 11,
   "metadata": {},
   "outputs": [
    {
     "data": {
      "text/plain": [
       "[('3350267310', 1), ('3760070065', 2), ('3800750574', 1)]"
      ]
     },
     "execution_count": 11,
     "metadata": {},
     "output_type": "execute_result"
    }
   ],
   "source": [
    "dupes_rdd.take(3)"
   ]
  },
  {
   "cell_type": "markdown",
   "metadata": {},
   "source": [
    "number of tasks per job on the average"
   ]
  },
  {
   "cell_type": "code",
   "execution_count": 14,
   "metadata": {},
   "outputs": [
    {
     "data": {
      "text/plain": [
       "36.82660381225661"
      ]
     },
     "execution_count": 14,
     "metadata": {},
     "output_type": "execute_result"
    }
   ],
   "source": [
    "dupes_rdd.values().sum()/dupes.count()"
   ]
  },
  {
   "cell_type": "markdown",
   "metadata": {},
   "source": [
    "## Q3: What is the percentage of jobs/tasks that got killed or evicted?"
   ]
  },
  {
   "cell_type": "markdown",
   "metadata": {},
   "source": [
    "1. timestamp\n",
    "2. missing info\n",
    "3. job ID\n",
    "4. event type\n",
    "5. user name\n",
    "6. scheduling class\n",
    "7. job name\n",
    "8. logical job name\n",
    "If a task or job that has just EVICTed, FAILed, or KILLed remains runnable, a SUBMIT event\n",
    "will appear immediately after the descheduling events. (I.e., the system tries to restart jobs\n",
    "and tasks that have failed.)\n",
    "\n",
    "This means that a job or task was submitted and immediately scheduled,\n",
    "or, if the timestamp on the events is 0, that the job or task was submitted and scheduled\n",
    "before the trace began.\n",
    "\n",
    "\n",
    "● SUBMIT (0): A task or job became eligible for scheduling.\n",
    "● SCHEDULE (1): A job or task was scheduled on a machine. (It may not start running\n",
    "immediately due to code-shipping time, etc.) For jobs, this occurs the first time any\n",
    "task of the job is scheduled on a machine.\n",
    "● EVICT(2): A task or job was descheduled because of a higher priority task or job,\n",
    "because the scheduler overcommitted and the actual demand exceeded the machine\n",
    "capacity, because the machine on which it was running became unusable (e.g. taken\n",
    "offline for repairs), or because a disk holding the task’s data was lost.\n",
    "● FAIL(3): A task or job was descheduled (or, in rare cases, ceased to be eligible for\n",
    "scheduling while it was pending) due to a task failure.\n",
    "● FINISH(4): A task or job completed normally.\n",
    "● KILL(5): A task or job was cancelled by the user or a driver program or because\n",
    "another job or task on which this job was dependent died.\n",
    "● LOST(6): A task or job was presumably terminated, but a record indicating its\n",
    "termination was missing from our source data.\n",
    "● UPDATE_PENDING(7): A task or job’s scheduling class, resource requirements, or\n",
    "constraints were updated while it was waiting to be scheduled.\n",
    "● UPDATE_RUNNING(8): A task or job’s scheduling class, resource requirements, or\n",
    "constraints were updated while it was scheduled."
   ]
  },
  {
   "cell_type": "code",
   "execution_count": 7,
   "metadata": {},
   "outputs": [],
   "source": [
    "jobs_dir = '../../datasets/job_events/'\n",
    "list_of_jobs = [os.path.join(jobs_dir, o) for o in os.listdir(jobs_dir) if os.path.splitext(o)[-1].lower()=='.gz']"
   ]
  },
  {
   "cell_type": "code",
   "execution_count": 8,
   "metadata": {},
   "outputs": [],
   "source": [
    "tasks_dir = '../../datasets/task_events/'\n",
    "list_of_tasks = [os.path.join(tasks_dir, o) for o in os.listdir(tasks_dir) if os.path.splitext(o)[-1].lower()=='.gz']"
   ]
  },
  {
   "cell_type": "code",
   "execution_count": 9,
   "metadata": {},
   "outputs": [
    {
     "name": "stdout",
     "output_type": "stream",
     "text": [
      "Step 1: [('1639265380304', '6408251525', 4, 'jVEIdGnEYLp+j9YJHh5dEBhUdpD2fs+PKTWwQo5ZrJk=', '1', 'zXOstV9tbQGnXU6u6FfAjOzoe8gToH3sDCKZNm0RAwM=', '1H3WBVcen2RS9lximFVb5A/HIAxc6rH8XBp0IStE/Co='), ('1639266126599', '6408242568', 4, 'E+9U+J1Dicd5PJklbq2e5THQ29X6D8jmqQ0Zu53Kc+o=', '1', 'zIJN2SX7SNXpmhsI4p174hllWbDrYsiN3jmi89qIoLE=', 'pGMncQqmkkb0gbI/JrHgzi7Mtg9f3V5OMLAEau6JnpM='), ('1639275560475', '6405047060', 4, 'YPTpZCeEjWP/khLtXrzAz0QDQJH7tRyUmxLsZzBNrdY=', '1', 'I4KvX1i2+NYaFkFHz6i+BDpZAWEje/tVhsRNCwiM5Gc=', '1EJtggv0Pv+M6YpPkavCVKOQ2Y4llq2nU9N2rB470z0='), ('1639276324947', '6408247924', 4, 'r/Al6kYJOwZITr6wi4pAlEwyGv5TM2EkJ8woA5hszeA=', '2', 'Y5xihLoAL+/FZdosrWck737QafsLFrX2HFm0d5ExD5Q=', 'G/9E4AW9fSviXbmdFO5BBcjVd49zuI1AIU5gHQJLm+8='), ('1639276325133', '6408248034', 5, 'r/Al6kYJOwZITr6wi4pAlEwyGv5TM2EkJ8woA5hszeA=', '0', 'PtTFrwRNMtU7qutjUNORTQR2bEfh6Pn8lVqPvdk9h74=', 'QdrSScSXyIpoqR4skT9QFLlVShlxNDTFRBhIWZRq2SM=')]\n"
     ]
    }
   ],
   "source": [
    "job_events = sc.textFile(','.join(list_of_jobs))\n",
    "#rdds = []\n",
    "#for f in list_of_jobs:\n",
    "#    rdd = sc.textFile(f)\n",
    "#    rdds.append(rdd)\n",
    "#bigRdd = sc.union(rdds)\n",
    "job_events_RDD = job_events.map(lambda line: line.split(\",\"))\n",
    "job_events_RDD = job_events_RDD.map(lambda tokens: (tokens[0], tokens[2], int(tokens[3]), tokens[4], tokens[5], tokens[6], tokens[7]))\n",
    "print(\"Step 1: {}\".format(job_events_RDD.take(5)))\n",
    "job_events_RDD = job_events_RDD.filter(lambda elem: elem[1] != '' and elem[2] != '')\n",
    "sqlContext = SQLContext(sc)\n",
    "job_events_df = sqlContext.createDataFrame(job_events_RDD, schema=['timestamp', 'jobID', 'eventType', 'userName', 'schedulingClass', 'jobName', 'logicalJobName'])"
   ]
  },
  {
   "cell_type": "code",
   "execution_count": 10,
   "metadata": {},
   "outputs": [],
   "source": [
    "total_jobs = job_events_df.count()"
   ]
  },
  {
   "cell_type": "code",
   "execution_count": 25,
   "metadata": {},
   "outputs": [],
   "source": [
    "evicted_jobs = job_events_df.where((job_events_df['eventType']==int(2)) | (job_events_df['eventType']==int(5)))\n",
    "evicted_count = evicted_jobs.select('jobID').distinct().count()\n",
    "evicted_rat = (evicted_count*100)/total_jobs"
   ]
  },
  {
   "cell_type": "code",
   "execution_count": 26,
   "metadata": {},
   "outputs": [
    {
     "data": {
      "text/plain": [
       "13.535300426091892"
      ]
     },
     "execution_count": 26,
     "metadata": {},
     "output_type": "execute_result"
    }
   ],
   "source": [
    "evicted_rat"
   ]
  },
  {
   "cell_type": "code",
   "execution_count": 28,
   "metadata": {},
   "outputs": [],
   "source": [
    "big_tasks_events = sc.textFile(','.join(list_of_tasks))\n",
    "#big_tasks_events = sc.textFile('../../datasets/task_events/part-00000-of-00500.csv.gz')"
   ]
  },
  {
   "cell_type": "code",
   "execution_count": 29,
   "metadata": {},
   "outputs": [],
   "source": [
    "big_tasks_events_RDD = big_tasks_events.map(lambda line: line.split(\",\"))\n",
    "big_tasks_events_RDD = big_tasks_events_RDD.map(lambda tokens: (tokens[0], tokens[2], tokens[3], tokens[4], int(tokens[5]), tokens[6], tokens[7], tokens[8], tokens[9], tokens[10], tokens[11], tokens[12]))\n",
    "big_tasks_events_RDD = big_tasks_events_RDD.filter(lambda elem: elem[1] != '' and elem[2] != '')\n",
    "sqlContext = SQLContext(sc)\n",
    "big_tasks_events_df = sqlContext.createDataFrame(big_tasks_events_RDD, schema=['timestamp', 'jobID', 'taskID', 'machineID', 'eventType', 'userName', 'schedulingClass', 'priority', 'CPUreq', 'RAMrec', 'diskRec', 'const'])"
   ]
  },
  {
   "cell_type": "code",
   "execution_count": 31,
   "metadata": {},
   "outputs": [],
   "source": [
    "total_tasks = big_tasks_events_df.count()\n",
    "evicted_tasks = big_tasks_events_df.where((big_tasks_events_df['eventType']==int(2)) | (big_tasks_events_df['eventType']==int(5)))\n",
    "evicted_tasks_count = evicted_tasks.select('jobID', 'taskID').distinct().count()\n",
    "evicted_tasks_rat = (evicted_count*100)/total_tasks"
   ]
  },
  {
   "cell_type": "code",
   "execution_count": 32,
   "metadata": {},
   "outputs": [
    {
     "data": {
      "text/plain": [
       "0.18829327589414677"
      ]
     },
     "execution_count": 32,
     "metadata": {},
     "output_type": "execute_result"
    }
   ],
   "source": [
    "evicted_tasks_rat"
   ]
  },
  {
   "cell_type": "markdown",
   "metadata": {},
   "source": [
    "#### Answer: \n",
    "        evicted and killed jobs percentage - 13.53 %\n",
    "        evicted and killed tasks percentage - 0.18 %"
   ]
  },
  {
   "cell_type": "markdown",
   "metadata": {},
   "source": [
    "## Q4: Do tasks with low priority have a higher probability of being evicted?"
   ]
  },
  {
   "cell_type": "code",
   "execution_count": null,
   "metadata": {},
   "outputs": [],
   "source": [
    "1. pr of each priority to be eviced"
   ]
  },
  {
   "cell_type": "code",
   "execution_count": 92,
   "metadata": {},
   "outputs": [],
   "source": [
    "task_events_count = task_events_df.count()"
   ]
  },
  {
   "cell_type": "code",
   "execution_count": 93,
   "metadata": {},
   "outputs": [],
   "source": [
    "s1 = sc.broadcast(task_events_count)"
   ]
  },
  {
   "cell_type": "code",
   "execution_count": 112,
   "metadata": {},
   "outputs": [
    {
     "data": {
      "text/plain": [
       "330581"
      ]
     },
     "execution_count": 112,
     "metadata": {},
     "output_type": "execute_result"
    }
   ],
   "source": [
    "task_events_count"
   ]
  },
  {
   "cell_type": "code",
   "execution_count": 122,
   "metadata": {},
   "outputs": [
    {
     "name": "stdout",
     "output_type": "stream",
     "text": [
      "330581\n",
      "4338\n"
     ]
    }
   ],
   "source": [
    "evicted_priority = task_events_df.where(task_events_df['eventType']==int(2)).select('eventType', 'priority')\n",
    "task_events_count = task_events_df.count()\n",
    "print(task_events_count)\n",
    "evicted_priority_rdd = evicted_priority.rdd.map(lambda x: (int(x[1]), 1))\n",
    "print(evicted_priority_rdd.count())"
   ]
  },
  {
   "cell_type": "code",
   "execution_count": 124,
   "metadata": {},
   "outputs": [
    {
     "name": "stdout",
     "output_type": "stream",
     "text": [
      "Step 4: [(2, 55), (0, 4208), (1, 52), (9, 22), (10, 1)]\n"
     ]
    }
   ],
   "source": [
    "evicted_priority_rdd = evicted_priority_rdd.reduceByKey(lambda x, y: x+y)\n",
    "#.map(lambda x: (int(x[0]), float((x[1]*100)/s1)))\n",
    "print(\"Step 4: {}\".format(evicted_priority_rdd.take(30)))"
   ]
  },
  {
   "cell_type": "code",
   "execution_count": 125,
   "metadata": {},
   "outputs": [
    {
     "data": {
      "text/plain": [
       "[(2, 0.0166373748037546),\n",
       " (0, 1.2729104213490794),\n",
       " (1, 0.015729881632640715),\n",
       " (9, 0.00665494992150184),\n",
       " (10, 0.00030249772370462914)]"
      ]
     },
     "execution_count": 125,
     "metadata": {},
     "output_type": "execute_result"
    }
   ],
   "source": [
    "evicted_priority_np = evicted_priority_rdd.map(lambda x: (x[0], (x[1]*100/task_events_count)))\n",
    "evicted_priority_np.take(10)"
   ]
  },
  {
   "cell_type": "markdown",
   "metadata": {},
   "source": [
    "## Q5: Is there a relation between the priority of a task and the amount of resources available on the machine it runs on?"
   ]
  },
  {
   "cell_type": "code",
   "execution_count": 155,
   "metadata": {},
   "outputs": [
    {
     "data": {
      "text/plain": [
       "5782512"
      ]
     },
     "execution_count": 155,
     "metadata": {},
     "output_type": "execute_result"
    }
   ],
   "source": [
    "machine_events_df.where(machine_events_df['machineID']=='5782512').select('machineID', 'CPU', 'memory').distinct().rdd.map(lambda row : row[0]).collect()[0]"
   ]
  },
  {
   "cell_type": "code",
   "execution_count": 15,
   "metadata": {},
   "outputs": [],
   "source": [
    "#machine_events_dict = machine_events_df.select('machineID', 'CPU', 'memory').distinct()"
   ]
  },
  {
   "cell_type": "code",
   "execution_count": 65,
   "metadata": {},
   "outputs": [],
   "source": [
    "machine_events_dict = machine_events_df.dropDuplicates(['machineID']).select('machineID', 'CPU', 'memory')"
   ]
  },
  {
   "cell_type": "code",
   "execution_count": 66,
   "metadata": {},
   "outputs": [],
   "source": [
    "machine_events_dict = machine_events_dict.toPandas().set_index('machineID').T.to_dict('list')"
   ]
  },
  {
   "cell_type": "code",
   "execution_count": 67,
   "metadata": {},
   "outputs": [
    {
     "data": {
      "text/plain": [
       "{26: ['0.5', '0.2493'],\n",
       " 1093605: ['0.5', '0.2493'],\n",
       " 1271879: ['0.5', '0.4995'],\n",
       " 1272595: ['0.5', '0.4995'],\n",
       " 6565013: ['0.5', '0.4995'],\n",
       " 38759120: ['0.5', '0.2493'],\n",
       " 63616951: ['0.5', '0.2493'],\n",
       " 63691343: ['0.5', '0.2493'],\n",
       " 69135749: ['0.5', '0.4995'],\n",
       " 228617778: ['0.5', '0.2493'],\n",
       " 294901605: ['0.5', '0.2493'],\n",
       " 305387618: ['0.5', '0.2493'],\n",
       " 317510257: ['0.5', '0.749'],\n",
       " 351627471: ['0.5', '0.4995'],\n",
       " 431086627: ['0.5', '0.4995'],\n",
       " 438722692: ['0.5', '0.2493'],\n",
       " 501449548: ['0.5', '0.2493'],\n",
       " 1436345330: ['0.5', '0.4995'],\n",
       " 1436368948: ['0.5', '0.4995'],\n",
       " 2198122741: ['0.5', '0.4995'],\n",
       " 2598129300: ['0.5', '0.4995'],\n",
       " 3337943252: ['0.25', '0.2498'],\n",
       " 4133620037: ['0.5', '0.4995'],\n",
       " 4153336080: ['0.5', '0.2493'],\n",
       " 4156962711: ['0.25', '0.2498'],\n",
       " 4477653797: ['0.5', '0.4995'],\n",
       " 4820075718: ['1', '1'],\n",
       " 5297461910: ['0.5', '0.2493'],\n",
       " 5361768622: ['1', '1'],\n",
       " 904566: ['0.5', '0.4995'],\n",
       " 1270749: ['0.5', '0.4995'],\n",
       " 1332073: ['0.5', '0.4995'],\n",
       " 1734648: ['0.5', '0.4995'],\n",
       " 6567636: ['0.5', '0.4995'],\n",
       " 13296691: ['0.5', '0.4995'],\n",
       " 16916847: ['0.5', '0.2493'],\n",
       " 32085963: ['0.5', '0.2493'],\n",
       " 38661859: ['0.5', '0.2493'],\n",
       " 82755263: ['0.5', '0.2493'],\n",
       " 227398065: ['0.5', '0.4995'],\n",
       " 257503447: ['0.5', '0.749'],\n",
       " 294862576: ['0.5', '0.2493'],\n",
       " 337874049: ['0.5', '0.2493'],\n",
       " 351638111: ['0.5', '0.4995'],\n",
       " 351653584: ['0.5', '0.4995'],\n",
       " 463415699: ['0.5', '0.4995'],\n",
       " 642075268: ['0.5', '0.4995'],\n",
       " 655986447: ['0.5', '0.4995'],\n",
       " 1436344400: ['0.5', '0.4995'],\n",
       " 1436370572: ['0.5', '0.2493'],\n",
       " 1436561238: ['0.5', '0.4995'],\n",
       " 3232617906: ['0.5', '0.749'],\n",
       " 3631103057: ['0.25', '0.2498'],\n",
       " 4802125502: ['1', '1'],\n",
       " 4802910981: ['1', '1'],\n",
       " 4820223869: ['1', '1'],\n",
       " 1269762: ['0.5', '0.4995'],\n",
       " 6566572: ['0.5', '0.4995'],\n",
       " 6640218: ['0.5', '0.4995'],\n",
       " 6641405: ['0.5', '0.4995'],\n",
       " 6955723: ['0.5', '0.4995'],\n",
       " 17014373: ['0.5', '0.4995'],\n",
       " 30789423: ['0.5', '0.2493'],\n",
       " 257502034: ['0.5', '0.749'],\n",
       " 294887259: ['0.5', '0.2493'],\n",
       " 294963312: ['0.5', '0.2493'],\n",
       " 323143785: ['0.5', '0.749'],\n",
       " 351605917: ['0.5', '0.4995'],\n",
       " 351627172: ['0.5', '0.4995'],\n",
       " 351651892: ['0.5', '0.4995'],\n",
       " 491508036: ['0.5', '0.2493'],\n",
       " 927676540: ['0.5', '0.4995'],\n",
       " 995212029: ['0.5', '0.4995'],\n",
       " 1436323347: ['0.5', '0.4995'],\n",
       " 1436359853: ['0.5', '0.4995'],\n",
       " 2198001960: ['0.5', '0.4995'],\n",
       " 3550408062: ['0.5', '0.749'],\n",
       " 3594478006: ['0.5', '0.749'],\n",
       " 3938910974: ['0.5', '0.4995'],\n",
       " 4364486832: ['0.5', '0.4995'],\n",
       " 4802042730: ['1', '1'],\n",
       " 4802467653: ['1', '1'],\n",
       " 5347379182: ['0.5', '0.749'],\n",
       " 6213862553: ['0.5', '0.4995'],\n",
       " 717269: ['0.5', '0.4995'],\n",
       " 765719: ['0.5', '0.4995'],\n",
       " 907974: ['0.5', '0.4995'],\n",
       " 1272656: ['0.5', '0.4995'],\n",
       " 1275580: ['0.5', '0.4995'],\n",
       " 6564999: ['0.5', '0.4995'],\n",
       " 6639212: ['0.5', '0.4995'],\n",
       " 38646841: ['0.5', '0.2493'],\n",
       " 73906237: ['0.5', '0.4995'],\n",
       " 227397838: ['0.5', '0.4995'],\n",
       " 257406651: ['0.5', '0.749'],\n",
       " 272887063: ['0.5', '0.4995'],\n",
       " 294772487: ['0.5', '0.2493'],\n",
       " 294934180: ['0.5', '0.2493'],\n",
       " 306518311: ['0.5', '0.2493'],\n",
       " 317484322: ['0.5', '0.749'],\n",
       " 317808394: ['0.5', '0.749'],\n",
       " 336021532: ['0.5', '0.2493'],\n",
       " 336038663: ['0.5', '0.2493'],\n",
       " 336055283: ['0.5', '0.2493'],\n",
       " 370136275: ['0.5', '0.2493'],\n",
       " 376328657: ['0.5', '0.4995'],\n",
       " 451295405: ['0.5', '0.2493'],\n",
       " 501490376: ['0.5', '0.4995'],\n",
       " 1224944304: ['0.5', '0.2493'],\n",
       " 1429573284: ['0.5', '0.4995'],\n",
       " 1436784363: ['0.5', '0.4995'],\n",
       " 2433205173: ['0.5', '0.2493'],\n",
       " 2899249543: ['0.5', '0.2493'],\n",
       " 3231164142: ['0.5', '0.4995'],\n",
       " 3337968809: ['0.25', '0.2498'],\n",
       " 3349480405: ['0.5', '0.749'],\n",
       " 3940718109: ['0.5', '0.4995'],\n",
       " 3996030501: ['0.5', '0.749'],\n",
       " 4820020938: ['1', '1'],\n",
       " 4820181018: ['1', '1'],\n",
       " 4820217961: ['1', '1'],\n",
       " 54: ['0.5', '0.2493'],\n",
       " 486957: ['0.5', '0.4995'],\n",
       " 1343767: ['0.5', '0.4995'],\n",
       " 3829428: ['0.5', '0.2493'],\n",
       " 5783206: ['0.5', '0.2493'],\n",
       " 6566799: ['0.5', '0.4995'],\n",
       " 7777840: ['0.5', '0.4995'],\n",
       " 38685424: ['0.5', '0.2493'],\n",
       " 38737478: ['0.5', '0.2493'],\n",
       " 105752052: ['0.5', '0.4995'],\n",
       " 207571782: ['0.5', '0.2493'],\n",
       " 257330167: ['0.5', '0.749'],\n",
       " 294847211: ['0.5', '0.2493'],\n",
       " 295001076: ['0.5', '0.2493'],\n",
       " 317808290: ['0.5', '0.2493'],\n",
       " 336071716: ['0.5', '0.2493'],\n",
       " 349141543: ['0.5', '0.4995'],\n",
       " 464249387: ['0.5', '0.4995'],\n",
       " 772622191: ['0.5', '0.2493'],\n",
       " 1390856647: ['0.25', '0.2498'],\n",
       " 2054974398: ['0.5', '0.2493'],\n",
       " 2357745023: ['0.5', '0.4995'],\n",
       " 2787061821: ['0.5', '0.2493'],\n",
       " 2888386635: ['0.5', '0.4995'],\n",
       " 3363044368: ['0.5', '0.4995'],\n",
       " 3719632406: ['0.5', '0.2493'],\n",
       " 3812918283: ['0.5', '0.4995'],\n",
       " 4820017067: ['1', '1'],\n",
       " 4820094953: ['1', '1'],\n",
       " 486961: ['0.5', '0.4995'],\n",
       " 683208: ['0.5', '0.4995'],\n",
       " 711359: ['0.5', '0.4995'],\n",
       " 711804: ['0.5', '0.4995'],\n",
       " 1093693: ['0.5', '0.1241'],\n",
       " 3827805: ['0.5', '0.2493'],\n",
       " 7777795: ['0.5', '0.4995'],\n",
       " 8058564: ['0.5', '0.4995'],\n",
       " 214874368: ['0.5', '0.4995'],\n",
       " 227323172: ['0.5', '0.4995'],\n",
       " 227417874: ['0.5', '0.4995'],\n",
       " 257349128: ['0.5', '0.749'],\n",
       " 257495894: ['0.5', '0.2493'],\n",
       " 277449079: ['0.5', '0.2493'],\n",
       " 308118179: ['0.5', '0.2493'],\n",
       " 351652246: ['0.5', '0.4995'],\n",
       " 351690621: ['0.5', '0.4995'],\n",
       " 430399409: ['0.5', '0.2493'],\n",
       " 564497886: ['0.5', '0.4995'],\n",
       " 851217999: ['0.5', '0.4995'],\n",
       " 942458166: ['0.5', '0.4995'],\n",
       " 1436480608: ['0.5', '0.4995'],\n",
       " 2055485967: ['0.5', '0.2493'],\n",
       " 2543650960: ['0.5', '0.4995'],\n",
       " 3868315939: ['0.5', '0.2493'],\n",
       " 4302684542: ['0.5', '0.4995'],\n",
       " 4469214896: ['0.5', '0.4995'],\n",
       " 4820076204: ['1', '1'],\n",
       " 4820076688: ['1', '1'],\n",
       " 6087718021: ['1', '1'],\n",
       " 631946: ['0.5', '0.4995'],\n",
       " 1094559: ['0.5', '0.2493'],\n",
       " 1272466: ['0.5', '0.4995'],\n",
       " 1339787: ['0.5', '0.4995'],\n",
       " 5782509: ['0.5', '0.2493'],\n",
       " 6566420: ['0.5', '0.4995'],\n",
       " 6567646: ['0.5', '0.4995'],\n",
       " 6568005: ['0.5', '0.4995'],\n",
       " 6607745: ['0.5', '0.4995'],\n",
       " 8055712: ['0.5', '0.4995'],\n",
       " 30788623: ['0.5', '0.2493'],\n",
       " 38736797: ['0.5', '0.2493'],\n",
       " 208016336: ['0.5', '0.4995'],\n",
       " 257504349: ['0.5', '0.2493'],\n",
       " 294793946: ['0.5', '0.2493'],\n",
       " 317488461: ['0.5', '0.749'],\n",
       " 317489994: ['0.5', '0.749'],\n",
       " 336047564: ['0.5', '0.2493'],\n",
       " 336047725: ['0.5', '0.2493'],\n",
       " 400426616: ['0.5', '0.2493'],\n",
       " 431038863: ['0.5', '0.2493'],\n",
       " 990694203: ['0.5', '0.4995'],\n",
       " 1266560707: ['0.5', '0.2493'],\n",
       " 1365787255: ['0.5', '0.4995'],\n",
       " 1436330292: ['0.5', '0.4995'],\n",
       " 3233481955: ['0.5', '0.4995'],\n",
       " 3305896582: ['0.5', '0.4995'],\n",
       " 4303309831: ['0.5', '0.4995'],\n",
       " 4479623702: ['0.5', '0.4995'],\n",
       " 4820318101: ['1', '1'],\n",
       " 602982: ['0.5', '0.4995'],\n",
       " 766810: ['0.5', '0.4995'],\n",
       " 965473: ['0.5', '0.4995'],\n",
       " 1340385: ['0.5', '0.4995'],\n",
       " 7777797: ['0.5', '0.4995'],\n",
       " 7777953: ['0.5', '0.4995'],\n",
       " 7781500: ['0.5', '0.4995'],\n",
       " 8055690: ['0.5', '0.4995'],\n",
       " 38660262: ['0.5', '0.2493'],\n",
       " 124610839: ['0.5', '0.2493'],\n",
       " 257405900: ['0.5', '0.749'],\n",
       " 257498637: ['0.5', '0.2493'],\n",
       " 294847240: ['0.5', '0.2493'],\n",
       " 330262087: ['0.5', '0.4995'],\n",
       " 400475291: ['0.5', '0.4995'],\n",
       " 484017765: ['0.5', '0.4995'],\n",
       " 778495822: ['0.5', '0.4995'],\n",
       " 854831238: ['0.5', '0.4995'],\n",
       " 1160739267: ['0.5', '0.4995'],\n",
       " 1282376430: ['0.5', '0.749'],\n",
       " 1390736743: ['0.25', '0.2498'],\n",
       " 1426111101: ['0.5', '0.2493'],\n",
       " 2032167832: ['0.5', '0.4995'],\n",
       " 2508447313: ['0.5', '0.4995'],\n",
       " 3453434877: ['0.25', '0.2498'],\n",
       " 3631267648: ['0.25', '0.2498'],\n",
       " 4274169156: ['0.5', '0.2493'],\n",
       " 903399: ['0.5', '0.4995'],\n",
       " 1303530: ['0.5', '0.4995'],\n",
       " 1335495: ['0.5', '0.4995'],\n",
       " 1734528: ['0.5', '0.2493'],\n",
       " 2540203: ['0.5', '0.4995'],\n",
       " 6567397: ['0.5', '0.4995'],\n",
       " 7781217: ['0.5', '0.4995'],\n",
       " 38680139: ['0.5', '0.2493'],\n",
       " 257406724: ['0.5', '0.749'],\n",
       " 317510281: ['0.5', '0.749'],\n",
       " 400426614: ['0.5', '0.2493'],\n",
       " 400468347: ['0.5', '0.2493'],\n",
       " 431072772: ['0.5', '0.4995'],\n",
       " 1334665910: ['0.5', '0.4995'],\n",
       " 1436307767: ['0.5', '0.4995'],\n",
       " 1436464174: ['0.5', '0.4995'],\n",
       " 1437115258: ['0.5', '0.4995'],\n",
       " 1440305526: ['0.5', '0.4995'],\n",
       " 4322802892: ['0.5', '0.4995'],\n",
       " 4479421109: ['0.5', '0.4995'],\n",
       " 4820101410: ['1', '1'],\n",
       " 4820170947: ['1', '1'],\n",
       " 4820212553: ['1', '1'],\n",
       " 1270700: ['0.5', '0.4995'],\n",
       " 1271732: ['0.5', '0.4995'],\n",
       " 1274163: ['0.5', '0.4995'],\n",
       " 6483380: ['0.5', '0.2493'],\n",
       " 6567826: ['0.5', '0.4995'],\n",
       " 16918675: ['0.5', '0.4995'],\n",
       " 129143132: ['0.5', '0.2493'],\n",
       " 227323298: ['0.5', '0.4995'],\n",
       " 257405906: ['0.5', '0.749'],\n",
       " 400426633: ['0.5', '0.2493'],\n",
       " 431045917: ['0.5', '0.4995'],\n",
       " 696935762: ['0.5', '0.4995'],\n",
       " 699830048: ['0.5', '0.4995'],\n",
       " 1436305713: ['0.5', '0.4995'],\n",
       " 1436314898: ['0.5', '0.4995'],\n",
       " 1436348584: ['0.5', '0.4995'],\n",
       " 2056942732: ['0.5', '0.2493'],\n",
       " 2671641135: ['0.5', '0.4995'],\n",
       " 3660609678: ['0.5', '0.4995'],\n",
       " 3676408579: ['0.5', '0.4995'],\n",
       " 3915808921: ['0.5', '0.4995'],\n",
       " 4707313254: ['0.5', '0.4995'],\n",
       " 4725782108: ['0.5', '0.4995'],\n",
       " 4820395564: ['1', '1'],\n",
       " 567604: ['0.5', '0.4995'],\n",
       " 711581: ['0.5', '0.4995'],\n",
       " 765686: ['0.5', '0.4995'],\n",
       " 904467: ['0.5', '0.4995'],\n",
       " 1338945: ['0.5', '0.4995'],\n",
       " 1338949: ['0.5', '0.4995'],\n",
       " 1695367: ['0.5', '0.4995'],\n",
       " 2851626: ['0.5', '0.2493'],\n",
       " 5773911: ['0.5', '0.2493'],\n",
       " 6565524: ['0.5', '0.4995'],\n",
       " 8631300: ['0.5', '0.4995'],\n",
       " 17862858: ['0.5', '0.2493'],\n",
       " 227434848: ['0.5', '0.4995'],\n",
       " 317489987: ['0.5', '0.749'],\n",
       " 336047522: ['0.5', '0.2493'],\n",
       " 346934996: ['0.5', '0.749'],\n",
       " 351662743: ['0.5', '0.4995'],\n",
       " 449612510: ['0.5', '0.1241'],\n",
       " 1436458723: ['0.5', '0.4995'],\n",
       " 1807149354: ['0.5', '0.2493'],\n",
       " 2024649262: ['0.5', '0.2493'],\n",
       " 3128124342: ['0.5', '0.4995'],\n",
       " 3584940347: ['0.5', '0.2493'],\n",
       " 3664892300: ['0.5', '0.2493'],\n",
       " 3858945898: ['0.5', '0.2493'],\n",
       " 4302036684: ['0.5', '0.4995'],\n",
       " 4469329136: ['0.5', '0.4995'],\n",
       " 4477684993: ['0.5', '0.4995'],\n",
       " 4478967491: ['0.5', '0.4995'],\n",
       " 4486480747: ['0.5', '0.4995'],\n",
       " 5297295004: ['0.5', '0.4995'],\n",
       " 1268903: ['0.5', '0.4995'],\n",
       " 6566397: ['0.5', '0.4995'],\n",
       " 6639218: ['0.5', '0.4995'],\n",
       " 38646844: ['0.5', '0.2493'],\n",
       " 60989871: ['0.5', '0.4995'],\n",
       " 294887209: ['0.5', '0.2493'],\n",
       " 317471619: ['0.5', '0.749'],\n",
       " 317488530: ['0.5', '0.749'],\n",
       " 317497831: ['0.5', '0.749'],\n",
       " 336071720: ['0.5', '0.2493'],\n",
       " 351617797: ['0.5', '0.4995'],\n",
       " 491521240: ['0.5', '0.2493'],\n",
       " 536837968: ['0.5', '0.4995'],\n",
       " 564425762: ['0.5', '0.4995'],\n",
       " 854237536: ['0.5', '0.4995'],\n",
       " 854831961: ['0.5', '0.4995'],\n",
       " 1436351105: ['0.5', '0.4995'],\n",
       " 2790482470: ['0.5', '0.4995'],\n",
       " 3523096333: ['0.5', '0.2493'],\n",
       " 3936487777: ['0.5', '0.4995'],\n",
       " 4303154248: ['0.5', '0.4995'],\n",
       " 4469393757: ['0.5', '0.4995'],\n",
       " 4820265848: ['1', '1'],\n",
       " 705772: ['0.5', '0.4995'],\n",
       " 907123: ['0.5', '0.4995'],\n",
       " 959121: ['0.5', '0.4995'],\n",
       " 1270278: ['0.5', '0.4995'],\n",
       " 1272896: ['0.5', '0.4995'],\n",
       " 1338880: ['0.5', '0.4995'],\n",
       " 1339791: ['0.5', '0.4995'],\n",
       " 13235184: ['0.5', '0.4995'],\n",
       " 16918663: ['0.5', '0.4995'],\n",
       " 82771227: ['0.5', '0.2493'],\n",
       " 208016638: ['0.5', '0.4995'],\n",
       " 294871455: ['0.5', '0.2493'],\n",
       " 294985246: ['0.5', '0.2493'],\n",
       " 317302927: ['0.5', '0.749'],\n",
       " 600869017: ['0.5', '0.4995'],\n",
       " 778602750: ['0.5', '0.4995'],\n",
       " 1443311007: ['0.5', '0.2493'],\n",
       " 2056235282: ['0.5', '0.2493'],\n",
       " 2787003307: ['0.5', '0.2493'],\n",
       " 3615771344: ['0.5', '0.4995'],\n",
       " 4245744894: ['0.5', '0.749'],\n",
       " 4476643578: ['0.5', '0.4995'],\n",
       " 4802122506: ['1', '1'],\n",
       " 4820239515: ['1', '1'],\n",
       " 4820310876: ['1', '1'],\n",
       " 5497143954: ['0.5', '0.4995'],\n",
       " 1340794: ['0.5', '0.4995'],\n",
       " 6565167: ['0.5', '0.4995'],\n",
       " 6640638: ['0.5', '0.4995'],\n",
       " 38698663: ['0.5', '0.2493'],\n",
       " 317490168: ['0.5', '0.749'],\n",
       " 346897607: ['0.5', '0.749'],\n",
       " 351655552: ['0.5', '0.2493'],\n",
       " 1429179595: ['0.5', '0.4995'],\n",
       " 1436368446: ['0.5', '0.4995'],\n",
       " 2347622143: ['0.5', '0.749'],\n",
       " 2381362608: ['0.5', '0.4995'],\n",
       " 3242683686: ['0.5', '0.749'],\n",
       " 3720912062: ['0.5', '0.749'],\n",
       " 3813386963: ['0.5', '0.4995'],\n",
       " 3934141814: ['0.5', '0.2493'],\n",
       " 4304076204: ['0.5', '0.4995'],\n",
       " 4304126054: ['0.5', '0.4995'],\n",
       " 4304813643: ['0.5', '0.4995'],\n",
       " 4475868292: ['0.5', '0.4995'],\n",
       " 4478494145: ['0.5', '0.4995'],\n",
       " 4820072868: ['1', '1'],\n",
       " 4820096633: ['1', '1'],\n",
       " 5595868951: ['0.5', '0.4995'],\n",
       " 6201459631: ['1', '1'],\n",
       " 904770: ['0.5', '0.4995'],\n",
       " 908189: ['0.5', '0.4995'],\n",
       " 1094467: ['0.5', '0.4995'],\n",
       " 1272936: ['0.5', '0.4995'],\n",
       " 1694600: ['0.5', '0.4995'],\n",
       " 5788687: ['0.5', '0.2493'],\n",
       " 97958663: ['0.5', '0.4995'],\n",
       " 208307852: ['0.5', '0.4995'],\n",
       " 294771493: ['0.5', '0.2493'],\n",
       " 294880136: ['0.5', '0.2493'],\n",
       " 305376345: ['0.5', '0.2493'],\n",
       " 317488578: ['0.5', '0.749'],\n",
       " 351652777: ['0.5', '0.4995'],\n",
       " 359917105: ['0.5', '0.2493'],\n",
       " 431788183: ['0.5', '0.4995'],\n",
       " 554347872: ['0.5', '0.4995'],\n",
       " 568579734: ['0.5', '0.2493'],\n",
       " 679412248: ['0.5', '0.749'],\n",
       " 854787847: ['0.5', '0.4995'],\n",
       " 1343703832: ['0.5', '0.4995'],\n",
       " 1439722967: ['0.5', '0.4995'],\n",
       " 2888897961: ['0.5', '0.2493'],\n",
       " 3250893612: ['0.5', '0.4995'],\n",
       " 3463853665: ['0.5', '0.4995'],\n",
       " 3625290109: ['0.5', '0.4995'],\n",
       " 4080092661: ['0.5', '0.4995'],\n",
       " 4302736886: ['0.5', '0.4995'],\n",
       " 4303255652: ['0.5', '0.4995'],\n",
       " 4303303731: ['0.5', '0.4995'],\n",
       " 4819999495: ['1', '1'],\n",
       " 4820414802: ['1', '1'],\n",
       " 660927: ['0.5', '0.4995'],\n",
       " 1093557: ['0.5', '0.2493'],\n",
       " 1274930: ['0.5', '0.4995'],\n",
       " 6566743: ['0.5', '0.4995'],\n",
       " 7777243: ['0.5', '0.4995'],\n",
       " 17503804: ['0.5', '0.4995'],\n",
       " 38655813: ['0.5', '0.2493'],\n",
       " 46887796: ['0.5', '0.2493'],\n",
       " 97923394: ['0.5', '0.4995'],\n",
       " 97957590: ['0.5', '0.4995'],\n",
       " 228693086: ['0.5', '0.2493'],\n",
       " 257408495: ['0.5', '0.749'],\n",
       " 257413178: ['0.5', '0.749'],\n",
       " 317302890: ['0.5', '0.749'],\n",
       " 336047605: ['0.5', '0.2493'],\n",
       " 336055251: ['0.5', '0.2493'],\n",
       " 368989734: ['0.5', '0.2493'],\n",
       " 1436480450: ['0.5', '0.4995'],\n",
       " 2425415601: ['0.5', '0.4995'],\n",
       " 3583723625: ['0.5', '0.4995'],\n",
       " 3601051587: ['0.5', '0.4995'],\n",
       " 3933681829: ['0.5', '0.4995'],\n",
       " 4303326359: ['0.5', '0.4995'],\n",
       " 4819998188: ['1', '1'],\n",
       " 717315: ['0.5', '0.4995'],\n",
       " 765651: ['0.5', '0.4995'],\n",
       " 1093041: ['0.5', '0.2493'],\n",
       " 1094682: ['0.5', '0.4995'],\n",
       " 3828981: ['0.5', '0.2493'],\n",
       " 7778099: ['0.5', '0.4995'],\n",
       " 38647038: ['0.5', '0.2493'],\n",
       " 87264102: ['0.5', '0.2493'],\n",
       " 208017516: ['0.5', '0.4995'],\n",
       " 257395980: ['0.5', '0.749'],\n",
       " 280018672: ['0.5', '0.4995'],\n",
       " 317487770: ['0.5', '0.749'],\n",
       " 336068437: ['0.5', '0.2493'],\n",
       " 351652783: ['0.5', '0.4995'],\n",
       " 400426622: ['0.5', '0.2493'],\n",
       " 400453250: ['0.5', '0.2493'],\n",
       " 412178385: ['0.5', '0.749'],\n",
       " 418771198: ['0.5', '0.2493'],\n",
       " 448456310: ['0.5', '0.2493'],\n",
       " 565048008: ['0.5', '0.4995'],\n",
       " 845968527: ['0.5', '0.2493'],\n",
       " 1203874836: ['0.5', '0.2493'],\n",
       " 2978903478: ['0.5', '0.1241'],\n",
       " 3498074162: ['0.5', '0.4995'],\n",
       " 4055654294: ['0.5', '0.2493'],\n",
       " 4181692908: ['0.5', '0.4995'],\n",
       " 602979: ['0.5', '0.4995'],\n",
       " 681913: ['0.5', '0.4995'],\n",
       " 765723: ['0.5', '0.4995'],\n",
       " 1267831: ['0.5', '0.4995'],\n",
       " 1340806: ['0.5', '0.4995'],\n",
       " 1697534: ['0.5', '0.4995'],\n",
       " 7777370: ['0.5', '0.4995'],\n",
       " 84862091: ['0.5', '0.2493'],\n",
       " 257347040: ['0.5', '0.749'],\n",
       " 257408563: ['0.5', '0.749'],\n",
       " 257503193: ['0.5', '0.2493'],\n",
       " 294908637: ['0.5', '0.2493'],\n",
       " 336049897: ['0.5', '0.2493'],\n",
       " 345288745: ['0.5', '0.749'],\n",
       " 351661371: ['0.5', '0.4995'],\n",
       " 766872129: ['0.5', '0.4995'],\n",
       " 1429167789: ['0.5', '0.4995'],\n",
       " 1436323276: ['0.5', '0.4995'],\n",
       " 1732414902: ['0.5', '0.2493'],\n",
       " 2110389658: ['0.5', '0.2493'],\n",
       " 2497958300: ['0.5', '0.2493'],\n",
       " 2568509112: ['0.5', '0.2493'],\n",
       " 2596362793: ['0.5', '0.4995'],\n",
       " 4082833239: ['0.5', '0.4995'],\n",
       " 4246009370: ['0.5', '0.749'],\n",
       " 4246451354: ['0.5', '0.2493'],\n",
       " 4820221501: ['1', '1'],\n",
       " 6235724787: ['0.5', '0.4995'],\n",
       " 418574: ['0.5', '0.4995'],\n",
       " 902898: ['0.5', '0.4995'],\n",
       " 906287: ['0.5', '0.4995'],\n",
       " 1094411: ['0.5', '0.4995'],\n",
       " 1331896: ['0.5', '0.4995'],\n",
       " 6565198: ['0.5', '0.4995'],\n",
       " 6609008: ['0.5', '0.4995'],\n",
       " 6641447: ['0.5', '0.4995'],\n",
       " 7712392: ['0.5', '0.4995'],\n",
       " 7776630: ['0.5', '0.4995'],\n",
       " 7819709: ['0.5', '0.4995'],\n",
       " 38671842: ['0.5', '0.2493'],\n",
       " 124555606: ['0.5', '0.2493'],\n",
       " 227323297: ['0.5', '0.4995'],\n",
       " 284786939: ['0.5', '0.4995'],\n",
       " 294816703: ['0.5', '0.2493'],\n",
       " 294980400: ['0.5', '0.2493'],\n",
       " 317477828: ['0.5', '0.749'],\n",
       " 351639637: ['0.5', '0.4995'],\n",
       " 400453832: ['0.5', '0.2493'],\n",
       " 431050253: ['0.5', '0.4995'],\n",
       " 782232980: ['0.5', '0.2493'],\n",
       " 854812624: ['0.5', '0.4995'],\n",
       " 1319475918: ['0.5', '0.4995'],\n",
       " 1436350303: ['0.5', '0.4995'],\n",
       " 1436489702: ['0.5', '0.4995'],\n",
       " 2863632313: ['0.5', '0.4995'],\n",
       " 3349183882: ['0.5', '0.2493'],\n",
       " 4194576195: ['0.5', '0.4995'],\n",
       " 4303390419: ['0.5', '0.4995'],\n",
       " 4820029968: ['1', '1'],\n",
       " 4820101396: ['1', '1'],\n",
       " 4820138090: ['1', '1'],\n",
       " 6322213339: ['0.5', '0.4995'],\n",
       " 907849: ['0.5', '0.4995'],\n",
       " 908056: ['0.5', '0.4995'],\n",
       " 988654: ['0.5', '0.4995'],\n",
       " 1302285: ['0.5', '0.4995'],\n",
       " 1306118: ['0.5', '0.4995'],\n",
       " 32084088: ['0.5', '0.2493'],\n",
       " 38680698: ['0.5', '0.2493'],\n",
       " 38744075: ['0.5', '0.2493'],\n",
       " 97922775: ['0.5', '0.4995'],\n",
       " 294973335: ['0.5', '0.2493'],\n",
       " 359920780: ['0.5', '0.2493'],\n",
       " 431053023: ['0.5', '0.2493'],\n",
       " 614148316: ['0.5', '0.2493'],\n",
       " 855173801: ['0.5', '0.4995'],\n",
       " 1429167889: ['0.5', '0.4995'],\n",
       " 1436350719: ['0.5', '0.4995'],\n",
       " 1436488636: ['0.5', '0.4995'],\n",
       " 2055163390: ['0.5', '0.2493'],\n",
       " 3128113767: ['0.5', '0.4995'],\n",
       " 3209192306: ['0.5', '0.4995'],\n",
       " 3605355201: ['0.5', '0.749'],\n",
       " 4304847727: ['0.5', '0.4995'],\n",
       " 4469203363: ['0.5', '0.4995'],\n",
       " 4820252642: ['1', '1'],\n",
       " 1272491: ['0.5', '0.4995'],\n",
       " 1274707: ['0.5', '0.4995'],\n",
       " 1338920: ['0.5', '0.4995'],\n",
       " 8055080: ['0.5', '0.4995'],\n",
       " 30788586: ['0.5', '0.2493'],\n",
       " 32092773: ['0.5', '0.2493'],\n",
       " 257409863: ['0.5', '0.749'],\n",
       " 257495933: ['0.5', '0.2493'],\n",
       " 317808372: ['0.5', '0.749'],\n",
       " 351640963: ['0.5', '0.4995'],\n",
       " 359917103: ['0.5', '0.2493'],\n",
       " 933754547: ['0.5', '0.2493'],\n",
       " 1429160667: ['0.5', '0.4995'],\n",
       " 1436490183: ['0.5', '0.4995'],\n",
       " 1436651652: ['0.5', '0.4995'],\n",
       " 2499809557: ['0.5', '0.4995'],\n",
       " 3469741845: ['0.5', '0.4995'],\n",
       " 3631262430: ['0.25', '0.2498'],\n",
       " 4238467940: ['0.5', '0.4995'],\n",
       " 4820107319: ['1', '1'],\n",
       " 705826: ['0.5', '0.4995'],\n",
       " 903754: ['0.5', '0.4995'],\n",
       " 905119: ['0.5', '0.4995'],\n",
       " 1273499: ['0.5', '0.4995'],\n",
       " 1338630: ['0.5', '0.4995'],\n",
       " 1339095: ['0.5', '0.4995'],\n",
       " 16908989: ['0.5', '0.2493'],\n",
       " 38660261: ['0.5', '0.2493'],\n",
       " 227436553: ['0.5', '0.4995'],\n",
       " 258719092: ['0.5', '0.2493'],\n",
       " 317490211: ['0.5', '0.749'],\n",
       " 336058857: ['0.5', '0.2493'],\n",
       " 359917104: ['0.5', '0.2493'],\n",
       " 359920799: ['0.5', '0.2493'],\n",
       " 1436351414: ['0.5', '0.4995'],\n",
       " 1436494886: ['0.5', '0.4995'],\n",
       " 1438221455: ['0.5', '0.4995'],\n",
       " 2790227930: ['0.5', '0.749'],\n",
       " 3349754684: ['0.5', '0.749'],\n",
       " 3416697113: ['0.5', '0.749'],\n",
       " 4089288065: ['0.5', '0.4995'],\n",
       " 4182968921: ['0.5', '0.749'],\n",
       " 4304160876: ['0.5', '0.4995'],\n",
       " 4469828987: ['0.5', '0.4995'],\n",
       " 4820137356: ['1', '1'],\n",
       " 4820185414: ['1', '1'],\n",
       " 4853929305: ['1', '1'],\n",
       " 4874113956: ['1', '1'],\n",
       " 6289704471: ['0.5', '0.4995'],\n",
       " 567909: ['0.5', '0.4995'],\n",
       " 599760: ['0.5', '0.4995'],\n",
       " 682318: ['0.5', '0.4995'],\n",
       " 1094955: ['0.5', '0.2493'],\n",
       " 1095047: ['0.5', '0.4995'],\n",
       " 1274567: ['0.5', '0.4995'],\n",
       " 1301956: ['0.5', '0.4995'],\n",
       " 6955600: ['0.5', '0.4995'],\n",
       " 30788025: ['0.5', '0.2493'],\n",
       " 38670232: ['0.5', '0.2493'],\n",
       " 38751851: ['0.5', '0.2493'],\n",
       " 273549095: ['0.5', '0.2493'],\n",
       " 294847195: ['0.5', '0.2493'],\n",
       " 318406889: ['0.5', '0.4995'],\n",
       " 336069364: ['0.5', '0.2493'],\n",
       " 351663287: ['0.5', '0.4995'],\n",
       " 351664199: ['0.5', '0.4995'],\n",
       " 1429210828: ['0.5', '0.4995'],\n",
       " 1436350589: ['0.5', '0.4995'],\n",
       " 2098067603: ['0.5', '0.4995'],\n",
       " 2248361096: ['0.5', '0.4995'],\n",
       " 3938877552: ['0.5', '0.2493'],\n",
       " 4089661277: ['0.5', '0.4995'],\n",
       " 4156739964: ['0.5', '0.4995'],\n",
       " 599610: ['0.5', '0.4995'],\n",
       " 1094371: ['0.5', '0.2493'],\n",
       " 1271896: ['0.5', '0.4995'],\n",
       " 1322522: ['0.5', '0.4995'],\n",
       " 5781248: ['0.5', '0.2493'],\n",
       " 6898788: ['0.5', '0.4995'],\n",
       " 6898804: ['0.5', '0.4995'],\n",
       " 7819712: ['0.5', '0.4995'],\n",
       " 38699430: ['0.5', '0.2493'],\n",
       " 155314177: ['0.5', '0.4995'],\n",
       " 257337113: ['0.5', '0.749'],\n",
       " 257498566: ['0.5', '0.2493'],\n",
       " 317487214: ['0.5', '0.749'],\n",
       " 317508382: ['0.5', '0.749'],\n",
       " 446185218: ['0.5', '0.2493'],\n",
       " 601079922: ['0.5', '0.4995'],\n",
       " 924499174: ['0.5', '0.2493'],\n",
       " 995200840: ['0.5', '0.4995'],\n",
       " 1429193383: ['0.5', '0.4995'],\n",
       " 1436529642: ['0.5', '0.4995'],\n",
       " 2031755208: ['0.5', '0.4995'],\n",
       " 2899005950: ['0.5', '0.2493'],\n",
       " 3081542576: ['0.5', '0.4995'],\n",
       " 3306434506: ['0.5', '0.4995'],\n",
       " 3349162009: ['0.5', '0.4995'],\n",
       " 3349888214: ['0.5', '0.4995'],\n",
       " 3866774881: ['0.5', '0.4995'],\n",
       " 4820390246: ['1', '1'],\n",
       " 903225: ['0.5', '0.4995'],\n",
       " 903394: ['0.5', '0.4995'],\n",
       " 1338615: ['0.5', '0.4995'],\n",
       " 1341795: ['0.5', '0.2493'],\n",
       " 2851293: ['0.5', '0.2493'],\n",
       " 208000647: ['0.5', '0.4995'],\n",
       " 257409962: ['0.5', '0.749'],\n",
       " 284757930: ['0.5', '0.4995'],\n",
       " 294955040: ['0.5', '0.2493'],\n",
       " 317330980: ['0.5', '0.2493'],\n",
       " 328881104: ['0.5', '0.4995'],\n",
       " 336021546: ['0.5', '0.2493'],\n",
       " 351652724: ['0.5', '0.4995'],\n",
       " 352504239: ['0.5', '0.4995'],\n",
       " 431035547: ['0.5', '0.2493'],\n",
       " 431038816: ['0.5', '0.2493'],\n",
       " 1335910602: ['0.5', '0.4995'],\n",
       " 2110870765: ['0.5', '0.4995'],\n",
       " 2924102028: ['0.5', '0.4995'],\n",
       " 3582783789: ['0.5', '0.4995'],\n",
       " 4251600377: ['0.5', '0.749'],\n",
       " 6301942525: ['0.5', '0.4995'],\n",
       " 43: ['0.5', '0.2493'],\n",
       " 1268441: ['0.5', '0.4995'],\n",
       " 1270173: ['0.5', '0.4995'],\n",
       " 1270522: ['0.5', '0.4995'],\n",
       " 1273895: ['0.5', '0.4995'],\n",
       " 1343816: ['0.5', '0.4995'],\n",
       " 6565044: ['0.5', '0.4995'],\n",
       " 7712405: ['0.5', '0.4995'],\n",
       " 227460662: ['0.5', '0.4995'],\n",
       " 255797161: ['0.5', '0.4995'],\n",
       " 257499227: ['0.5', '0.2493'],\n",
       " 317488664: ['0.5', '0.749'],\n",
       " 324106919: ['0.5', '0.2493'],\n",
       " 329248452: ['0.5', '0.4995'],\n",
       " 336030355: ['0.5', '0.2493'],\n",
       " 336047565: ['0.5', '0.2493'],\n",
       " 431045494: ['0.5', '0.4995'],\n",
       " 609947221: ['0.5', '0.4995'],\n",
       " 766862021: ['0.5', '0.4995'],\n",
       " 938173752: ['0.5', '0.2493'],\n",
       " 1304325760: ['0.5', '0.4995'],\n",
       " 2107343102: ['0.5', '0.4995'],\n",
       " 2887932822: ['0.5', '0.4995'],\n",
       " 3231060050: ['0.5', '0.4995'],\n",
       " 3351469121: ['0.5', '0.749'],\n",
       " 4485991396: ['0.5', '0.4995'],\n",
       " 1093558: ['0.5', '0.2493'],\n",
       " 1094470: ['0.5', '0.4995'],\n",
       " 6568416: ['0.5', '0.4995'],\n",
       " 38643398: ['0.5', '0.2493'],\n",
       " 38700102: ['0.5', '0.2493'],\n",
       " 63750860: ['0.5', '0.2493'],\n",
       " 82719016: ['0.5', '0.2493'],\n",
       " 294823268: ['0.5', '0.2493'],\n",
       " 317330955: ['0.5', '0.749'],\n",
       " 317808260: ['0.5', '0.2493'],\n",
       " 376218268: ['0.5', '0.4995'],\n",
       " 379050397: ['0.5', '0.749'],\n",
       " 1390853332: ['0.25', '0.2498'],\n",
       " 2346962309: ['0.5', '0.2493'],\n",
       " 2856452382: ['0.5', '0.4995'],\n",
       " 3299582022: ['0.5', '0.4995'],\n",
       " 3675743639: ['0.5', '0.749'],\n",
       " 4167922683: ['0.5', '0.4995'],\n",
       " 4478532734: ['0.5', '0.4995'],\n",
       " 4820107221: ['1', '1'],\n",
       " 1094372: ['0.5', '0.4995'],\n",
       " 5782232: ['0.5', '0.2493'],\n",
       " 6564578: ['0.5', '0.4995'],\n",
       " 38643517: ['0.5', '0.2493'],\n",
       " 38660233: ['0.5', '0.2493'],\n",
       " 63693701: ['0.5', '0.1241'],\n",
       " 305387614: ['0.5', '0.2493'],\n",
       " 306867599: ['0.5', '0.749'],\n",
       " 317477875: ['0.5', '0.749'],\n",
       " 317508506: ['0.5', '0.749'],\n",
       " 336021529: ['0.5', '0.2493'],\n",
       " 336041146: ['0.5', '0.2493'],\n",
       " 336045605: ['0.5', '0.2493'],\n",
       " 346894214: ['0.5', '0.749'],\n",
       " 351622730: ['0.5', '0.4995'],\n",
       " 351655433: ['0.5', '0.4995'],\n",
       " 400453824: ['0.5', '0.2493'],\n",
       " 410719113: ['0.5', '0.2493'],\n",
       " 428232278: ['0.5', '0.4995'],\n",
       " 554297904: ['0.5', '0.4995'],\n",
       " 766862210: ['0.5', '0.4995'],\n",
       " 788473787: ['0.5', '0.4995'],\n",
       " 1436808502: ['0.5', '0.2493'],\n",
       " 1538070026: ['0.5', '0.4995'],\n",
       " 2347183346: ['0.5', '0.4995'],\n",
       " 2597181568: ['0.5', '0.4995'],\n",
       " 3550505857: ['0.5', '0.4995'],\n",
       " 3689296354: ['0.5', '0.2493'],\n",
       " 4195709955: ['0.5', '0.4995'],\n",
       " 4820060534: ['1', '1'],\n",
       " 4820095363: ['1', '1'],\n",
       " 4820106260: ['1', '1'],\n",
       " 4820222658: ['1', '1'],\n",
       " 705779: ['0.5', '0.4995'],\n",
       " 711699: ['0.5', '0.4995'],\n",
       " 770712: ['0.5', '0.4995'],\n",
       " 1339662: ['0.5', '0.4995'],\n",
       " 5782512: ['0.5', '0.2493'],\n",
       " 38643412: ['0.5', '0.2493'],\n",
       " 105374879: ['0.5', '0.2493'],\n",
       " 257333196: ['0.5', '0.749'],\n",
       " 257407435: ['0.5', '0.749'],\n",
       " 284787048: ['0.5', '0.4995'],\n",
       " 294979177: ['0.5', '0.2493'],\n",
       " 317469423: ['0.5', '0.2493'],\n",
       " 336025729: ['0.5', '0.2493'],\n",
       " 336047452: ['0.5', '0.2493'],\n",
       " 339408575: ['0.5', '0.2493'],\n",
       " 344676830: ['0.5', '0.2493'],\n",
       " 368685202: ['0.5', '0.4995'],\n",
       " 372634885: ['0.5', '0.4995'],\n",
       " 854805938: ['0.5', '0.4995'],\n",
       " 1436330919: ['0.5', '0.4995'],\n",
       " 1436377758: ['0.5', '0.4995'],\n",
       " 1437827083: ['0.5', '0.4995'],\n",
       " 1439119989: ['0.5', '0.4995'],\n",
       " 2055189514: ['0.5', '0.2493'],\n",
       " 2141923151: ['0.5', '0.4995'],\n",
       " 2888553260: ['0.5', '0.4995'],\n",
       " 3418895532: ['0.5', '0.749'],\n",
       " 4795997176: ['0.5', '0.4995'],\n",
       " 4820108789: ['1', '1'],\n",
       " 682845: ['0.5', '0.4995'],\n",
       " 904210: ['0.5', '0.4995'],\n",
       " 906649: ['0.5', '0.4995'],\n",
       " 1272159: ['0.5', '0.4995'],\n",
       " 1301802: ['0.5', '0.4995'],\n",
       " 1335782: ['0.5', '0.2493'],\n",
       " 6608523: ['0.5', '0.4995'],\n",
       " 6641699: ['0.5', '0.4995'],\n",
       " 7305032: ['0.5', '0.4995'],\n",
       " 7819704: ['0.5', '0.2493'],\n",
       " 16915984: ['0.5', '0.4995'],\n",
       " 38674122: ['0.5', '0.2493'],\n",
       " 38681076: ['0.5', '0.2493'],\n",
       " 84899647: ['0.5', '0.2493'],\n",
       " 224753559: ['0.5', '0.4995'],\n",
       " 227419590: ['0.5', '0.4995'],\n",
       " 257346371: ['0.5', '0.749'],\n",
       " 294771500: ['0.5', '0.2493'],\n",
       " 317477952: ['0.5', '0.749'],\n",
       " 317498694: ['0.5', '0.2493'],\n",
       " 332566664: ['0.5', '0.2493'],\n",
       " 336047523: ['0.5', '0.2493'],\n",
       " 348646479: ['0.5', '0.4995'],\n",
       " 351613868: ['0.5', '0.4995'],\n",
       " 351652789: ['0.5', '0.4995'],\n",
       " 772666454: ['0.5', '0.749'],\n",
       " 1436464299: ['0.5', '0.4995'],\n",
       " 1629793515: ['0.5', '0.2493'],\n",
       " 2110421459: ['0.5', '0.2493'],\n",
       " 2286671026: ['0.5', '0.4995'],\n",
       " 2671605921: ['0.5', '0.2493'],\n",
       " 3337839486: ['0.25', '0.2498'],\n",
       " 3602529582: ['0.5', '0.4995'],\n",
       " 3803566506: ['0.5', '0.4995'],\n",
       " 4820019450: ['1', '1'],\n",
       " 5623125514: ['0.5', '0.4995'],\n",
       " 765989: ['0.5', '0.4995'],\n",
       " 1093700: ['0.5', '0.2493'],\n",
       " 1095319: ['0.5', '0.4995'],\n",
       " 1271833: ['0.5', '0.4995'],\n",
       " 2851837: ['0.5', '0.2493'],\n",
       " 8631326: ['0.5', '0.4995'],\n",
       " 31104427: ['0.5', '0.2493'],\n",
       " 97959436: ['0.5', '0.4995'],\n",
       " 219393952: ['0.5', '0.2493'],\n",
       " 257505271: ['0.5', '0.2493'],\n",
       " 317469887: ['0.5', '0.749'],\n",
       " 317487785: ['0.5', '0.749'],\n",
       " 336030691: ['0.5', '0.2493'],\n",
       " 376263234: ['0.5', '0.4995'],\n",
       " 459756757: ['0.5', '0.2493'],\n",
       " 854764722: ['0.5', '0.4995'],\n",
       " 1436697693: ['0.5', '0.4995'],\n",
       " 2016446444: ['0.5', '0.4995'],\n",
       " 2107745157: ['0.5', '0.4995'],\n",
       " 2421068435: ['0.5', '0.4995'],\n",
       " 2712460042: ['0.5', '0.2493'],\n",
       " 3337970143: ['0.25', '0.2498'],\n",
       " 3364737383: ['0.5', '0.2493'],\n",
       " 3822359761: ['0.5', '0.4995'],\n",
       " 4105658221: ['0.5', '0.4995'],\n",
       " 4303317706: ['0.5', '0.4995'],\n",
       " 4303412517: ['0.5', '0.4995'],\n",
       " 4304169535: ['0.5', '0.4995'],\n",
       " 4478386750: ['0.5', '0.4995'],\n",
       " 4820136784: ['1', '1'],\n",
       " 4820310542: ['1', '1'],\n",
       " 711823: ['0.5', '0.4995'],\n",
       " 717321: ['0.5', '0.4995'],\n",
       " 906376: ['0.5', '0.4995'],\n",
       " 2538004: ['0.5', '0.4995'],\n",
       " 6640625: ['0.5', '0.4995'],\n",
       " 8053587: ['0.5', '0.4995'],\n",
       " 16908952: ['0.5', '0.2493'],\n",
       " 16928907: ['0.5', '0.2493'],\n",
       " 38737461: ['0.5', '0.2493'],\n",
       " 46274553: ['0.5', '0.4995'],\n",
       " 227428588: ['0.5', '0.4995'],\n",
       " 257407746: ['0.5', '0.749'],\n",
       " 336032772: ['0.5', '0.2493'],\n",
       " 336038557: ['0.5', '0.2493'],\n",
       " 1429206047: ['0.5', '0.4995'],\n",
       " 1436485910: ['0.5', '0.4995'],\n",
       " 3457014912: ['0.5', '0.4995'],\n",
       " 3584786183: ['0.5', '0.2493'],\n",
       " 3938682936: ['0.5', '0.4995'],\n",
       " 4596235621: ['0.5', '0.2493'],\n",
       " 4820107181: ['1', '1'],\n",
       " 6949985: ['0.5', '0.4995'],\n",
       " 7777392: ['0.5', '0.4995'],\n",
       " 16916378: ['0.5', '0.4995'],\n",
       " 257340274: ['0.5', '0.2493'],\n",
       " 294816859: ['0.5', '0.2493'],\n",
       " 317488450: ['0.5', '0.749'],\n",
       " 318386122: ['0.5', '0.2493'],\n",
       " 336021511: ['0.5', '0.2493'],\n",
       " 410834444: ['0.5', '0.2493'],\n",
       " 659824137: ['0.5', '0.2493'],\n",
       " 708711467: ['0.5', '0.4995'],\n",
       " 1436532760: ['0.5', '0.4995'],\n",
       " 1439078877: ['0.5', '0.4995'],\n",
       " 3464239469: ['0.5', '0.4995'],\n",
       " 3550430599: ['0.5', '0.749'],\n",
       " 4352489679: ['0.5', '0.4995'],\n",
       " 4820223849: ['1', '1'],\n",
       " 1273811: ['0.5', '0.4995'],\n",
       " 1340229: ['0.5', '0.2493'],\n",
       " 6639226: ['0.5', '0.4995'],\n",
       " 9821127: ['0.5', '0.4995'],\n",
       " 32007818: ['0.5', '0.2493'],\n",
       " 38728361: ['0.5', '0.2493'],\n",
       " 38743463: ['0.5', '0.1241'],\n",
       " 257408542: ['0.5', '0.749'],\n",
       " 257421262: ['0.5', '0.749'],\n",
       " 257503381: ['0.5', '0.749'],\n",
       " 288787678: ['0.5', '0.2493'],\n",
       " 294949136: ['0.5', '0.2493'],\n",
       " 317497829: ['0.5', '0.749'],\n",
       " 348423212: ['0.5', '0.4995'],\n",
       " 400468854: ['0.5', '0.2493'],\n",
       " 400801404: ['0.5', '0.749'],\n",
       " 437119790: ['0.5', '0.4995'],\n",
       " 664851631: ['0.5', '0.2493'],\n",
       " 1807152790: ['0.5', '0.2493'],\n",
       " 2197654082: ['0.5', '0.4995'],\n",
       " 2343873124: ['0.5', '0.4995'],\n",
       " 3324440159: ['0.5', '0.749'],\n",
       " 3339642990: ['0.5', '0.2493'],\n",
       " 3593970926: ['0.5', '0.2493'],\n",
       " 3890244007: ['0.5', '0.749'],\n",
       " 4088907451: ['0.5', '0.4995'],\n",
       " 4489088773: ['0.5', '0.4995'],\n",
       " 4777128180: ['0.5', '0.4995'],\n",
       " 4802889491: ['1', '1'],\n",
       " 4820028357: ['1', '1'],\n",
       " 485231: ['0.5', '0.4995'],\n",
       " 660255: ['0.5', '0.4995'],\n",
       " 1094688: ['0.5', '0.2493'],\n",
       " 1094900: ['0.5', '0.4995'],\n",
       " 5784322: ['0.5', '0.2493'],\n",
       " 38646813: ['0.5', '0.2493'],\n",
       " 157035082: ['0.5', '0.2493'],\n",
       " 200471163: ['0.5', '0.4995'],\n",
       " 257335616: ['0.5', '0.749'],\n",
       " 257335656: ['0.5', '0.749'],\n",
       " 257351341: ['0.5', '0.749'],\n",
       " 258086557: ['0.5', '0.749'],\n",
       " 284006086: ['0.5', '0.2493'],\n",
       " 317484334: ['0.5', '0.749'],\n",
       " 317808364: ['0.5', '0.749'],\n",
       " 318473412: ['0.5', '0.2493'],\n",
       " 501587398: ['0.5', '0.749'],\n",
       " 1390915544: ['0.25', '0.2498'],\n",
       " 1918889600: ['0.5', '0.4995'],\n",
       " 2107659403: ['0.5', '0.4995'],\n",
       " 2661949824: ['0.5', '0.2493'],\n",
       " 3359095433: ['0.5', '0.4995'],\n",
       " 3813357924: ['0.5', '0.2493'],\n",
       " 4476641148: ['0.5', '0.4995'],\n",
       " 4820073848: ['1', '1'],\n",
       " 5420847658: ['0.5', '0.4995'],\n",
       " 6457070948: ['0.5', '0.4995'],\n",
       " 903486: ['0.5', '0.4995'],\n",
       " 1092965: ['0.5', '0.2493'],\n",
       " 1271361: ['0.5', '0.4995'],\n",
       " 1272155: ['0.5', '0.4995'],\n",
       " 1673659: ['0.5', '0.4995'],\n",
       " 1697677: ['0.5', '0.4995'],\n",
       " 1823626: ['0.5', '0.4995'],\n",
       " 6562994: ['0.5', '0.4995'],\n",
       " 38663466: ['0.5', '0.2493'],\n",
       " 97981338: ['0.5', '0.4995'],\n",
       " 257409943: ['0.5', '0.749'],\n",
       " 284793624: ['0.5', '0.4995'],\n",
       " 294949124: ['0.5', '0.2493'],\n",
       " 317495556: ['0.5', '0.2493'],\n",
       " 317508489: ['0.5', '0.749'],\n",
       " 354559698: ['0.5', '0.4995'],\n",
       " 376216874: ['0.5', '0.4995'],\n",
       " 647588099: ['0.5', '0.4995'],\n",
       " 771938833: ['0.5', '0.4995'],\n",
       " 929587440: ['0.5', '0.4995'],\n",
       " 1224984462: ['0.5', '0.4995'],\n",
       " 1438250730: ['0.5', '0.4995'],\n",
       " 1438292186: ['0.5', '0.2493'],\n",
       " 1979254853: ['0.5', '0.4995'],\n",
       " 2006599354: ['0.5', '0.4995'],\n",
       " 3337872170: ['0.25', '0.2498'],\n",
       " 4156205778: ['0.5', '0.2493'],\n",
       " 4246106222: ['0.5', '0.749'],\n",
       " 4302684846: ['0.5', '0.4995'],\n",
       " 5242994244: ['0.5', '0.4995'],\n",
       " 5373129631: ['0.5', '0.4995'],\n",
       " 25: ['0.5', '0.2493'],\n",
       " 711597: ['0.5', '0.4995'],\n",
       " 1093463: ['0.5', '0.2493'],\n",
       " 1271583: ['0.5', '0.4995'],\n",
       " 1271992: ['0.5', '0.4995'],\n",
       " 1274981: ['0.5', '0.4995'],\n",
       " 6564909: ['0.5', '0.4995'],\n",
       " 16915976: ['0.5', '0.4995'],\n",
       " 82793364: ['0.5', '0.2493'],\n",
       " 257333198: ['0.5', '0.749'],\n",
       " 257408481: ['0.5', '0.749'],\n",
       " 332422674: ['0.5', '0.2493'],\n",
       " 336055764: ['0.5', '0.2493'],\n",
       " 351618647: ['0.5', '0.4995'],\n",
       " 369729582: ['0.5', '0.4995'],\n",
       " 400426730: ['0.5', '0.2493'],\n",
       " 1199240546: ['0.5', '0.2493'],\n",
       " 1304524039: ['0.5', '0.4995'],\n",
       " 1436313838: ['0.5', '0.2493'],\n",
       " 1436356498: ['0.5', '0.4995'],\n",
       " 2678068039: ['0.5', '0.4995'],\n",
       " ...}"
      ]
     },
     "execution_count": 67,
     "metadata": {},
     "output_type": "execute_result"
    }
   ],
   "source": [
    "machine_events_dict"
   ]
  },
  {
   "cell_type": "code",
   "execution_count": 68,
   "metadata": {},
   "outputs": [],
   "source": [
    "#list_machine_events = map(lambda row: row.asDict(), machine_events_dict.collect())\n",
    "#dict_machine_events = {str(person['machineID']): person for person in machine_events_dict}"
   ]
  },
  {
   "cell_type": "code",
   "execution_count": 74,
   "metadata": {},
   "outputs": [],
   "source": [
    "dict_machine_events_bc = sc.broadcast(machine_events_dict)"
   ]
  },
  {
   "cell_type": "code",
   "execution_count": 116,
   "metadata": {},
   "outputs": [],
   "source": [
    "def get_resources(x, p):\n",
    "    #print(type(x))\n",
    "    if dict_machine_events_bc.value.get(int(x)) is not None:\n",
    "        dict_val = dict_machine_events_bc.value.get(int(x))\n",
    "    else:\n",
    "        dict_val = (x, str(x), '00.0')\n",
    "    #machine_events_df.where(machine_events_dict['machineID']==x).rdd.map(lambda row : row[0]).collect()[0]\n",
    "    #print(val1)\n",
    "    #cpu, memory\n",
    "    return (x, dict_val[0], dict_val[1], p)"
   ]
  },
  {
   "cell_type": "code",
   "execution_count": 117,
   "metadata": {},
   "outputs": [
    {
     "name": "stdout",
     "output_type": "stream",
     "text": [
      "root\n",
      " |-- timestamp: string (nullable = true)\n",
      " |-- jobID: string (nullable = true)\n",
      " |-- taskID: string (nullable = true)\n",
      " |-- machineID: string (nullable = true)\n",
      " |-- eventType: string (nullable = true)\n",
      " |-- userName: string (nullable = true)\n",
      " |-- schedulingClass: string (nullable = true)\n",
      " |-- priority: string (nullable = true)\n",
      " |-- CPUreq: string (nullable = true)\n",
      " |-- RAMrec: string (nullable = true)\n",
      " |-- diskRec: string (nullable = true)\n",
      " |-- const: string (nullable = true)\n",
      "\n"
     ]
    }
   ],
   "source": [
    "task_events_df.printSchema()"
   ]
  },
  {
   "cell_type": "code",
   "execution_count": 118,
   "metadata": {},
   "outputs": [],
   "source": [
    "task_events_rdd = task_events_df.rdd.map(tuple)\n",
    "#.map(lambda x: get_resources(x[0])).collect()"
   ]
  },
  {
   "cell_type": "code",
   "execution_count": 119,
   "metadata": {},
   "outputs": [],
   "source": [
    "resources_rdd = task_events_rdd.map(lambda x: get_resources(x[3], x[7]))\n",
    "#machineID, CPU, memory, priority\n",
    "#machine_events_df.where(machine_events_dict['machineID']==x['machineID']).rdd.map(lambda row : row[0]).collect()[0]).collect()"
   ]
  },
  {
   "cell_type": "code",
   "execution_count": 126,
   "metadata": {},
   "outputs": [],
   "source": [
    "total = resources_rdd.count()"
   ]
  },
  {
   "cell_type": "code",
   "execution_count": 133,
   "metadata": {},
   "outputs": [
    {
     "data": {
      "text/plain": [
       "[('4155527081', '0.5', '0.2493', '9'),\n",
       " ('329150663', '329150663', '329150663', '9'),\n",
       " ('3938719206', '3938719206', '3938719206', '9'),\n",
       " ('351618647', '0.5', '0.4995', '9')]"
      ]
     },
     "execution_count": 133,
     "metadata": {},
     "output_type": "execute_result"
    }
   ],
   "source": [
    "resources_rdd.take(4)"
   ]
  },
  {
   "cell_type": "code",
   "execution_count": 155,
   "metadata": {},
   "outputs": [],
   "source": [
    "present_rdd = resources_rdd.filter(lambda x: x[1]!='00.0').map(lambda x: (x[0], float(x[1]), float(x[2]), int(x[3])))\n",
    "present = present_rdd.count()"
   ]
  },
  {
   "cell_type": "code",
   "execution_count": 156,
   "metadata": {},
   "outputs": [
    {
     "name": "stdout",
     "output_type": "stream",
     "text": [
      "There are 0.0% machineIDs missing\n"
     ]
    }
   ],
   "source": [
    "print(\"There are {}% machineIDs missing\".format(100*int(total - present)/total))"
   ]
  },
  {
   "cell_type": "code",
   "execution_count": 163,
   "metadata": {},
   "outputs": [],
   "source": [
    "sqlContext = SQLContext(sc)\n",
    "present_df = sqlContext.createDataFrame(present_rdd, schema=['machineID', 'CPU', 'memory', 'priority'])"
   ]
  },
  {
   "cell_type": "code",
   "execution_count": 164,
   "metadata": {},
   "outputs": [],
   "source": [
    "present_df_distinct = present_df.select('machineID', 'CPU', 'memory', 'priority').distinct().select('CPU', 'memory', 'priority')"
   ]
  },
  {
   "cell_type": "code",
   "execution_count": 169,
   "metadata": {},
   "outputs": [
    {
     "ename": "TypeError",
     "evalue": "test() takes 3 positional arguments but 4 were given",
     "output_type": "error",
     "traceback": [
      "\u001b[0;31m---------------------------------------------------------------------------\u001b[0m",
      "\u001b[0;31mTypeError\u001b[0m                                 Traceback (most recent call last)",
      "\u001b[0;32m<ipython-input-169-4412445abed3>\u001b[0m in \u001b[0;36m<module>\u001b[0;34m()\u001b[0m\n\u001b[1;32m      1\u001b[0m \u001b[0;32mfrom\u001b[0m \u001b[0mpyspark\u001b[0m\u001b[0;34m.\u001b[0m\u001b[0mml\u001b[0m\u001b[0;34m.\u001b[0m\u001b[0mlinalg\u001b[0m \u001b[0;32mimport\u001b[0m \u001b[0mVectors\u001b[0m\u001b[0;34m\u001b[0m\u001b[0m\n\u001b[1;32m      2\u001b[0m \u001b[0;32mfrom\u001b[0m \u001b[0mpyspark\u001b[0m\u001b[0;34m.\u001b[0m\u001b[0mml\u001b[0m\u001b[0;34m.\u001b[0m\u001b[0mstat\u001b[0m \u001b[0;32mimport\u001b[0m \u001b[0mChiSquareTest\u001b[0m\u001b[0;34m\u001b[0m\u001b[0m\n\u001b[0;32m----> 3\u001b[0;31m \u001b[0mr\u001b[0m \u001b[0;34m=\u001b[0m \u001b[0mChiSquareTest\u001b[0m\u001b[0;34m.\u001b[0m\u001b[0mtest\u001b[0m\u001b[0;34m(\u001b[0m\u001b[0mpresent_df_distinct\u001b[0m\u001b[0;34m,\u001b[0m \u001b[0;34m'prioriy'\u001b[0m\u001b[0;34m,\u001b[0m \u001b[0;34m'CPU'\u001b[0m\u001b[0;34m,\u001b[0m \u001b[0;34m'memory'\u001b[0m\u001b[0;34m)\u001b[0m\u001b[0;34m.\u001b[0m\u001b[0mhead\u001b[0m\u001b[0;34m(\u001b[0m\u001b[0;34m)\u001b[0m\u001b[0;34m\u001b[0m\u001b[0m\n\u001b[0m\u001b[1;32m      4\u001b[0m \u001b[0mprint\u001b[0m\u001b[0;34m(\u001b[0m\u001b[0;34m\"pValues: \"\u001b[0m \u001b[0;34m+\u001b[0m \u001b[0mstr\u001b[0m\u001b[0;34m(\u001b[0m\u001b[0mr\u001b[0m\u001b[0;34m.\u001b[0m\u001b[0mpValues\u001b[0m\u001b[0;34m)\u001b[0m\u001b[0;34m)\u001b[0m\u001b[0;34m\u001b[0m\u001b[0m\n\u001b[1;32m      5\u001b[0m \u001b[0mprint\u001b[0m\u001b[0;34m(\u001b[0m\u001b[0;34m\"degreesOfFreedom: \"\u001b[0m \u001b[0;34m+\u001b[0m \u001b[0mstr\u001b[0m\u001b[0;34m(\u001b[0m\u001b[0mr\u001b[0m\u001b[0;34m.\u001b[0m\u001b[0mdegreesOfFreedom\u001b[0m\u001b[0;34m)\u001b[0m\u001b[0;34m)\u001b[0m\u001b[0;34m\u001b[0m\u001b[0m\n",
      "\u001b[0;31mTypeError\u001b[0m: test() takes 3 positional arguments but 4 were given"
     ]
    }
   ],
   "source": [
    "from pyspark.ml.linalg import Vectors\n",
    "from pyspark.ml.stat import ChiSquareTest\n",
    "r = ChiSquareTest.test(present_df_distinct, 'prioriy', 'CPU', 'memory').head()\n",
    "print(\"pValues: \" + str(r.pValues))\n",
    "print(\"degreesOfFreedom: \" + str(r.degreesOfFreedom))\n",
    "print(\"statistics: \" + str(r.statistics))"
   ]
  },
  {
   "cell_type": "code",
   "execution_count": 166,
   "metadata": {},
   "outputs": [],
   "source": [
    "from pyspark.ml.stat import Correlation\n",
    "from pyspark.ml.feature import VectorAssembler\n",
    "\n",
    "# convert to vector column first\n",
    "vector_col = \"corr_features\"\n",
    "assembler = VectorAssembler(inputCols=present_df_distinct.columns, outputCol=vector_col)\n",
    "df_vector = assembler.transform(present_df_distinct).select(vector_col)\n",
    "\n",
    "# get correlation matrix\n",
    "matrix = Correlation.corr(df_vector, vector_col)"
   ]
  },
  {
   "cell_type": "code",
   "execution_count": 168,
   "metadata": {},
   "outputs": [
    {
     "data": {
      "text/plain": [
       "array([ 1.       ,  1.       , -0.0314909,  1.       ,  1.       ,\n",
       "       -0.0314909, -0.0314909, -0.0314909,  1.       ])"
      ]
     },
     "execution_count": 168,
     "metadata": {},
     "output_type": "execute_result"
    }
   ],
   "source": [
    "matrix.collect()[0][\"pearson({})\".format(vector_col)].values"
   ]
  },
  {
   "cell_type": "markdown",
   "metadata": {},
   "source": [
    "         priority     CPU         memory \n",
    "priority               1.         -0.0314909\n",
    "CPU      1.                       -0.0314909\n",
    "memory   -0.0314909  -0.0314909\n",
    "\n",
    "\n"
   ]
  },
  {
   "cell_type": "code",
   "execution_count": 170,
   "metadata": {},
   "outputs": [],
   "source": [
    "#present_df_distinct.show()\n",
    "#present_df_distinct.show()"
   ]
  },
  {
   "cell_type": "markdown",
   "metadata": {},
   "source": [
    "## Q6: Are there tasks that consume significantly less resources than what they requested?"
   ]
  },
  {
   "cell_type": "markdown",
   "metadata": {},
   "source": [
    "1. starttime ofthemeasurementperiod\n",
    "2. endtime ofthemeasurementperiod\n",
    "3. jobID\n",
    "4. taskindex\n",
    "5. machineID\n",
    "6. meanCPUusagerate\n",
    "7. canonicalmemoryusage\n",
    "8. assignedmemoryusage\n",
    "9. unmappedpagecachememoryusage 10. total page cache memory usage\n",
    "11. maximum memory usage\n",
    "12. mean disk I/O time\n",
    "13. mean local disk space used\n",
    "14. maximum CPU usage\n",
    "15. maximum disk IO time\n",
    "16. cycles per instruction (CPI)\n",
    "17. memory accesses per instruction (MAI)\n",
    "18. sample portion\n",
    "19. aggregation type (1 if maximums from subcontainers were summed) \n",
    "\n",
    "20. sampled CPU usage: mean CPU usage during a random 1s sample in the measurement period  (only in v2.1 and later)\n",
    "\n",
    "\n"
   ]
  },
  {
   "cell_type": "code",
   "execution_count": 16,
   "metadata": {},
   "outputs": [],
   "source": [
    "import pyspark.sql.functions as f"
   ]
  },
  {
   "cell_type": "code",
   "execution_count": 12,
   "metadata": {},
   "outputs": [],
   "source": [
    "task_usage = sc.textFile('../../datasets/task_usage/part-00000-of-00500.csv')"
   ]
  },
  {
   "cell_type": "code",
   "execution_count": 14,
   "metadata": {},
   "outputs": [],
   "source": [
    "task_usage = sc.textFile('../../datasets/task_usage/part-00000-of-00500.csv')\n",
    "task_usage_colnames=['starttime', 'endtime', 'jobID', 'taskID', 'machineID', 'cpu_usage', 'mem_usage', \n",
    "                         'assigned_mem', 'unmapped_cache_usage', 'page_cache_usage', 'max_mem_usage', 'disk_io_time', \n",
    "                         'max_disk_space', 'max_cpu_usage', 'max_disk_io_time', 'cpi', 'mai', 'sampling_rate', 'agg_type', 'sampled_cpu_usage']\n",
    "\n",
    "task_usage = task_usage.map(lambda line: line.split(\",\"))\n",
    "task_usage = task_usage.filter(lambda X: '' not in X)\n",
    "task_usage = task_usage.map(lambda tokens: (int(tokens[0]), int(tokens[1]), int(tokens[2]), int(tokens[3]), int(tokens[4]), float(tokens[5]), float(tokens[6]), float(tokens[7]), float(tokens[8]), float(tokens[9]), float(tokens[10]), float(tokens[11]), float(tokens[12]), float(tokens[13]), float(tokens[14]), float(tokens[15]), float(tokens[16]), int(tokens[17]), int(tokens[18]), float(tokens[19])))\n",
    "sqlContext = SQLContext(sc)\n",
    "task_usage_df = sqlContext.createDataFrame(task_usage, schema=task_usage_colnames)\n",
    "task_usage_df_1 = task_usage_df.select('jobID', 'taskID', 'machineID', 'cpu_usage', 'mem_usage').distinct()"
   ]
  },
  {
   "cell_type": "code",
   "execution_count": 26,
   "metadata": {},
   "outputs": [
    {
     "name": "stdout",
     "output_type": "stream",
     "text": [
      "+---------+-------+------+----------+---------+--------------------+---------------+--------+------+-------+---------+-----+\n",
      "|timestamp|  jobID|taskID| machineID|eventType|            userName|schedulingClass|priority|CPUreq| RAMreq|  diskreq|const|\n",
      "+---------+-------+------+----------+---------+--------------------+---------------+--------+------+-------+---------+-----+\n",
      "|        0|3418309|     0|4155527081|        0|70s3v5qRyCO/1PCdI...|              3|       9|      |       |         |     |\n",
      "|        0|3418309|     1| 329150663|        0|70s3v5qRyCO/1PCdI...|              3|       9|      |       |         |     |\n",
      "|        0|3418314|     0|3938719206|        0|70s3v5qRyCO/1PCdI...|              3|       9| 0.125|0.07446|0.0004244|    0|\n",
      "|        0|3418314|     1| 351618647|        0|70s3v5qRyCO/1PCdI...|              3|       9| 0.125|0.07446|0.0004244|    0|\n",
      "|        0|3418319|     0| 431052910|        0|70s3v5qRyCO/1PCdI...|              3|       9|      |       |         |     |\n",
      "|        0|3418319|     1| 257348783|        0|70s3v5qRyCO/1PCdI...|              3|       9|      |       |         |     |\n",
      "|        0|3418324|     0|5655258253|        0|70s3v5qRyCO/1PCdI...|              3|       9|      |       |         |     |\n",
      "|        0|3418324|     1|3550322224|        0|70s3v5qRyCO/1PCdI...|              3|       9|      |       |         |     |\n",
      "|        0|3418329|     0|   1303745|        0|70s3v5qRyCO/1PCdI...|              3|       9|      |       |         |     |\n",
      "|        0|3418329|     1|3894543095|        0|70s3v5qRyCO/1PCdI...|              3|       9|      |       |         |     |\n",
      "|        0|3418329|     2| 336025676|        0|70s3v5qRyCO/1PCdI...|              3|       9|      |       |         |     |\n",
      "|        0|3418334|     0|3405236527|        0|70s3v5qRyCO/1PCdI...|              3|       9|      |       |         |     |\n",
      "|        0|3418334|     1| 431081448|        0|70s3v5qRyCO/1PCdI...|              3|       9|      |       |         |     |\n",
      "|        0|3418339|     0|  84899647|        0|70s3v5qRyCO/1PCdI...|              3|       9|      |       |         |     |\n",
      "|        0|3418339|     1|   1268205|        0|70s3v5qRyCO/1PCdI...|              3|       9|      |       |         |     |\n",
      "|        0|3418339|     2|   7753127|        0|70s3v5qRyCO/1PCdI...|              3|       9|      |       |         |     |\n",
      "|        0|3418339|     3| 351621284|        0|70s3v5qRyCO/1PCdI...|              3|       9|      |       |         |     |\n",
      "|        0|3418339|     4| 317488701|        0|70s3v5qRyCO/1PCdI...|              3|       9|      |       |         |     |\n",
      "|        0|3418339|     5|2595183881|        0|70s3v5qRyCO/1PCdI...|              3|       9|      |       |         |     |\n",
      "|        0|3418339|     6| 621588868|        0|70s3v5qRyCO/1PCdI...|              3|       9|      |       |         |     |\n",
      "+---------+-------+------+----------+---------+--------------------+---------------+--------+------+-------+---------+-----+\n",
      "only showing top 20 rows\n",
      "\n"
     ]
    }
   ],
   "source": []
  },
  {
   "cell_type": "code",
   "execution_count": 33,
   "metadata": {},
   "outputs": [],
   "source": [
    "task_usage_df_1 = task_usage_df.select('jobID', 'taskID', 'machineID', 'cpu_usage', 'mem_usage').distinct()\n",
    "task_events_df_distinct = task_events_df.dropDuplicates(['machineID', 'jobID', 'taskID']).where(col(\"CPUreq\").isNotNull()).where(col(\"RAMreq\").isNotNull())\n",
    "#if cpu/mem_rat < 1 => we consume less than request"
   ]
  },
  {
   "cell_type": "code",
   "execution_count": 50,
   "metadata": {},
   "outputs": [
    {
     "name": "stdout",
     "output_type": "stream",
     "text": [
      "+---------+---------+------+---------+---------+--------------------+---------------+--------+-------+-------+---------+-----+---------+------+---------+---------+---------+\n",
      "|timestamp|    jobID|taskID|machineID|eventType|            userName|schedulingClass|priority| CPUreq| RAMreq|  diskreq|const|    jobID|taskID|machineID|cpu_usage|mem_usage|\n",
      "+---------+---------+------+---------+---------+--------------------+---------------+--------+-------+-------+---------+-----+---------+------+---------+---------+---------+\n",
      "|        0| 39308688|     1|  1099042|        0|70s3v5qRyCO/1PCdI...|              3|       9|       |       |         |     | 39308688|     1|  1099042|  1.65E-4|  0.03296|\n",
      "|        0| 39308688|     1|  1099042|        0|70s3v5qRyCO/1PCdI...|              3|       9|       |       |         |     | 39308688|     1|  1099042| 1.411E-4|  0.03296|\n",
      "|        0| 39308688|     1|  1099042|        0|70s3v5qRyCO/1PCdI...|              3|       9|       |       |         |     | 39308688|     1|  1099042| 1.745E-4|  0.03296|\n",
      "|        0| 39308688|     1|  1099042|        0|70s3v5qRyCO/1PCdI...|              3|       9|       |       |         |     | 39308688|     1|  1099042| 1.526E-4|  0.03296|\n",
      "|        0| 39308688|     1|  1099042|        0|70s3v5qRyCO/1PCdI...|              3|       9|       |       |         |     | 39308688|     1|  1099042| 1.392E-4|  0.03296|\n",
      "|        0| 39308688|     1|  1099042|        0|70s3v5qRyCO/1PCdI...|              3|       9|       |       |         |     | 39308688|     1|  1099042| 1.593E-4|  0.03296|\n",
      "|        0| 39308688|     1|  1099042|        0|70s3v5qRyCO/1PCdI...|              3|       9|       |       |         |     | 39308688|     1|  1099042| 1.535E-4|  0.03296|\n",
      "|        0| 39308688|     1|  1099042|        0|70s3v5qRyCO/1PCdI...|              3|       9|       |       |         |     | 39308688|     1|  1099042| 1.564E-4|  0.03296|\n",
      "|        0| 39308688|     1|  1099042|        0|70s3v5qRyCO/1PCdI...|              3|       9|       |       |         |     | 39308688|     1|  1099042| 1.602E-4|  0.03296|\n",
      "|        0| 39308688|     1|  1099042|        0|70s3v5qRyCO/1PCdI...|              3|       9|       |       |         |     | 39308688|     1|  1099042|  1.44E-4|  0.03296|\n",
      "|        0| 39308688|     1|  1099042|        0|70s3v5qRyCO/1PCdI...|              3|       9|       |       |         |     | 39308688|     1|  1099042| 1.755E-4|  0.03296|\n",
      "|        0| 39308688|     1|  1099042|        0|70s3v5qRyCO/1PCdI...|              3|       9|       |       |         |     | 39308688|     1|  1099042|  1.64E-4|  0.03296|\n",
      "|        0| 39308688|     1|  1099042|        0|70s3v5qRyCO/1PCdI...|              3|       9|       |       |         |     | 39308688|     1|  1099042| 1.469E-4|  0.03296|\n",
      "|        0|246757899|     0| 31104427|        0|AL1ptJgzhEaoLf97k...|              1|      10|0.03125|0.01244|3.815e-05|    0|246757899|     0| 31104427| 0.001562| 0.009476|\n",
      "|        0|246757899|     0| 31104427|        0|AL1ptJgzhEaoLf97k...|              1|      10|0.03125|0.01244|3.815e-05|    0|246757899|     0| 31104427| 0.001913| 0.009613|\n",
      "|        0|246757899|     0| 31104427|        0|AL1ptJgzhEaoLf97k...|              1|      10|0.03125|0.01244|3.815e-05|    0|246757899|     0| 31104427| 0.001623| 0.009552|\n",
      "|        0|246757899|     0| 31104427|        0|AL1ptJgzhEaoLf97k...|              1|      10|0.03125|0.01244|3.815e-05|    0|246757899|     0| 31104427|   0.0014| 0.009567|\n",
      "|        0|246757899|     0| 31104427|        0|AL1ptJgzhEaoLf97k...|              1|      10|0.03125|0.01244|3.815e-05|    0|246757899|     0| 31104427| 0.001337| 0.009506|\n",
      "|        0|246757899|     0| 31104427|        0|AL1ptJgzhEaoLf97k...|              1|      10|0.03125|0.01244|3.815e-05|    0|246757899|     0| 31104427| 0.001869| 0.009583|\n",
      "|        0|246757899|     0| 31104427|        0|AL1ptJgzhEaoLf97k...|              1|      10|0.03125|0.01244|3.815e-05|    0|246757899|     0| 31104427|  0.00135| 0.009583|\n",
      "+---------+---------+------+---------+---------+--------------------+---------------+--------+-------+-------+---------+-----+---------+------+---------+---------+---------+\n",
      "only showing top 20 rows\n",
      "\n"
     ]
    }
   ],
   "source": [
    "df = task_events_df_distinct.join(task_usage_df_1, (task_events_df_distinct.jobID == task_usage_df_1.jobID) & (task_events_df_distinct.machineID == task_usage_df_1.machineID) & (task_events_df_distinct.taskID == task_usage_df_1.taskID))\n",
    "df.show()"
   ]
  },
  {
   "cell_type": "code",
   "execution_count": 63,
   "metadata": {},
   "outputs": [
    {
     "name": "stdout",
     "output_type": "stream",
     "text": [
      "+---------+------+---------+---------+---------+--------------------+---------------+--------+------+-------+---------+-----+---------+---------+\n",
      "|    jobID|taskID|machineID|timestamp|eventType|            userName|schedulingClass|priority|CPUreq| RAMreq|  diskreq|const|cpu_usage|mem_usage|\n",
      "+---------+------+---------+---------+---------+--------------------+---------------+--------+------+-------+---------+-----+---------+---------+\n",
      "| 17109330|   109|336074059|        0|        0|WVtO5qw3sNnP4MeiR...|              3|       9|0.0625|0.09778|0.0005016|    0|  0.03186| 0.008484|\n",
      "| 17109330|   109|336074059|        0|        0|WVtO5qw3sNnP4MeiR...|              3|       9|0.0625|0.09778|0.0005016|    0|  0.03204| 0.008423|\n",
      "| 17109330|   109|336074059|        0|        0|WVtO5qw3sNnP4MeiR...|              3|       9|0.0625|0.09778|0.0005016|    0|  0.03076|  0.00827|\n",
      "| 17109330|   109|336074059|        0|        0|WVtO5qw3sNnP4MeiR...|              3|       9|0.0625|0.09778|0.0005016|    0|  0.03192| 0.008362|\n",
      "| 17109330|   109|336074059|        0|        0|WVtO5qw3sNnP4MeiR...|              3|       9|0.0625|0.09778|0.0005016|    0|   0.0311| 0.008286|\n",
      "| 17109330|   109|336074059|        0|        0|WVtO5qw3sNnP4MeiR...|              3|       9|0.0625|0.09778|0.0005016|    0|  0.03247| 0.008224|\n",
      "| 17109330|   109|336074059|        0|        0|WVtO5qw3sNnP4MeiR...|              3|       9|0.0625|0.09778|0.0005016|    0|  0.03241| 0.008301|\n",
      "| 17109330|   109|336074059|        0|        0|WVtO5qw3sNnP4MeiR...|              3|       9|0.0625|0.09778|0.0005016|    0|  0.03168|  0.00824|\n",
      "| 17109330|   109|336074059|        0|        0|WVtO5qw3sNnP4MeiR...|              3|       9|0.0625|0.09778|0.0005016|    0|  0.03168| 0.008453|\n",
      "| 17109330|   109|336074059|        0|        0|WVtO5qw3sNnP4MeiR...|              3|       9|0.0625|0.09778|0.0005016|    0|  0.03204| 0.008286|\n",
      "| 17109330|   109|336074059|        0|        0|WVtO5qw3sNnP4MeiR...|              3|       9|0.0625|0.09778|0.0005016|    0|  0.03137| 0.008591|\n",
      "| 17109330|   109|336074059|        0|        0|WVtO5qw3sNnP4MeiR...|              3|       9|0.0625|0.09778|0.0005016|    0|  0.03247| 0.008301|\n",
      "| 17109330|   109|336074059|        0|        0|WVtO5qw3sNnP4MeiR...|              3|       9|0.0625|0.09778|0.0005016|    0|  0.03229| 0.008423|\n",
      "| 17109330|   109|336074059|        0|        0|WVtO5qw3sNnP4MeiR...|              3|       9|0.0625|0.09778|0.0005016|    0|  0.03259| 0.008499|\n",
      "| 17109330|   109|336074059|        0|        0|WVtO5qw3sNnP4MeiR...|              3|       9|0.0625|0.09778|0.0005016|    0|  0.03168| 0.008469|\n",
      "| 17109330|   109|336074059|        0|        0|WVtO5qw3sNnP4MeiR...|              3|       9|0.0625|0.09778|0.0005016|    0|  0.03247| 0.008179|\n",
      "| 17109330|   109|336074059|        0|        0|WVtO5qw3sNnP4MeiR...|              3|       9|0.0625|0.09778|0.0005016|    0|  0.03162| 0.008286|\n",
      "|192299653|    27|  1271892|        0|        0|XAk+iT/NLGe4Ow+7A...|              3|       9|0.0625|0.02863| 0.000309|    1|  0.01308|  0.02216|\n",
      "|192299653|    27|  1271892|        0|        0|XAk+iT/NLGe4Ow+7A...|              3|       9|0.0625|0.02863| 0.000309|    1|   0.0135|  0.02216|\n",
      "|192299653|    27|  1271892|        0|        0|XAk+iT/NLGe4Ow+7A...|              3|       9|0.0625|0.02863| 0.000309|    1|  0.01207|  0.02216|\n",
      "+---------+------+---------+---------+---------+--------------------+---------------+--------+------+-------+---------+-----+---------+---------+\n",
      "only showing top 20 rows\n",
      "\n"
     ]
    }
   ],
   "source": [
    "demand = task_events_df_distinct.join(task_usage_df_1, on=['jobID', 'taskID', 'machineID'])\n",
    "demand.show()"
   ]
  },
  {
   "cell_type": "code",
   "execution_count": 69,
   "metadata": {},
   "outputs": [
    {
     "name": "stdout",
     "output_type": "stream",
     "text": [
      "+---------+------+---------+---------+---------+--------------------+---------------+--------+------+-------+---------+-----+---------+---------+-------+-------------------+-------------------+\n",
      "|    jobID|taskID|machineID|timestamp|eventType|            userName|schedulingClass|priority|CPUreq| RAMreq|  diskreq|const|cpu_usage|mem_usage|cpu_rat|            ram_rat|            res_rat|\n",
      "+---------+------+---------+---------+---------+--------------------+---------------+--------+------+-------+---------+-----+---------+---------+-------+-------------------+-------------------+\n",
      "| 17109330|   109|336074059|        0|        0|WVtO5qw3sNnP4MeiR...|              3|       9|0.0625|0.09778|0.0005016|    0|  0.03186| 0.008484|0.50976|0.08676620985886684| 0.2517095083603693|\n",
      "| 17109330|   109|336074059|        0|        0|WVtO5qw3sNnP4MeiR...|              3|       9|0.0625|0.09778|0.0005016|    0|  0.03204| 0.008423|0.51264|0.08614236040089997|0.25245195907162465|\n",
      "| 17109330|   109|336074059|        0|        0|WVtO5qw3sNnP4MeiR...|              3|       9|0.0625|0.09778|0.0005016|    0|  0.03076|  0.00827|0.49216|0.08457762323583554|0.24351135512852504|\n",
      "| 17109330|   109|336074059|        0|        0|WVtO5qw3sNnP4MeiR...|              3|       9|0.0625|0.09778|0.0005016|    0|  0.03192| 0.008362|0.51072|0.08551851094293311| 0.2513226853007237|\n",
      "| 17109330|   109|336074059|        0|        0|WVtO5qw3sNnP4MeiR...|              3|       9|0.0625|0.09778|0.0005016|    0|   0.0311| 0.008286| 0.4976|0.08474125588054816|0.24573246818068378|\n",
      "| 17109330|   109|336074059|        0|        0|WVtO5qw3sNnP4MeiR...|              3|       9|0.0625|0.09778|0.0005016|    0|  0.03247| 0.008224|0.51952|0.08410717938228676|0.25389318692288493|\n",
      "| 17109330|   109|336074059|        0|        0|WVtO5qw3sNnP4MeiR...|              3|       9|0.0625|0.09778|0.0005016|    0|  0.03241| 0.008301|0.51856|0.08489466148496624| 0.2539992513102071|\n",
      "| 17109330|   109|336074059|        0|        0|WVtO5qw3sNnP4MeiR...|              3|       9|0.0625|0.09778|0.0005016|    0|  0.03168|  0.00824|0.50688|0.08427081202699939|0.24906413775892186|\n",
      "| 17109330|   109|336074059|        0|        0|WVtO5qw3sNnP4MeiR...|              3|       9|0.0625|0.09778|0.0005016|    0|  0.03168| 0.008453|0.50688|0.08644917160973614| 0.2503930621412528|\n",
      "| 17109330|   109|336074059|        0|        0|WVtO5qw3sNnP4MeiR...|              3|       9|0.0625|0.09778|0.0005016|    0|  0.03204| 0.008286|0.51264|0.08474125588054816|   0.25159720489144|\n",
      "| 17109330|   109|336074059|        0|        0|WVtO5qw3sNnP4MeiR...|              3|       9|0.0625|0.09778|0.0005016|    0|  0.03137| 0.008591|0.50192|0.08786050317038248| 0.2493199401048166|\n",
      "| 17109330|   109|336074059|        0|        0|WVtO5qw3sNnP4MeiR...|              3|       9|0.0625|0.09778|0.0005016|    0|  0.03247| 0.008301|0.51952|0.08489466148496624| 0.2543735962066384|\n",
      "| 17109330|   109|336074059|        0|        0|WVtO5qw3sNnP4MeiR...|              3|       9|0.0625|0.09778|0.0005016|    0|  0.03229| 0.008423|0.51664|0.08614236040089997| 0.2540117294734215|\n",
      "| 17109330|   109|336074059|        0|        0|WVtO5qw3sNnP4MeiR...|              3|       9|0.0625|0.09778|0.0005016|    0|  0.03259| 0.008499|0.52144|0.08691961546328492|0.25635762415772395|\n",
      "| 17109330|   109|336074059|        0|        0|WVtO5qw3sNnP4MeiR...|              3|       9|0.0625|0.09778|0.0005016|    0|  0.03168| 0.008469|0.50688|0.08661280425444877|0.25049288744696785|\n",
      "| 17109330|   109|336074059|        0|        0|WVtO5qw3sNnP4MeiR...|              3|       9|0.0625|0.09778|0.0005016|    0|  0.03247| 0.008179|0.51952|0.08364696256903252| 0.2536124282505615|\n",
      "| 17109330|   109|336074059|        0|        0|WVtO5qw3sNnP4MeiR...|              3|       9|0.0625|0.09778|0.0005016|    0|  0.03162| 0.008286|0.50592|0.08474125588054816|0.24897679061642128|\n",
      "|192299653|    27|  1271892|        0|        0|XAk+iT/NLGe4Ow+7A...|              3|       9|0.0625|0.02863| 0.000309|    1|  0.01308|  0.02216|0.20928| 0.7740132727907789| 0.3867003182267091|\n",
      "|192299653|    27|  1271892|        0|        0|XAk+iT/NLGe4Ow+7A...|              3|       9|0.0625|0.02863| 0.000309|    1|   0.0135|  0.02216|  0.216| 0.7740132727907789|0.39130911884121583|\n",
      "|192299653|    27|  1271892|        0|        0|XAk+iT/NLGe4Ow+7A...|              3|       9|0.0625|0.02863| 0.000309|    1|  0.01207|  0.02216|0.19312| 0.7740132727907789|0.37561725008229996|\n",
      "+---------+------+---------+---------+---------+--------------------+---------------+--------+------+-------+---------+-----+---------+---------+-------+-------------------+-------------------+\n",
      "only showing top 20 rows\n",
      "\n"
     ]
    }
   ],
   "source": [
    "demand = demand.withColumn(\"cpu_rat\", (col('cpu_usage')/col('CPUreq'))).withColumn(\"ram_rat\", (col('mem_usage')/col('RAMreq'))).withColumn(\"res_rat\", ((col('mem_usage')+col('cpu_usage'))/(col('RAMreq')+col('CPUreq'))))\n",
    "#.orderBy('res_rat', ascending=True)\n",
    "demand.show()"
   ]
  },
  {
   "cell_type": "code",
   "execution_count": 71,
   "metadata": {},
   "outputs": [],
   "source": [
    "demand = demand.select('jobID', 'taskID', 'machineID', 'CPUreq', 'cpu_usage', 'cpu_rat', 'RAMreq', 'mem_usage', 'ram_rat', 'res_rat')"
   ]
  },
  {
   "cell_type": "code",
   "execution_count": 72,
   "metadata": {},
   "outputs": [
    {
     "data": {
      "text/plain": [
       "1661028"
      ]
     },
     "execution_count": 72,
     "metadata": {},
     "output_type": "execute_result"
    }
   ],
   "source": [
    "demand.where(col('res_rat')<1).count()"
   ]
  },
  {
   "cell_type": "code",
   "execution_count": 73,
   "metadata": {},
   "outputs": [
    {
     "data": {
      "text/plain": [
       "25"
      ]
     },
     "execution_count": 73,
     "metadata": {},
     "output_type": "execute_result"
    }
   ],
   "source": [
    "demand.where(col('res_rat')==1).count()"
   ]
  },
  {
   "cell_type": "code",
   "execution_count": 74,
   "metadata": {},
   "outputs": [
    {
     "data": {
      "text/plain": [
       "298993"
      ]
     },
     "execution_count": 74,
     "metadata": {},
     "output_type": "execute_result"
    }
   ],
   "source": [
    "demand.where(col('res_rat')>1).count()"
   ]
  },
  {
   "cell_type": "markdown",
   "metadata": {},
   "source": [
    "## Q7: Are there machines for which the resources are largely underused?"
   ]
  },
  {
   "cell_type": "code",
   "execution_count": 76,
   "metadata": {},
   "outputs": [
    {
     "name": "stdout",
     "output_type": "stream",
     "text": [
      "+---------+----------+------+---------+---------+-------------+---------+--------------------+---+------+\n",
      "|machineID|     jobID|taskID|cpu_usage|mem_usage|    timestamp|eventtype|          platformID|CPU|memory|\n",
      "+---------+----------+------+---------+---------+-------------+---------+--------------------+---+------+\n",
      "|       26|5984979082|    13| 0.002266| 0.001081| 611893094118|        1|HofLGzk1Or/8Ildj2...|0.5|0.2493|\n",
      "|       26|5984979082|    13| 0.002266| 0.001081| 700559974858|        0|HofLGzk1Or/8Ildj2...|0.5|0.2493|\n",
      "|       26|5984979082|    13| 0.002266| 0.001081| 700559975977|        2|HofLGzk1Or/8Ildj2...|0.5|0.2493|\n",
      "|       26|5984979082|    13| 0.002266| 0.001081|1886486566970|        2|HofLGzk1Or/8Ildj2...|0.5|0.2493|\n",
      "|       26|5984979082|    13| 0.002266| 0.001081|1896956086270|        2|HofLGzk1Or/8Ildj2...|0.5|0.2493|\n",
      "|       26|6114773114|  1932| 1.984E-4| 0.001486| 611893094118|        1|HofLGzk1Or/8Ildj2...|0.5|0.2493|\n",
      "|       26|6114773114|  1932| 1.984E-4| 0.001486| 700559974858|        0|HofLGzk1Or/8Ildj2...|0.5|0.2493|\n",
      "|       26|6114773114|  1932| 1.984E-4| 0.001486| 700559975977|        2|HofLGzk1Or/8Ildj2...|0.5|0.2493|\n",
      "|       26|6114773114|  1932| 1.984E-4| 0.001486|1886486566970|        2|HofLGzk1Or/8Ildj2...|0.5|0.2493|\n",
      "|       26|6114773114|  1932| 1.984E-4| 0.001486|1896956086270|        2|HofLGzk1Or/8Ildj2...|0.5|0.2493|\n",
      "|       26|6234237242|    26| 0.003876| 0.001514| 611893094118|        1|HofLGzk1Or/8Ildj2...|0.5|0.2493|\n",
      "|       26|6234237242|    26| 0.003876| 0.001514| 700559974858|        0|HofLGzk1Or/8Ildj2...|0.5|0.2493|\n",
      "|       26|6234237242|    26| 0.003876| 0.001514| 700559975977|        2|HofLGzk1Or/8Ildj2...|0.5|0.2493|\n",
      "|       26|6234237242|    26| 0.003876| 0.001514|1886486566970|        2|HofLGzk1Or/8Ildj2...|0.5|0.2493|\n",
      "|       26|6234237242|    26| 0.003876| 0.001514|1896956086270|        2|HofLGzk1Or/8Ildj2...|0.5|0.2493|\n",
      "|       26|5984979082|    13| 0.002243| 0.001076| 611893094118|        1|HofLGzk1Or/8Ildj2...|0.5|0.2493|\n",
      "|       26|5984979082|    13| 0.002243| 0.001076| 700559974858|        0|HofLGzk1Or/8Ildj2...|0.5|0.2493|\n",
      "|       26|5984979082|    13| 0.002243| 0.001076| 700559975977|        2|HofLGzk1Or/8Ildj2...|0.5|0.2493|\n",
      "|       26|5984979082|    13| 0.002243| 0.001076|1886486566970|        2|HofLGzk1Or/8Ildj2...|0.5|0.2493|\n",
      "|       26|5984979082|    13| 0.002243| 0.001076|1896956086270|        2|HofLGzk1Or/8Ildj2...|0.5|0.2493|\n",
      "+---------+----------+------+---------+---------+-------------+---------+--------------------+---+------+\n",
      "only showing top 20 rows\n",
      "\n"
     ]
    }
   ],
   "source": [
    "machine_events_df_unique = machine_events_df.dropDuplicates(['machineID'])\n",
    "demand = task_usage_df_1.join(machine_events_df, on=['machineID'])\n",
    "demand.show()"
   ]
  },
  {
   "cell_type": "code",
   "execution_count": 78,
   "metadata": {},
   "outputs": [
    {
     "name": "stdout",
     "output_type": "stream",
     "text": [
      "+---------+----------+------+---------+---------+---+------+-------------------+-------------------+-------------------+\n",
      "|machineID|     jobID|taskID|cpu_usage|mem_usage|CPU|memory|       cpu_used_rat|       ram_used_rat|       res_used_rat|\n",
      "+---------+----------+------+---------+---------+---+------+-------------------+-------------------+-------------------+\n",
      "|       26|5984979082|    13| 0.002266| 0.001081|0.5|0.2493|0.45319999999999994|0.43361411953469714| 0.4466835713332444|\n",
      "|       26|5984979082|    13| 0.002266| 0.001081|0.5|0.2493|0.45319999999999994|0.43361411953469714| 0.4466835713332444|\n",
      "|       26|5984979082|    13| 0.002266| 0.001081|0.5|0.2493|0.45319999999999994|0.43361411953469714| 0.4466835713332444|\n",
      "|       26|5984979082|    13| 0.002266| 0.001081|0.5|0.2493|0.45319999999999994|0.43361411953469714| 0.4466835713332444|\n",
      "|       26|5984979082|    13| 0.002266| 0.001081|0.5|0.2493|0.45319999999999994|0.43361411953469714| 0.4466835713332444|\n",
      "|       26|6114773114|  1932| 1.984E-4| 0.001486|0.5|0.2493|            0.03968| 0.5960689931809064| 0.2247964767115975|\n",
      "|       26|6114773114|  1932| 1.984E-4| 0.001486|0.5|0.2493|            0.03968| 0.5960689931809064| 0.2247964767115975|\n",
      "|       26|6114773114|  1932| 1.984E-4| 0.001486|0.5|0.2493|            0.03968| 0.5960689931809064| 0.2247964767115975|\n",
      "|       26|6114773114|  1932| 1.984E-4| 0.001486|0.5|0.2493|            0.03968| 0.5960689931809064| 0.2247964767115975|\n",
      "|       26|6114773114|  1932| 1.984E-4| 0.001486|0.5|0.2493|            0.03968| 0.5960689931809064| 0.2247964767115975|\n",
      "|       26|6234237242|    26| 0.003876| 0.001514|0.5|0.2493|             0.7752| 0.6073004412354593| 0.7193380488455893|\n",
      "|       26|6234237242|    26| 0.003876| 0.001514|0.5|0.2493|             0.7752| 0.6073004412354593| 0.7193380488455893|\n",
      "|       26|6234237242|    26| 0.003876| 0.001514|0.5|0.2493|             0.7752| 0.6073004412354593| 0.7193380488455893|\n",
      "|       26|6234237242|    26| 0.003876| 0.001514|0.5|0.2493|             0.7752| 0.6073004412354593| 0.7193380488455893|\n",
      "|       26|6234237242|    26| 0.003876| 0.001514|0.5|0.2493|             0.7752| 0.6073004412354593| 0.7193380488455893|\n",
      "|       26|5984979082|    13| 0.002243| 0.001076|0.5|0.2493|0.44860000000000005|0.43160850381066984|0.44294675030028025|\n",
      "|       26|5984979082|    13| 0.002243| 0.001076|0.5|0.2493|0.44860000000000005|0.43160850381066984|0.44294675030028025|\n",
      "|       26|5984979082|    13| 0.002243| 0.001076|0.5|0.2493|0.44860000000000005|0.43160850381066984|0.44294675030028025|\n",
      "|       26|5984979082|    13| 0.002243| 0.001076|0.5|0.2493|0.44860000000000005|0.43160850381066984|0.44294675030028025|\n",
      "|       26|5984979082|    13| 0.002243| 0.001076|0.5|0.2493|0.44860000000000005|0.43160850381066984|0.44294675030028025|\n",
      "+---------+----------+------+---------+---------+---+------+-------------------+-------------------+-------------------+\n",
      "only showing top 20 rows\n",
      "\n"
     ]
    }
   ],
   "source": [
    "demand = demand.select('machineID', 'jobID', 'taskID', 'cpu_usage', 'mem_usage', 'CPU', 'memory').withColumn('cpu_used_rat', (100*col('cpu_usage')/col('CPU'))).withColumn('ram_used_rat', (100*col('mem_usage')/col('memory'))).withColumn('res_used_rat', (100*(col('mem_usage')+col('cpu_usage'))/(col('memory')+col('cpu'))))\n",
    "demand.show()"
   ]
  },
  {
   "cell_type": "code",
   "execution_count": 79,
   "metadata": {},
   "outputs": [
    {
     "data": {
      "text/plain": [
       "4014113"
      ]
     },
     "execution_count": 79,
     "metadata": {},
     "output_type": "execute_result"
    }
   ],
   "source": [
    "demand.count()"
   ]
  },
  {
   "cell_type": "code",
   "execution_count": 80,
   "metadata": {},
   "outputs": [],
   "source": [
    "hist = demand.select('cpu_used_rat', 'ram_used_rat', 'res_used_rat')"
   ]
  },
  {
   "cell_type": "markdown",
   "metadata": {},
   "source": [
    "percentage of CPUs being used"
   ]
  },
  {
   "cell_type": "code",
   "execution_count": 84,
   "metadata": {},
   "outputs": [
    {
     "data": {
      "image/png": "[encoded data removed]",
      "text/plain": [
       "<Figure size 432x288 with 1 Axes>"
      ]
     },
     "metadata": {},
     "output_type": "display_data"
    }
   ],
   "source": [
    "hist_cpu = hist.select('cpu_used_rat').rdd.flatMap(lambda x: x).histogram(10)\n",
    "pd.DataFrame(\n",
    "    list(zip(*hist_cpu)), \n",
    "    columns=['bin', 'frequency']\n",
    ").set_index(\n",
    "    'bin'\n",
    ").plot(kind='bar');"
   ]
  },
  {
   "cell_type": "markdown",
   "metadata": {},
   "source": [
    "percentage of RAM being used"
   ]
  },
  {
   "cell_type": "code",
   "execution_count": 85,
   "metadata": {},
   "outputs": [
    {
     "data": {
      "text/plain": [
       "<matplotlib.axes._subplots.AxesSubplot at 0x7f346293a7b8>"
      ]
     },
     "execution_count": 85,
     "metadata": {},
     "output_type": "execute_result"
    },
    {
     "data": {
      "image/png": "[encoded data removed]",
      "text/plain": [
       "<Figure size 432x288 with 1 Axes>"
      ]
     },
     "metadata": {},
     "output_type": "display_data"
    }
   ],
   "source": [
    "hist_ram = hist.select('ram_used_rat').rdd.flatMap(lambda x: x).histogram(10)\n",
    "pd.DataFrame(\n",
    "    list(zip(*hist_ram)), \n",
    "    columns=['bin', 'frequency']\n",
    ").set_index(\n",
    "    'bin'\n",
    ").plot(kind='bar')"
   ]
  },
  {
   "cell_type": "markdown",
   "metadata": {},
   "source": [
    "percentage of overall resources (ram+cpu) being used"
   ]
  },
  {
   "cell_type": "code",
   "execution_count": 86,
   "metadata": {},
   "outputs": [
    {
     "data": {
      "text/plain": [
       "<matplotlib.axes._subplots.AxesSubplot at 0x7f34628a5128>"
      ]
     },
     "execution_count": 86,
     "metadata": {},
     "output_type": "execute_result"
    },
    {
     "data": {
      "image/png": "[encoded data removed]",
      "text/plain": [
       "<Figure size 432x288 with 1 Axes>"
      ]
     },
     "metadata": {},
     "output_type": "display_data"
    }
   ],
   "source": [
    "hist_res = hist.select('res_used_rat').rdd.flatMap(lambda x: x).histogram(10)\n",
    "pd.DataFrame(\n",
    "    list(zip(*hist_res)), \n",
    "    columns=['bin', 'frequency']\n",
    ").set_index(\n",
    "    'bin'\n",
    ").plot(kind='bar')"
   ]
  },
  {
   "cell_type": "markdown",
   "metadata": {},
   "source": [
    "### UDFs"
   ]
  },
  {
   "cell_type": "code",
   "execution_count": 187,
   "metadata": {},
   "outputs": [
    {
     "data": {
      "text/plain": [
       "DataFrame[timestamp: float, <lambda>(timestamp): float]"
      ]
     },
     "execution_count": 187,
     "metadata": {},
     "output_type": "execute_result"
    }
   ],
   "source": [
    "from pyspark.sql.types import *\n",
    "from pyspark.sql.functions import udf\n",
    "time_udf = udf(lambda x: adjust_params(x), FloatType())\n",
    "\n",
    "df2 = df2.select('timestamp', time_udf('timestamp'))"
   ]
  }
 ],
 "metadata": {
  "kernelspec": {
   "display_name": "Python 3",
   "language": "python",
   "name": "python3"
  },
  "language_info": {
   "codemirror_mode": {
    "name": "ipython",
    "version": 3
   },
   "file_extension": ".py",
   "mimetype": "text/x-python",
   "name": "python",
   "nbconvert_exporter": "python",
   "pygments_lexer": "ipython3",
   "version": "3.7.0"
  }
 },
 "nbformat": 4,
 "nbformat_minor": 2
}
