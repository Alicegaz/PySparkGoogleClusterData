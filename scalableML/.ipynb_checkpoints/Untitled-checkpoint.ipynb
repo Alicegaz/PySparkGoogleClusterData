{
 "cells": [
  {
   "cell_type": "code",
   "execution_count": 12,
   "metadata": {},
   "outputs": [],
   "source": [
    "import sys\n",
    "from pyspark import SparkContext\n",
    "import time\n",
    "from pyspark.sql.functions import countDistinct\n",
    "import timeit\n",
    "import gc\n",
    "import pandas as pd"
   ]
  },
  {
   "cell_type": "code",
   "execution_count": 2,
   "metadata": {},
   "outputs": [],
   "source": [
    "sc = SparkContext(\"local[1]\")\n",
    "sc.setLogLevel(\"ERROR\")"
   ]
  },
  {
   "cell_type": "code",
   "execution_count": 4,
   "metadata": {},
   "outputs": [],
   "source": [
    "job_events = pd.read_csv(\"../../datasets/job_events/part-00000-of-00500.csv\")"
   ]
  },
  {
   "cell_type": "markdown",
   "metadata": {},
   "source": [
    "0. timestamp 1. missing info 2. job ID 3. event type 4. user name 5. scheduling class 6. job name 7. logical job name"
   ]
  },
  {
   "cell_type": "code",
   "execution_count": 23,
   "metadata": {},
   "outputs": [
    {
     "name": "stdout",
     "output_type": "stream",
     "text": [
      "Step 1: ['1639265380304,,6408251525,4,jVEIdGnEYLp+j9YJHh5dEBhUdpD2fs+PKTWwQo5ZrJk=,1,zXOstV9tbQGnXU6u6FfAjOzoe8gToH3sDCKZNm0RAwM=,1H3WBVcen2RS9lximFVb5A/HIAxc6rH8XBp0IStE/Co=']\n",
      "Step 2: [['1639265380304', '', '6408251525', '4', 'jVEIdGnEYLp+j9YJHh5dEBhUdpD2fs+PKTWwQo5ZrJk=', '1', 'zXOstV9tbQGnXU6u6FfAjOzoe8gToH3sDCKZNm0RAwM=', '1H3WBVcen2RS9lximFVb5A/HIAxc6rH8XBp0IStE/Co=']]\n",
      "Step 3: [(1639265380304, 6408251525, 4, 'jVEIdGnEYLp+j9YJHh5dEBhUdpD2fs+PKTWwQo5ZrJk=', 1, 'zXOstV9tbQGnXU6u6FfAjOzoe8gToH3sDCKZNm0RAwM=', '1H3WBVcen2RS9lximFVb5A/HIAxc6rH8XBp0IStE/Co=')]\n"
     ]
    }
   ],
   "source": [
    "job_events = sc.textFile('../../datasets/job_events/*.gz')\n",
    "print(\"Step 1: {}\".format(job_events.take(1)))\n",
    "job_events_RDD = job_events.map(lambda line: line.split(\",\"))\n",
    "print(\"Step 2: {}\".format(job_events_RDD.take(1)))\n",
    "\n",
    "job_events_RDD = job_events_RDD.map(lambda tokens: (int(tokens[0]), int(tokens[2]), int(tokens[3]), tokens[4], int(tokens[5]), tokens[6], tokens[7]))\n",
    "print(\"Step 3: {}\".format(job_events_RDD.take(1)))"
   ]
  },
  {
   "cell_type": "code",
   "execution_count": null,
   "metadata": {},
   "outputs": [],
   "source": [
    "#remove"
   ]
  }
 ],
 "metadata": {
  "kernelspec": {
   "display_name": "Python 3",
   "language": "python",
   "name": "python3"
  },
  "language_info": {
   "codemirror_mode": {
    "name": "ipython",
    "version": 3
   },
   "file_extension": ".py",
   "mimetype": "text/x-python",
   "name": "python",
   "nbconvert_exporter": "python",
   "pygments_lexer": "ipython3",
   "version": "3.7.0"
  }
 },
 "nbformat": 4,
 "nbformat_minor": 2
}
