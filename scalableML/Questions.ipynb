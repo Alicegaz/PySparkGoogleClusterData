{
 "cells": [
  {
   "cell_type": "code",
   "execution_count": 154,
   "metadata": {},
   "outputs": [],
   "source": [
    "import sys\n",
    "from pyspark import SparkContext\n",
    "import time\n",
    "from pyspark.sql.functions import countDistinct\n",
    "import timeit\n",
    "import gc\n",
    "import pandas as pd\n",
    "from pyspark.sql import SQLContext\n",
    "from pyspark.sql import Row\n",
    "import numpy as np\n",
    "import pandas as pd\n",
    "import seaborn as sns\n",
    "import matplotlib.pyplot as plt\n",
    "from scipy import stats\n",
    "import os\n",
    "from pyspark.sql.functions import *\n",
    "import pyspark.sql.functions as f\n",
    "\n",
    "sns.set(color_codes=True)"
   ]
  },
  {
   "cell_type": "markdown",
   "metadata": {},
   "source": [
    "read the data table \"machine events\":\n",
    "    1. timestamp\n",
    "    2. machine ID\n",
    "    3. event type\n",
    "    4. platform ID\n",
    "    5. capacity: CPU\n",
    "    6. capacity: memory\n",
    "Description of the table:\n",
    "    'event_type'    \n",
    "    1. Contains information about the machines that went offline and reconnected during the period that the data covers"
   ]
  },
  {
   "cell_type": "code",
   "execution_count": 49,
   "metadata": {},
   "outputs": [],
   "source": [
    "#if sc:\n",
    "#    sc.stop()\n",
    "sc = SparkContext(\"local[1]\")\n",
    "sc.setLogLevel(\"ERROR\")"
   ]
  },
  {
   "cell_type": "markdown",
   "metadata": {},
   "source": [
    "## Q1: What is the distribution of the machines according to their CPU capacity?"
   ]
  },
  {
   "cell_type": "code",
   "execution_count": 106,
   "metadata": {},
   "outputs": [
    {
     "name": "stdout",
     "output_type": "stream",
     "text": [
      "[['0', '5', '0', 'HofLGzk1Or/8Ildj2+Lqv0UGGvY82NLoni8+J/Yy0RU=', '0.5', '0.2493']]\n"
     ]
    }
   ],
   "source": [
    "machine_events = sc.textFile('../../datasets/machine_events/*.gz')\n",
    "machine_events_RDD = machine_events.map(lambda line: line.split(\",\"))\n",
    "print(machine_events_RDD.take(1))\n",
    "machine_events_RDD = machine_events_RDD.map(lambda tokens: (int(tokens[0]), int(tokens[1]), int(tokens[2]), tokens[3], tokens[4], tokens[5]))\n",
    "machine_events_RDD_filtered = machine_events_RDD.map(lambda elem: (elem[0], elem[1], elem[2], elem[3], elem[4], elem[5])).filter(lambda elem: elem[0] != 0 and elem[0] != (2^63-1)).sortByKey(1, 1)"
   ]
  },
  {
   "cell_type": "code",
   "execution_count": 107,
   "metadata": {},
   "outputs": [],
   "source": [
    "#creating the dataframe out of rdd for faster processing\n",
    "## and data cleaning\n",
    "sqlContext = SQLContext(sc)\n",
    "machine_events_df = sqlContext.createDataFrame(machine_events_RDD_filtered, schema=['timestamp', 'machineID', 'eventtype', 'platformID', 'CPU', 'memory'])\n",
    "machine_events_df = machine_events_df.filter(machine_events_df.CPU!='')\n",
    "machine_events_df = machine_events_df.select(machine_events_df.timestamp, machine_events_df.machineID, machine_events_df.eventtype, machine_events_df.platformID, machine_events_df.CPU.cast('float'), machine_events_df.memory.cast('float'))"
   ]
  },
  {
   "cell_type": "code",
   "execution_count": 142,
   "metadata": {},
   "outputs": [],
   "source": [
    "##get the distributions of CPUs to a single dataframe\n",
    "cpu_all = machine_events_df.dropDuplicates(['machineID']).select('CPU')\n",
    "##convert the dataframe back to the rdd, \n",
    "##map all values to the pairs (cpu, 1), \n",
    "##reduce by finding the quantity of each distinct value of cpu\n",
    "##collect as a list of lists\n",
    "distinct_count = cpu_all.rdd.map(lambda x: (float(x[0]), 1)).reduceByKey(lambda x, y: x+y).map(lambda x: list([x[0], x[1]])).collect()"
   ]
  },
  {
   "cell_type": "code",
   "execution_count": 152,
   "metadata": {},
   "outputs": [
    {
     "data": {
      "text/plain": [
       "<matplotlib.axes._subplots.AxesSubplot at 0x7f3462273908>"
      ]
     },
     "execution_count": 152,
     "metadata": {},
     "output_type": "execute_result"
    },
    {
     "data": {
      "image/png": "[encoded data removed]",
      "text/plain": [
       "<Figure size 432x288 with 1 Axes>"
      ]
     },
     "metadata": {},
     "output_type": "display_data"
    }
   ],
   "source": [
    "##plot the collected value to freq matrix\n",
    "d = pd.DataFrame(distinct_count)\n",
    "d.columns=['cpu', 'frequency']\n",
    "d.sort_values(['cpu'], ascending=True).set_index('cpu').plot(kind='bar')"
   ]
  },
  {
   "cell_type": "code",
   "execution_count": 219,
   "metadata": {},
   "outputs": [
    {
     "data": {
      "text/html": [
       "<div>\n",
       "<style scoped>\n",
       "    .dataframe tbody tr th:only-of-type {\n",
       "        vertical-align: middle;\n",
       "    }\n",
       "\n",
       "    .dataframe tbody tr th {\n",
       "        vertical-align: top;\n",
       "    }\n",
       "\n",
       "    .dataframe thead th {\n",
       "        text-align: right;\n",
       "    }\n",
       "</style>\n",
       "<table border=\"1\" class=\"dataframe\">\n",
       "  <thead>\n",
       "    <tr style=\"text-align: right;\">\n",
       "      <th></th>\n",
       "      <th>CPU</th>\n",
       "      <th>count</th>\n",
       "    </tr>\n",
       "  </thead>\n",
       "  <tbody>\n",
       "    <tr>\n",
       "      <th>0</th>\n",
       "      <td>0.25</td>\n",
       "      <td>87</td>\n",
       "    </tr>\n",
       "    <tr>\n",
       "      <th>1</th>\n",
       "      <td>0.50</td>\n",
       "      <td>4979</td>\n",
       "    </tr>\n",
       "    <tr>\n",
       "      <th>2</th>\n",
       "      <td>1.00</td>\n",
       "      <td>346</td>\n",
       "    </tr>\n",
       "  </tbody>\n",
       "</table>\n",
       "</div>"
      ],
      "text/plain": [
       "    CPU  count\n",
       "0  0.25     87\n",
       "1  0.50   4979\n",
       "2  1.00    346"
      ]
     },
     "execution_count": 219,
     "metadata": {},
     "output_type": "execute_result"
    }
   ],
   "source": [
    "distinct_count"
   ]
  },
  {
   "cell_type": "code",
   "execution_count": 220,
   "metadata": {},
   "outputs": [
    {
     "data": {
      "text/plain": [
       "5412"
      ]
     },
     "execution_count": 220,
     "metadata": {},
     "output_type": "execute_result"
    }
   ],
   "source": [
    "87+4979+346"
   ]
  },
  {
   "cell_type": "markdown",
   "metadata": {},
   "source": [
    "### Q1: Some extra observations"
   ]
  },
  {
   "cell_type": "code",
   "execution_count": 153,
   "metadata": {},
   "outputs": [
    {
     "name": "stdout",
     "output_type": "stream",
     "text": [
      "+-------+--------------------+\n",
      "|summary|           timestamp|\n",
      "+-------+--------------------+\n",
      "|  count|               25271|\n",
      "|   mean|1.301830958638486...|\n",
      "| stddev|7.215246485293291E11|\n",
      "|    min|           779231019|\n",
      "|    max|       2506135493517|\n",
      "+-------+--------------------+\n",
      "\n",
      "None\n",
      "+-------+-------------------+\n",
      "|summary|                CPU|\n",
      "+-------+-------------------+\n",
      "|  count|              25271|\n",
      "|   mean| 0.5245043726010051|\n",
      "| stddev|0.12051419436483145|\n",
      "|    min|               0.25|\n",
      "|    max|                1.0|\n",
      "+-------+-------------------+\n",
      "\n",
      "None\n",
      "+-------+-------------------+\n",
      "|summary|             memory|\n",
      "+-------+-------------------+\n",
      "|  count|              25271|\n",
      "|   mean|  0.480119459091341|\n",
      "| stddev|0.18891020039265063|\n",
      "|    min|            0.03085|\n",
      "|    max|                1.0|\n",
      "+-------+-------------------+\n",
      "\n",
      "None\n"
     ]
    }
   ],
   "source": [
    "## Get Statistics of the total distribution of \n",
    "#'timestamps', 'CPU', 'memory' over time\n",
    "statistics_timestamp = machine_events_df.describe('timestamp')\n",
    "print(statistics_timestamp.show())\n",
    "statistics_CPU = machine_events_df.describe('CPU')\n",
    "print(statistics_CPU.show())\n",
    "statistics_timestamp = machine_events_df.describe('memory')\n",
    "print(statistics_timestamp.show())"
   ]
  },
  {
   "cell_type": "markdown",
   "metadata": {},
   "source": [
    "distribution of cpu's over days"
   ]
  },
  {
   "cell_type": "code",
   "execution_count": 259,
   "metadata": {},
   "outputs": [
    {
     "name": "stdout",
     "output_type": "stream",
     "text": [
      "28.997178964097223\n"
     ]
    }
   ],
   "source": [
    "from pyspark.sql import functions as F\n",
    "day = 86400 \n",
    "expr_end = [F.last(col).alias(col) for col in df.columns]\n",
    "expr_start = [F.first(col).alias(col) for col in df.columns]\n",
    "total_times = df.groupBy().agg(*expr_end).collect()[0][0] - df.groupBy().agg(*expr_start).collect()[0][0]\n",
    "days = (total_times/10**6)/day\n",
    "print(days)"
   ]
  },
  {
   "cell_type": "code",
   "execution_count": 290,
   "metadata": {},
   "outputs": [
    {
     "data": {
      "image/png": "[encoded data removed]",
      "text/plain": [
       "<Figure size 432x288 with 1 Axes>"
      ]
     },
     "metadata": {},
     "output_type": "display_data"
    }
   ],
   "source": [
    "plt.hist(df.toPandas()['timestamp'], color='blue', edgecolor = 'black', bins=int(29))\n",
    "plt.title('Distribution of machines interms of number of CPU')\n",
    "plt.xlabel('Number of CPUs')\n",
    "plt.ylabel('Number of Machines')\n",
    "plt.show()"
   ]
  },
  {
   "cell_type": "code",
   "execution_count": 270,
   "metadata": {},
   "outputs": [],
   "source": [
    "cluster1 = df.filter(df.CPU=='1').toPandas()\n",
    "cluster2 = df.filter(df.CPU=='0.5').toPandas()\n",
    "cluster3 = df.filter(df.CPU=='0.25').toPandas()"
   ]
  },
  {
   "cell_type": "code",
   "execution_count": 288,
   "metadata": {},
   "outputs": [
    {
     "name": "stdout",
     "output_type": "stream",
     "text": [
      "Histogram of CPU aquisition delays\n"
     ]
    },
    {
     "data": {
      "image/png": "[encoded data removed]",
      "text/plain": [
       "<Figure size 432x288 with 1 Axes>"
      ]
     },
     "metadata": {},
     "output_type": "display_data"
    },
    {
     "data": {
      "image/png": "[encoded data removed]",
      "text/plain": [
       "<Figure size 432x288 with 1 Axes>"
      ]
     },
     "metadata": {},
     "output_type": "display_data"
    },
    {
     "data": {
      "image/png": "[encoded data removed]",
      "text/plain": [
       "<Figure size 432x288 with 1 Axes>"
      ]
     },
     "metadata": {},
     "output_type": "display_data"
    }
   ],
   "source": [
    "print(\"Histogram of CPU aquisition delays\")\n",
    "plt.hist(cluster1['timestamp'], color='blue', edgecolor = 'black', bins=int(29), label='CPU 1')\n",
    "plt.title('CPU = 100%')\n",
    "plt.xlabel('Delay (days)')\n",
    "plt.ylabel('Number of Machines')\n",
    "plt.show()\n",
    "plt.hist(cluster2['timestamp'], color='green', edgecolor = 'black', bins=int(29), label='CPU 0.5')\n",
    "plt.title('CPU = 50%')\n",
    "plt.xlabel('Delay (days)')\n",
    "plt.ylabel('Number of Machines')\n",
    "plt.show()\n",
    "plt.hist(cluster3['timestamp'], color='yellow', edgecolor = 'black', bins=int(29), label='CPU 0.25')\n",
    "plt.title('CPU = 25%')\n",
    "plt.xlabel('Delay (days)')\n",
    "plt.ylabel('Number of Machines')\n",
    "plt.show()"
   ]
  },
  {
   "cell_type": "markdown",
   "metadata": {},
   "source": [
    "## Q2: On average, how many tasks compose a job?"
   ]
  },
  {
   "cell_type": "markdown",
   "metadata": {},
   "source": [
    "Task Events Table\n",
    "1. timestamp\n",
    "2. missing info\n",
    "3. job ID\n",
    "4. task index - within the job\n",
    "5. machine ID\n",
    "6. event type\n",
    "7. user name\n",
    "8. scheduling class\n",
    "9. priority\n",
    "10. resource request for CPU cores\n",
    "11. resource request for RAM\n",
    "12. resource request for local disk space\n",
    "13. different-machine constraint"
   ]
  },
  {
   "cell_type": "code",
   "execution_count": 87,
   "metadata": {},
   "outputs": [],
   "source": [
    "task_events = sc.textFile('../../datasets/task_events/part-00000-of-00500.csv.gz')\n",
    "task_events_RDD = task_events.map(lambda line: line.split(\",\"))\n",
    "task_events_RDD = task_events_RDD.map(lambda tokens: (tokens[0], tokens[2], tokens[3], tokens[4], tokens[5], tokens[6], tokens[7], tokens[8], tokens[9], tokens[10], tokens[11], tokens[12]))\n",
    "task_events_RDD = task_events_RDD.filter(lambda elem: elem[1] != '' and elem[2] != '' and elem[3] !='')"
   ]
  },
  {
   "cell_type": "code",
   "execution_count": 155,
   "metadata": {},
   "outputs": [],
   "source": [
    "sqlContext = SQLContext(sc)\n",
    "task_events_df = sqlContext.createDataFrame(task_events_RDD, schema=['timestamp', 'jobID', 'taskID', 'machineID', 'eventType', 'userName', 'schedulingClass', 'priority', 'CPUreq', 'RAMreq', 'diskreq', 'const'])\n",
    "## get table in a form of [(jobID, list of taskInds)]\n",
    "job_to_tasks = task_events_df.groupBy('jobID').agg(collect_list('taskID').alias(\"taskIDs\"))\n",
    "#convert to rdd (jobID, number of tasks)\n",
    "job_to_tasks_rdd = job_to_tasks.rdd.map(lambda x: list(x)).map(lambda x: (x[0], len(list(set(x[1])))))"
   ]
  },
  {
   "cell_type": "markdown",
   "metadata": {},
   "source": [
    "number of tasks per job on the average"
   ]
  },
  {
   "cell_type": "code",
   "execution_count": 156,
   "metadata": {},
   "outputs": [
    {
     "data": {
      "text/plain": [
       "36.82660381225661"
      ]
     },
     "execution_count": 156,
     "metadata": {},
     "output_type": "execute_result"
    }
   ],
   "source": [
    "dupes_rdd.values().sum()/dupes.count()"
   ]
  },
  {
   "cell_type": "markdown",
   "metadata": {},
   "source": [
    "## Q3: What is the percentage of jobs/tasks that got killed or evicted?"
   ]
  },
  {
   "cell_type": "markdown",
   "metadata": {},
   "source": [
    "1. timestamp\n",
    "2. missing info\n",
    "3. job ID\n",
    "4. event type\n",
    "5. user name\n",
    "6. scheduling class\n",
    "7. job name\n",
    "8. logical job name\n",
    "\n",
    "If a task or job that has just EVICTed, FAILed, or KILLed remains runnable, a SUBMIT event\n",
    "will appear immediately after the descheduling events. (I.e., the system tries to restart jobs\n",
    "and tasks that have failed.)\n",
    "This means that a job or task was submitted and immediately scheduled,\n",
    "or, if the timestamp on the events is 0, that the job or task was submitted and scheduled\n",
    "before the trace began."
   ]
  },
  {
   "cell_type": "code",
   "execution_count": 158,
   "metadata": {},
   "outputs": [],
   "source": [
    "jobs_dir = '../../datasets/job_events/'\n",
    "list_of_jobs = [os.path.join(jobs_dir, o) for o in os.listdir(jobs_dir) if os.path.splitext(o)[-1].lower()=='.gz']\n",
    "tasks_dir = '../../datasets/task_events/'\n",
    "list_of_tasks = [os.path.join(tasks_dir, o) for o in os.listdir(tasks_dir) if os.path.splitext(o)[-1].lower()=='.gz']"
   ]
  },
  {
   "cell_type": "code",
   "execution_count": 159,
   "metadata": {},
   "outputs": [],
   "source": [
    "job_events = sc.textFile(','.join(list_of_jobs))\n",
    "job_events_RDD = job_events.map(lambda line: line.split(\",\"))\n",
    "job_events_RDD = job_events_RDD.map(lambda tokens: (tokens[0], tokens[2], int(tokens[3]), tokens[4], tokens[5], tokens[6], tokens[7]))\n",
    "job_events_RDD = job_events_RDD.filter(lambda elem: elem[1] != '' and elem[2] != '')\n",
    "sqlContext = SQLContext(sc)\n",
    "job_events_df = sqlContext.createDataFrame(job_events_RDD, schema=['timestamp', 'jobID', 'eventType', 'userName', 'schedulingClass', 'jobName', 'logicalJobName'])"
   ]
  },
  {
   "cell_type": "code",
   "execution_count": 25,
   "metadata": {},
   "outputs": [],
   "source": [
    "total_jobs = job_events_df.count()\n",
    "#filter out job events that are neither killed nor evicted\n",
    "evicted_jobs = job_events_df.where((job_events_df['eventType']==int(2)) | (job_events_df['eventType']==int(5)))\n",
    "#count the nuber of evicted jobs\n",
    "evicted_count = evicted_jobs.select('jobID').distinct().count()\n",
    "evicted_rat = (evicted_count*100)/total_jobs"
   ]
  },
  {
   "cell_type": "code",
   "execution_count": 26,
   "metadata": {},
   "outputs": [
    {
     "data": {
      "text/plain": [
       "13.535300426091892"
      ]
     },
     "execution_count": 26,
     "metadata": {},
     "output_type": "execute_result"
    }
   ],
   "source": [
    "evicted_rat ##print the percentage of evicted jobs"
   ]
  },
  {
   "cell_type": "code",
   "execution_count": 203,
   "metadata": {},
   "outputs": [],
   "source": [
    "## do the same analysis for tasks\n",
    "big_tasks_events = sc.textFile(','.join(list_of_tasks))\n",
    "big_tasks_events_RDD = big_tasks_events.map(lambda line: line.split(\",\"))\n",
    "big_tasks_events_RDD = big_tasks_events_RDD.map(lambda tokens: (tokens[0], tokens[2], tokens[3], tokens[4], int(tokens[5]), tokens[6], tokens[7], tokens[8], tokens[9], tokens[10], tokens[11], tokens[12]))\n",
    "big_tasks_events_RDD = big_tasks_events_RDD.filter(lambda elem: elem[1] != '' and elem[2] != '')\n",
    "sqlContext = SQLContext(sc)\n",
    "big_tasks_events_df = sqlContext.createDataFrame(big_tasks_events_RDD, schema=['timestamp', 'jobID', 'taskID', 'machineID', 'eventType', 'userName', 'schedulingClass', 'priority', 'CPUreq', 'RAMrec', 'diskRec', 'const'])"
   ]
  },
  {
   "cell_type": "code",
   "execution_count": 31,
   "metadata": {},
   "outputs": [],
   "source": [
    "total_tasks = big_tasks_events_df.count()\n",
    "evicted_tasks = big_tasks_events_df.where((big_tasks_events_df['eventType']==int(2)) | (big_tasks_events_df['eventType']==int(5)))\n",
    "evicted_tasks_count = evicted_tasks.select('jobID', 'taskID').distinct().count()\n",
    "evicted_tasks_rat = (evicted_count*100)/total_tasks"
   ]
  },
  {
   "cell_type": "code",
   "execution_count": 32,
   "metadata": {},
   "outputs": [
    {
     "data": {
      "text/plain": [
       "0.18829327589414677"
      ]
     },
     "execution_count": 32,
     "metadata": {},
     "output_type": "execute_result"
    }
   ],
   "source": [
    "evicted_tasks_rat ##print the percentage of evicted tasks"
   ]
  },
  {
   "cell_type": "markdown",
   "metadata": {},
   "source": [
    "#### Answer: \n",
    "        evicted and killed jobs percentage - 13.53 %\n",
    "        evicted and killed tasks percentage - 0.18 %"
   ]
  },
  {
   "cell_type": "markdown",
   "metadata": {},
   "source": [
    "## Q4: Do tasks with low priority have a higher probability of being evicted?"
   ]
  },
  {
   "cell_type": "code",
   "execution_count": 161,
   "metadata": {},
   "outputs": [],
   "source": [
    "task_events_count = task_events_df.count()\n",
    "s1 = sc.broadcast(task_events_count)"
   ]
  },
  {
   "cell_type": "code",
   "execution_count": 163,
   "metadata": {},
   "outputs": [
    {
     "name": "stdout",
     "output_type": "stream",
     "text": [
      "330581 5\n"
     ]
    }
   ],
   "source": [
    "#get the priority of unique evicted tasks\n",
    "evicted_priority = task_events_df.where(task_events_df['eventType']==int(2)).select('eventType', 'priority')\n",
    "task_events_count = task_events_df.count()\n",
    "##map to 1s and count the quantity of each priority\n",
    "evicted_priority_rdd = evicted_priority.rdd.map(lambda x: (int(x[1]), 1))\n",
    "evicted_priority_rdd = evicted_priority_rdd.reduceByKey(lambda x, y: x+y)\n",
    "print(task_events_count, evicted_priority_rdd.count())"
   ]
  },
  {
   "cell_type": "code",
   "execution_count": 224,
   "metadata": {},
   "outputs": [
    {
     "data": {
      "text/plain": [
       "<matplotlib.axes._subplots.AxesSubplot at 0x7f34602e96a0>"
      ]
     },
     "execution_count": 224,
     "metadata": {},
     "output_type": "execute_result"
    },
    {
     "data": {
      "image/png": "[encoded data removed]",
      "text/plain": [
       "<Figure size 432x288 with 1 Axes>"
      ]
     },
     "metadata": {},
     "output_type": "display_data"
    }
   ],
   "source": [
    "evicted_priority_np = evicted_priority_rdd.map(lambda x: [x[0], (x[1]/task_events_count)]).collect()\n",
    "d = pd.DataFrame(evicted_priority_np)\n",
    "d.columns=['priority', 'percentage']\n",
    "d.sort_values(['priority'], ascending=True).set_index('priority').plot(kind='bar')"
   ]
  },
  {
   "cell_type": "code",
   "execution_count": 225,
   "metadata": {},
   "outputs": [
    {
     "data": {
      "text/plain": [
       "[[2, 0.000166373748037546],\n",
       " [0, 0.012729104213490794],\n",
       " [1, 0.00015729881632640713],\n",
       " [9, 6.65494992150184e-05],\n",
       " [10, 3.0249772370462914e-06]]"
      ]
     },
     "execution_count": 225,
     "metadata": {},
     "output_type": "execute_result"
    }
   ],
   "source": [
    "evicted_priority_np"
   ]
  },
  {
   "cell_type": "markdown",
   "metadata": {},
   "source": [
    "## Q5: Is there a relation between the priority of a task and the amount of resources available on the machine it runs on?"
   ]
  },
  {
   "cell_type": "code",
   "execution_count": 176,
   "metadata": {},
   "outputs": [],
   "source": [
    "from pyspark.ml.stat import Correlation\n",
    "from pyspark.ml.feature import VectorAssembler\n",
    "\n",
    "##function to access the resources available on the machine (table machine_events) by machineID\n",
    "def get_resources(x, p):\n",
    "    if dict_machine_events_bc.value.get(int(x)) is not None:\n",
    "        dict_val = dict_machine_events_bc.value.get(int(x))\n",
    "    else:\n",
    "        dict_val = (x, str(x), '00.0')\n",
    "    return (x, dict_val[0], dict_val[1], p)"
   ]
  },
  {
   "cell_type": "code",
   "execution_count": 170,
   "metadata": {},
   "outputs": [],
   "source": [
    "##costruct a dictionary of machineID and the characteristics of machines\n",
    "machine_events_dict = machine_events_df.dropDuplicates(['machineID']).select('machineID', 'CPU', 'memory')\n",
    "machine_events_dict = machine_events_dict.toPandas().set_index('machineID').T.to_dict('list')\n",
    "##broadcast a dictionary\n",
    "dict_machine_events_bc = sc.broadcast(machine_events_dict)"
   ]
  },
  {
   "cell_type": "code",
   "execution_count": 206,
   "metadata": {},
   "outputs": [],
   "source": [
    "task_events_rdd = task_events_df.rdd.map(tuple)\n",
    "##get machineID and priority of the task from task events table\n",
    "#resources_rdd = task_events_rdd.map(lambda x: get_resources(x[3], x[7]))\n",
    "resources_rdd = big_tasks_events_RDD.filter(lambda x: x[3]!='' and x[7]!='').map(lambda x: get_resources(x[3], x[7]))\n",
    "total = resources_rdd.count()"
   ]
  },
  {
   "cell_type": "code",
   "execution_count": 209,
   "metadata": {},
   "outputs": [
    {
     "name": "stdout",
     "output_type": "stream",
     "text": [
      "There are 0.0% machineIDs missing\n"
     ]
    }
   ],
   "source": [
    "##filter out these tasks, machineIDs of which does not exist in the machine_events table,\n",
    "##thus the available resources for which could not be accessed\n",
    "present_rdd = resources_rdd.filter(lambda x: x[1]!='00.0').map(lambda x: (x[0], float(x[1]), float(x[2]), int(x[3]))) \n",
    "print(\"There are {}% machineIDs missing\".format(100*int(total - present_rdd.count())/total))\n",
    "sqlContext = SQLContext(sc)\n",
    "present_df = sqlContext.createDataFrame(present_rdd, schema=['machineID', 'CPU', 'memory', 'priority'])\\\n",
    "                .distinct().select('CPU', 'memory', 'priority')"
   ]
  },
  {
   "cell_type": "markdown",
   "metadata": {},
   "source": [
    "### Construct the Pearson correlation matrix"
   ]
  },
  {
   "cell_type": "code",
   "execution_count": 210,
   "metadata": {},
   "outputs": [],
   "source": [
    "##Compute the correlation matrix, to see how CPU and memory correlate with priority\n",
    "# convert to vector column first\n",
    "vector_col = \"corr_features\"\n",
    "assembler = VectorAssembler(inputCols=present_df.columns, outputCol=vector_col)\n",
    "df_vector = assembler.transform(present_df).select(vector_col)\n",
    "# get correlation matrix\n",
    "matrix = Correlation.corr(df_vector, vector_col)"
   ]
  },
  {
   "cell_type": "markdown",
   "metadata": {},
   "source": [
    " ............cpu..........memory.....priority.............................\n",
    " cpu..........1............1..........-0.0314909..........................\n",
    " memory.......1............1..........-0.0314909..........................\n",
    " priority.....-0.0314909...-0.0314909..1..................................      \n",
    "\n",
    "The matrix bellow means that the correlation coefficients are the following:\n",
    "    1. priority and CPU - (-0.031) there is no any relationship, the value close to 0\n",
    "    2. priority and memory - (-0.031) there is no any relationship, the value close to 0\n",
    "    3. cpu and memory - (1) A perfect uphill (positive) linear relationship, the value close to 0"
   ]
  },
  {
   "cell_type": "code",
   "execution_count": 211,
   "metadata": {},
   "outputs": [],
   "source": [
    "d = present_df.toPandas()\n",
    "cpu = d['CPU']\n",
    "memory = d['memory']\n",
    "priority = d['priority']"
   ]
  },
  {
   "cell_type": "markdown",
   "metadata": {},
   "source": [
    "##### 1. CPU and Memory. Strong correlation"
   ]
  },
  {
   "cell_type": "code",
   "execution_count": 212,
   "metadata": {},
   "outputs": [
    {
     "data": {
      "image/png": "[encoded data removed]",
      "text/plain": [
       "<Figure size 432x288 with 1 Axes>"
      ]
     },
     "metadata": {},
     "output_type": "display_data"
    }
   ],
   "source": [
    "import matplotlib\n",
    "import matplotlib.pyplot as plt\n",
    "%matplotlib inline\n",
    "matplotlib.style.use('ggplot')\n",
    "plt.scatter(cpu, memory)\n",
    "plt.show()"
   ]
  },
  {
   "cell_type": "markdown",
   "metadata": {},
   "source": [
    "##### 2. CPU and Priority. No correlation"
   ]
  },
  {
   "cell_type": "code",
   "execution_count": 213,
   "metadata": {},
   "outputs": [
    {
     "data": {
      "image/png": "[encoded data removed]",
      "text/plain": [
       "<Figure size 432x288 with 1 Axes>"
      ]
     },
     "metadata": {},
     "output_type": "display_data"
    }
   ],
   "source": [
    "plt.scatter(cpu, priority)\n",
    "plt.show()"
   ]
  },
  {
   "cell_type": "markdown",
   "metadata": {},
   "source": [
    "##### 3. Memory and Priority. No correlation"
   ]
  },
  {
   "cell_type": "code",
   "execution_count": 214,
   "metadata": {},
   "outputs": [
    {
     "data": {
      "image/png": "[encoded data removed]",
      "text/plain": [
       "<Figure size 432x288 with 1 Axes>"
      ]
     },
     "metadata": {},
     "output_type": "display_data"
    }
   ],
   "source": [
    "plt.scatter(memory, priority)\n",
    "plt.show()"
   ]
  },
  {
   "cell_type": "markdown",
   "metadata": {},
   "source": [
    "## Q6: Are there tasks that consume significantly less resources than what they requested?"
   ]
  },
  {
   "cell_type": "markdown",
   "metadata": {},
   "source": [
    "1. starttime ofthemeasurementperiod\n",
    "2. endtime ofthemeasurementperiod\n",
    "3. jobID\n",
    "4. taskindex\n",
    "5. machineID\n",
    "6. meanCPUusagerate\n",
    "7. canonicalmemoryusage\n",
    "8. assignedmemoryusage\n",
    "9. unmappedpagecachememoryusage 10. total page cache memory usage\n",
    "11. maximum memory usage\n",
    "12. mean disk I/O time\n",
    "13. mean local disk space used\n",
    "14. maximum CPU usage\n",
    "15. maximum disk IO time\n",
    "16. cycles per instruction (CPI)\n",
    "17. memory accesses per instruction (MAI)\n",
    "18. sample portion\n",
    "19. aggregation type (1 if maximums from subcontainers were summed) \n",
    "\n",
    "20. sampled CPU usage: mean CPU usage during a random 1s sample in the measurement period  (only in v2.1 and later)\n",
    "\n",
    "\n"
   ]
  },
  {
   "cell_type": "code",
   "execution_count": 14,
   "metadata": {},
   "outputs": [],
   "source": [
    "task_usage = sc.textFile('../../datasets/task_usage/part-00000-of-00500.csv')\n",
    "task_usage_colnames=['starttime', 'endtime', 'jobID', 'taskID', 'machineID', 'cpu_usage', 'mem_usage', \n",
    "                         'assigned_mem', 'unmapped_cache_usage', 'page_cache_usage', 'max_mem_usage', 'disk_io_time', \n",
    "                         'max_disk_space', 'max_cpu_usage', 'max_disk_io_time', 'cpi', 'mai', 'sampling_rate', 'agg_type', 'sampled_cpu_usage']\n",
    "\n",
    "task_usage = task_usage.map(lambda line: line.split(\",\"))\n",
    "task_usage = task_usage.filter(lambda X: '' not in X)\n",
    "task_usage = task_usage.map(lambda tokens: (int(tokens[0]), int(tokens[1]), int(tokens[2]), int(tokens[3]), int(tokens[4]), float(tokens[5]), float(tokens[6]), float(tokens[7]), float(tokens[8]), float(tokens[9]), float(tokens[10]), float(tokens[11]), float(tokens[12]), float(tokens[13]), float(tokens[14]), float(tokens[15]), float(tokens[16]), int(tokens[17]), int(tokens[18]), float(tokens[19])))\n",
    "sqlContext = SQLContext(sc)\n",
    "task_usage_df = sqlContext.createDataFrame(task_usage, schema=task_usage_colnames)\n",
    "task_usage_df_1 = task_usage_df.select('jobID', 'taskID', 'machineID', 'cpu_usage', 'mem_usage').distinct()"
   ]
  },
  {
   "cell_type": "code",
   "execution_count": 33,
   "metadata": {},
   "outputs": [],
   "source": [
    "task_usage_df_1 = task_usage_df.select('jobID', 'taskID', 'machineID', 'cpu_usage', 'mem_usage').distinct()\n",
    "task_events_df_distinct = task_events_df.dropDuplicates(['machineID', 'jobID', 'taskID']).where(col(\"CPUreq\").isNotNull()).where(col(\"RAMreq\").isNotNull())\n",
    "#if cpu/mem_rat < 1 => we consume less than request"
   ]
  },
  {
   "cell_type": "code",
   "execution_count": 93,
   "metadata": {},
   "outputs": [],
   "source": [
    "demand = task_events_df_distinct.join(task_usage_df_1, on=['jobID', 'taskID', 'machineID'])"
   ]
  },
  {
   "cell_type": "code",
   "execution_count": 94,
   "metadata": {},
   "outputs": [],
   "source": [
    "demand = demand.withColumn(\"cpu_rat\", (col('cpu_usage')/col('CPUreq'))).withColumn(\"ram_rat\", (col('mem_usage')/col('RAMreq'))).withColumn(\"res_rat\", ((col('mem_usage')+col('cpu_usage'))/(col('RAMreq')+col('CPUreq'))))\\\n",
    "            .select('jobID', 'taskID', 'machineID', 'CPUreq', 'cpu_usage', 'cpu_rat', 'RAMreq', 'mem_usage', 'ram_rat', 'res_rat')"
   ]
  },
  {
   "cell_type": "code",
   "execution_count": 72,
   "metadata": {},
   "outputs": [
    {
     "data": {
      "text/plain": [
       "1661028"
      ]
     },
     "execution_count": 72,
     "metadata": {},
     "output_type": "execute_result"
    }
   ],
   "source": [
    "demand.where(col('res_rat')<1).count()##number of tasks that consume less resources than request"
   ]
  },
  {
   "cell_type": "code",
   "execution_count": 95,
   "metadata": {},
   "outputs": [
    {
     "data": {
      "text/plain": [
       "1534055"
      ]
     },
     "execution_count": 95,
     "metadata": {},
     "output_type": "execute_result"
    }
   ],
   "source": [
    "demand.where(col('res_rat')<0.7).count() ##number of tasks that consume signifficantly less resources than request"
   ]
  },
  {
   "cell_type": "code",
   "execution_count": 73,
   "metadata": {},
   "outputs": [
    {
     "data": {
      "text/plain": [
       "25"
      ]
     },
     "execution_count": 73,
     "metadata": {},
     "output_type": "execute_result"
    }
   ],
   "source": [
    "demand.where(col('res_rat')==1).count() ##number of tasks that fully consume the amount of resources they request"
   ]
  },
  {
   "cell_type": "code",
   "execution_count": 74,
   "metadata": {},
   "outputs": [
    {
     "data": {
      "text/plain": [
       "298993"
      ]
     },
     "execution_count": 74,
     "metadata": {},
     "output_type": "execute_result"
    }
   ],
   "source": [
    "demand.where(col('res_rat')>1).count() ##number of tasks that consume more resources than request"
   ]
  },
  {
   "cell_type": "markdown",
   "metadata": {},
   "source": [
    "## Q7: Are there machines for which the resources are largely underused?"
   ]
  },
  {
   "cell_type": "code",
   "execution_count": 207,
   "metadata": {},
   "outputs": [],
   "source": [
    "machine_events_df_unique = machine_events_df.dropDuplicates(['machineID'])\n",
    "demand = task_usage_df_1.join(machine_events_df, on=['machineID'])"
   ]
  },
  {
   "cell_type": "code",
   "execution_count": 208,
   "metadata": {},
   "outputs": [],
   "source": [
    "demand = demand.select('machineID', 'jobID', 'taskID', 'cpu_usage', 'mem_usage', 'CPU', 'memory').withColumn('cpu_used_rat', (100*col('cpu_usage')/col('CPU'))).withColumn('ram_used_rat', (100*col('mem_usage')/col('memory'))).withColumn('res_used_rat', (100*(col('mem_usage')+col('cpu_usage'))/(col('memory')+col('cpu'))))"
   ]
  },
  {
   "cell_type": "code",
   "execution_count": 79,
   "metadata": {},
   "outputs": [
    {
     "data": {
      "text/plain": [
       "4014113"
      ]
     },
     "execution_count": 79,
     "metadata": {},
     "output_type": "execute_result"
    }
   ],
   "source": [
    "demand.count()"
   ]
  },
  {
   "cell_type": "code",
   "execution_count": 80,
   "metadata": {},
   "outputs": [],
   "source": [
    "hist = demand.select('cpu_used_rat', 'ram_used_rat', 'res_used_rat')"
   ]
  },
  {
   "cell_type": "markdown",
   "metadata": {},
   "source": [
    "percentage of CPUs being used"
   ]
  },
  {
   "cell_type": "code",
   "execution_count": 84,
   "metadata": {},
   "outputs": [
    {
     "data": {
      "image/png": "[encoded data removed]",
      "text/plain": [
       "<Figure size 432x288 with 1 Axes>"
      ]
     },
     "metadata": {},
     "output_type": "display_data"
    }
   ],
   "source": [
    "hist_cpu = hist.select('cpu_used_rat').rdd.flatMap(lambda x: x).histogram(10)\n",
    "pd.DataFrame(\n",
    "    list(zip(*hist_cpu)), \n",
    "    columns=['bin', 'frequency']\n",
    ").set_index(\n",
    "    'bin'\n",
    ").plot(kind='bar');"
   ]
  },
  {
   "cell_type": "markdown",
   "metadata": {},
   "source": [
    "percentage of RAM being used"
   ]
  },
  {
   "cell_type": "code",
   "execution_count": 85,
   "metadata": {},
   "outputs": [
    {
     "data": {
      "text/plain": [
       "<matplotlib.axes._subplots.AxesSubplot at 0x7f346293a7b8>"
      ]
     },
     "execution_count": 85,
     "metadata": {},
     "output_type": "execute_result"
    },
    {
     "data": {
      "image/png": "[encoded data removed]",
      "text/plain": [
       "<Figure size 432x288 with 1 Axes>"
      ]
     },
     "metadata": {},
     "output_type": "display_data"
    }
   ],
   "source": [
    "hist_ram = hist.select('ram_used_rat').rdd.flatMap(lambda x: x).histogram(10)\n",
    "pd.DataFrame(\n",
    "    list(zip(*hist_ram)), \n",
    "    columns=['bin', 'frequency']\n",
    ").set_index(\n",
    "    'bin'\n",
    ").plot(kind='bar')"
   ]
  },
  {
   "cell_type": "markdown",
   "metadata": {},
   "source": [
    "percentage of overall resources (ram+cpu) being used"
   ]
  },
  {
   "cell_type": "code",
   "execution_count": 86,
   "metadata": {},
   "outputs": [
    {
     "data": {
      "text/plain": [
       "<matplotlib.axes._subplots.AxesSubplot at 0x7f34628a5128>"
      ]
     },
     "execution_count": 86,
     "metadata": {},
     "output_type": "execute_result"
    },
    {
     "data": {
      "image/png": "[encoded data removed]",
      "text/plain": [
       "<Figure size 432x288 with 1 Axes>"
      ]
     },
     "metadata": {},
     "output_type": "display_data"
    }
   ],
   "source": [
    "hist_res = hist.select('res_used_rat').rdd.flatMap(lambda x: x).histogram(10)\n",
    "pd.DataFrame(\n",
    "    list(zip(*hist_res)), \n",
    "    columns=['bin', 'frequency']\n",
    ").set_index(\n",
    "    'bin'\n",
    ").plot(kind='bar')"
   ]
  },
  {
   "cell_type": "markdown",
   "metadata": {},
   "source": [
    "## DataFrame vs RDD"
   ]
  },
  {
   "cell_type": "markdown",
   "metadata": {},
   "source": [
    "Dataframes are more efficient than RDD, as they are converted into an optimized RDD. Spark optimizes the executions of the operations applied to DataFrames.\n",
    "\n",
    "RDD - query: group->filter execution: group->filter\n",
    "\n",
    "DataFrame - query: group->filter execution: filter->group"
   ]
  },
  {
   "cell_type": "code",
   "execution_count": 215,
   "metadata": {},
   "outputs": [],
   "source": [
    "import time"
   ]
  },
  {
   "cell_type": "markdown",
   "metadata": {},
   "source": [
    "### RDD"
   ]
  },
  {
   "cell_type": "code",
   "execution_count": 216,
   "metadata": {},
   "outputs": [
    {
     "name": "stdout",
     "output_type": "stream",
     "text": [
      "21.20392084121704\n"
     ]
    }
   ],
   "source": [
    "start = time.time()\n",
    "distinct_count = cpu_all.rdd.map(lambda x: (float(x[0]), 1)).reduceByKey(lambda x, y: x+y).map(lambda x: list([x[0], x[1]])).collect()\n",
    "end = time.time()\n",
    "print(end-start)"
   ]
  },
  {
   "cell_type": "markdown",
   "metadata": {},
   "source": [
    "### Data Frame"
   ]
  },
  {
   "cell_type": "code",
   "execution_count": 217,
   "metadata": {},
   "outputs": [
    {
     "name": "stdout",
     "output_type": "stream",
     "text": [
      "3.559519052505493\n"
     ]
    }
   ],
   "source": [
    "start = time.time()\n",
    "distinct_count = cpu_all.groupBy('CPU').count().toPandas()\n",
    "end = time.time()\n",
    "print(end-start)"
   ]
  }
 ],
 "metadata": {
  "kernelspec": {
   "display_name": "Python 3",
   "language": "python",
   "name": "python3"
  },
  "language_info": {
   "codemirror_mode": {
    "name": "ipython",
    "version": 3
   },
   "file_extension": ".py",
   "mimetype": "text/x-python",
   "name": "python",
   "nbconvert_exporter": "python",
   "pygments_lexer": "ipython3",
   "version": "3.7.0"
  }
 },
 "nbformat": 4,
 "nbformat_minor": 2
}
