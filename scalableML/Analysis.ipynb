{
 "cells": [
  {
   "cell_type": "markdown",
   "metadata": {},
   "source": [
    "## Explore Task Events"
   ]
  },
  {
   "cell_type": "code",
   "execution_count": 1,
   "metadata": {},
   "outputs": [],
   "source": [
    "import sys\n",
    "from pyspark import SparkContext\n",
    "import time\n",
    "from pyspark.sql.functions import countDistinct\n",
    "import timeit\n",
    "import gc\n",
    "import pandas as pd\n",
    "from pyspark.sql import SQLContext\n",
    "from pyspark.sql import Row\n",
    "import numpy as np\n",
    "import pandas as pd\n",
    "import seaborn as sns\n",
    "import matplotlib.pyplot as plt\n",
    "from scipy import stats"
   ]
  },
  {
   "cell_type": "code",
   "execution_count": 2,
   "metadata": {},
   "outputs": [],
   "source": [
    "import time\n",
    "from os import path, listdir, chdir\n",
    "from pyspark.sql.functions import *"
   ]
  },
  {
   "cell_type": "code",
   "execution_count": 4,
   "metadata": {},
   "outputs": [],
   "source": [
    "#sc.stop()\n",
    "sc = SparkContext(\"local[1]\")\n",
    "sc.setLogLevel(\"ERROR\")\n",
    "\n",
    "#0. timestamp 1. machineID 2. eventtype 3. platformID 4. capacity:CPU 5. capacity:memory\n",
    "task_events = sc.textFile('../../datasets/task_events/part-00499-of-00500.csv.gz')\n",
    "task_events_RDD = task_events.map(lambda line: line.split(\",\"))\n",
    "task_events_RDD = task_events_RDD.map(lambda tokens: (int(tokens[0]), int(tokens[2]), int(tokens[3]), tokens[4], int(tokens[5]), tokens[6], int(tokens[7]), int(tokens[8]), float(tokens[9]), float(tokens[10]), float(tokens[11]), int(tokens[12]))).filter(lambda elem: elem[0] != 0 and elem[0] != (2^63-1)).sortByKey(1, 1)"
   ]
  },
  {
   "cell_type": "code",
   "execution_count": 6,
   "metadata": {},
   "outputs": [],
   "source": [
    "sqlContext = SQLContext(sc)\n",
    "df = sqlContext.createDataFrame(task_events_RDD, schema=['timestamp', 'jobID', 'taskindex', 'machineID', 'eventtype', 'username', 'schedulingclass', 'priority', 'CPUrequest', 'RAMrequest', 'localDiskrequest', 'different-machineConstraint'])"
   ]
  },
  {
   "cell_type": "markdown",
   "metadata": {},
   "source": [
    "## Compare pyspark vs pd"
   ]
  },
  {
   "cell_type": "markdown",
   "metadata": {},
   "source": [
    "#### a. Compute max of a column in a dataframe"
   ]
  },
  {
   "cell_type": "code",
   "execution_count": 7,
   "metadata": {},
   "outputs": [
    {
     "name": "stdout",
     "output_type": "stream",
     "text": [
      "2501188929582\n",
      "2506199602822\n",
      "2.8115735054016113\n",
      "PySpark max computation is 1.9162433252946816 times faster\n"
     ]
    }
   ],
   "source": [
    "last_timestamp = int(df.agg({'timestamp':'min'}).toPandas()['min(timestamp)'][0])\n",
    "print(last_timestamp)\n",
    "time_start = time.time()\n",
    "first_timestamp = int(df.agg({'timestamp':'max'}).toPandas()['max(timestamp)'][0])\n",
    "time_end = time.time()\n",
    "total1 = time_end-time_start\n",
    "print(first_timestamp)\n",
    "\n",
    "time_start = time.time()\n",
    "df.toPandas()['timestamp'].max()\n",
    "time_end = time.time()\n",
    "total2 = time_end-time_start\n",
    "print(time_end-time_start)\n",
    "\n",
    "print(\"PySpark max computation is {} times faster\".format(total2/total1))"
   ]
  },
  {
   "cell_type": "code",
   "execution_count": 8,
   "metadata": {},
   "outputs": [
    {
     "name": "stdout",
     "output_type": "stream",
     "text": [
      "Data spans -0.05799390324074074  days\n"
     ]
    }
   ],
   "source": [
    "day = 86400 \n",
    "days = ((last_timestamp-first_timestamp)/10**6)/day\n",
    "print(\"Data spans {}  days\".format(days))"
   ]
  },
  {
   "cell_type": "code",
   "execution_count": 9,
   "metadata": {},
   "outputs": [
    {
     "name": "stdout",
     "output_type": "stream",
     "text": [
      "Subsample of data spans 261.0624586272917  days\n",
      "6391942256699\n",
      "822431019\n"
     ]
    }
   ],
   "source": [
    "## define a sample of momens from whish to collect statistics\n",
    "## requested utilization, single moment in time for which to capture \n",
    "#all of the information available about running tasks at that moment \n",
    "#for further analysis\n",
    "\n",
    "##213503953.32766145 days too much\n",
    "last_timestamp2 = first_timestamp*10\n",
    "days = ((last_timestamp2-first_timestamp)/10**6)/day\n",
    "print(\"Subsample of data spans {}  days\".format(days))\n",
    "\n",
    "from random import randint, sample, seed\n",
    "seed(83)\n",
    "sample_moments = sorted(sample(range(first_timestamp, last_timestamp2), 200))\n",
    "snapshot_moment = randint(first_timestamp, last_timestamp2)\n",
    "print(snapshot_moment)\n",
    "end_day = 779231019 + 86400*500\n",
    "print(end_day)\n",
    "start_day = 779231019"
   ]
  },
  {
   "cell_type": "code",
   "execution_count": 10,
   "metadata": {},
   "outputs": [],
   "source": [
    "df1_RDD = None"
   ]
  },
  {
   "cell_type": "code",
   "execution_count": 12,
   "metadata": {},
   "outputs": [],
   "source": [
    "for fn in sorted(listdir('../../datasets/task_events/')):\n",
    "    fp = path.join('..', '..', 'datasets', 'task_events', fn)\n",
    "    df1 = sc.textFile(fp)\n",
    "    df1 = df1.map(lambda line: line.split(\",\"))\n",
    "    df1 = df1.map(lambda tokens: (int(tokens[0]), int(tokens[2]), int(tokens[3]), tokens[4], int(tokens[5]), tokens[6], int(tokens[7]), int(tokens[8]), tokens[9], tokens[10], tokens[11], tokens[12]))\n",
    "    df1 = df1.filter(lambda X: '' not in X).filter(lambda elem: elem[0] != 0 and elem[0] != (2^63-1))\n",
    "    if df1_RDD is None:\n",
    "        df1_RDD = df1.takeSample(False, 200)\n",
    "    else:\n",
    "        df_RDD_join = df"
   ]
  },
  {
   "cell_type": "markdown",
   "metadata": {},
   "source": [
    "## 1. Start"
   ]
  },
  {
   "cell_type": "markdown",
   "metadata": {},
   "source": [
    "### 1.0 Task events"
   ]
  },
  {
   "cell_type": "markdown",
   "metadata": {},
   "source": [
    "##### Preprocessing\n",
    "remove from the traces records occured before the beginning of the trace window (timestamp=0)\n",
    "remove records occured after the end of the trace window (timestamp=2^63-1)\n",
    "sort in accending order with respect to timestamps"
   ]
  },
  {
   "cell_type": "code",
   "execution_count": 13,
   "metadata": {},
   "outputs": [],
   "source": [
    "day = 86400 \n",
    "start_day = 3016500490\n",
    "end_day = 30333568340"
   ]
  },
  {
   "cell_type": "code",
   "execution_count": 15,
   "metadata": {},
   "outputs": [],
   "source": [
    "df1 = sc.textFile('../../datasets/task_events/part-00000-of-00500.csv')\n",
    "df1 = df1.map(lambda line: line.split(\",\"))\n",
    "df1 = df1.map(lambda tokens: (int(tokens[0]), int(tokens[2]), int(tokens[3]), tokens[4], int(tokens[5]), tokens[6], int(tokens[7]), int(tokens[8]), tokens[9], tokens[10], tokens[11], tokens[12]))\n",
    "df1 = df1.filter(lambda X: '' not in X).filter(lambda elem: elem[0] != 0 and elem[0] != (2^63-1))\n",
    "df1 = df1.filter(lambda elem: elem[0]>=start_day and elem[0]<=end_day)\n",
    "#df1 = df1.map(lambda tokens: (int(tokens[0]), int(tokens[2]), int(tokens[3]), tokens[4], int(tokens[5]), tokens[6], int(tokens[7]), int(tokens[8]), float(tokens[9]), float(tokens[10]), tokens[11], tokens[12]))\n",
    "sqlContext = SQLContext(sc)\n",
    "df1_RDD = sqlContext.createDataFrame(df1, schema=['timestamp', 'jobID', 'taskindex', 'machineID', 'eventtype', 'username', 'schedulingclass', 'priority', 'CPUrequest', 'RAMrequest', 'localDiskrequest', 'different-machineConstraint'])"
   ]
  },
  {
   "cell_type": "code",
   "execution_count": 16,
   "metadata": {},
   "outputs": [],
   "source": [
    "timestamps = np.array(list(df1_RDD.toPandas()['timestamp'])).astype(np.int)\n",
    "cpus = np.array(list(df1_RDD.toPandas()['CPUrequest'])).astype(np.float32)\n",
    "rams = np.array(list(df1_RDD.toPandas()['RAMrequest'])).astype(np.float32)"
   ]
  },
  {
   "cell_type": "code",
   "execution_count": 17,
   "metadata": {},
   "outputs": [
    {
     "data": {
      "image/png": "[encoded data removed]",
      "text/plain": [
       "<Figure size 432x288 with 1 Axes>"
      ]
     },
     "metadata": {
      "needs_background": "light"
     },
     "output_type": "display_data"
    }
   ],
   "source": [
    "fig = plt.figure()\n",
    "ax = fig.add_subplot(111)\n",
    "#cpu_all = np.array(list(df.toPandas()['CPU'])).astype(np.float32)\n",
    "ax.plot(timestamps, cpus, label='cpu requested')\n",
    "ax.plot(timestamps, rams, label='ram requested')\n",
    "\n",
    "s = timestamps.min()\n",
    "s2 = timestamps.max()\n",
    "\n",
    "plt.xlim(s, s2)\n",
    "plt.legend()\n",
    "plt.show()"
   ]
  },
  {
   "cell_type": "markdown",
   "metadata": {},
   "source": [
    "### 1.1 Machine Events"
   ]
  },
  {
   "cell_type": "code",
   "execution_count": 18,
   "metadata": {},
   "outputs": [],
   "source": [
    "machine_events = sc.textFile('../../datasets/machine_events/part-00000-of-00001.csv.gz')\n",
    "machine_events_RDD = machine_events.map(lambda line: line.split(\",\"))\n",
    "machine_events_RDD = machine_events_RDD.map(lambda tokens: (int(tokens[0]), int(tokens[1]), int(tokens[2]), tokens[3], tokens[4], tokens[5]))\n",
    "machine_events_RDD_filtered = machine_events_RDD.filter(lambda elem: elem[0] != 0 and elem[0] != (2^63-1)).sortByKey(1, 1)\n",
    "sqlContext = SQLContext(sc)\n",
    "df = sqlContext.createDataFrame(machine_events_RDD_filtered, schema=['timestamp', 'machineID', 'eventtype', 'platformID', 'CPU', 'memory'])"
   ]
  },
  {
   "cell_type": "code",
   "execution_count": 296,
   "metadata": {},
   "outputs": [],
   "source": [
    "#timestamps_range = sorted(range(timestamps[0], timestamps[len(timestamps)-1]))\n",
    "#timestamps_range_rdd = sc.parallelize(timestamps_range)\n",
    "#filterListB1 = sc.broadcast(timestamps_range)"
   ]
  },
  {
   "cell_type": "code",
   "execution_count": 299,
   "metadata": {},
   "outputs": [],
   "source": [
    "s1 = sc.broadcast(timestamps[0])\n",
    "s2 = sc.broadcast(10*timestamps[len(timestamps)-1])\n",
    "new_end_time_tasks = 10*timestamps[len(timestamps)-1]\n",
    "df_machines = df.where((df['timestamp']>=int(s1.value)) & (df['timestamp']<=int(s2.value)))"
   ]
  },
  {
   "cell_type": "code",
   "execution_count": 304,
   "metadata": {},
   "outputs": [],
   "source": [
    "timestamps_a = np.array(list(df_machines.toPandas()['timestamp'])).astype(np.int)\n",
    "cpus_a = np.array(list(df_machines.toPandas()['CPU'])).astype(np.float32)\n",
    "rams_a = np.array(list(df_machines.toPandas()['memory'])).astype(np.float32)"
   ]
  },
  {
   "cell_type": "code",
   "execution_count": 309,
   "metadata": {},
   "outputs": [
    {
     "data": {
      "image/png": "[encoded data removed]",
      "text/plain": [
       "<Figure size 432x288 with 1 Axes>"
      ]
     },
     "metadata": {
      "needs_background": "light"
     },
     "output_type": "display_data"
    }
   ],
   "source": [
    "fig = plt.figure()\n",
    "ax = fig.add_subplot(111)\n",
    "ax.plot(timestamps, cpus, label='cpu requested')\n",
    "ax.plot(timestamps_a, cpus_a, label='cpu available')\n",
    "ax.plot(timestamps, rams, label='mem requested')\n",
    "ax.plot(timestamps_a, rams_a, label='mem available')\n",
    "plt.xlim(timestamps.min(), timestamps.max())\n",
    "plt.legend()\n",
    "plt.show()"
   ]
  },
  {
   "cell_type": "markdown",
   "metadata": {},
   "source": [
    "### 1.3 What happens in the beginning of the trace window. Timestamp = 0"
   ]
  },
  {
   "cell_type": "code",
   "execution_count": 19,
   "metadata": {},
   "outputs": [],
   "source": [
    "df1_null = sc.textFile('../../datasets/task_events/part-00000-of-00500.csv')\n",
    "df1_null = df1_null.map(lambda line: line.split(\",\"))\n",
    "df1_null = df1_null.map(lambda tokens: (int(tokens[0]), int(tokens[2]), int(tokens[3]), tokens[4], int(tokens[5]), tokens[6], int(tokens[7]), int(tokens[8]), tokens[9], tokens[10], tokens[11], tokens[12]))\n",
    "df1_null = df1_null.filter(lambda X: '' not in X).filter(lambda elem: elem[0] == 0)\n",
    "\n",
    "sqlContext = SQLContext(sc)\n",
    "df1_RDD_null = sqlContext.createDataFrame(df1_null, schema=['timestamp', 'jobID', 'taskindex', 'machineID', 'eventtype', 'username', 'schedulingclass', 'priority', 'CPUrequest', 'RAMrequest', 'localDiskrequest', 'different-machineConstraint'])"
   ]
  },
  {
   "cell_type": "code",
   "execution_count": 20,
   "metadata": {},
   "outputs": [],
   "source": [
    "df1_RDD_null = df1_RDD_null.limit(400)"
   ]
  },
  {
   "cell_type": "code",
   "execution_count": 21,
   "metadata": {},
   "outputs": [
    {
     "data": {
      "text/plain": [
       "400"
      ]
     },
     "execution_count": 21,
     "metadata": {},
     "output_type": "execute_result"
    }
   ],
   "source": [
    "df1_RDD_null.select(df1_RDD_null.CPUrequest).count()"
   ]
  },
  {
   "cell_type": "code",
   "execution_count": 22,
   "metadata": {},
   "outputs": [],
   "source": [
    "timestamps_null = np.array(list(df1_RDD_null.toPandas()['timestamp'])).astype(np.int)\n",
    "cpus_null = np.array(list(df1_RDD_null.toPandas()['CPUrequest'])).astype(np.float32)\n",
    "rams_null = np.array(list(df1_RDD_null.toPandas()['RAMrequest'])).astype(np.float32)"
   ]
  },
  {
   "cell_type": "code",
   "execution_count": 23,
   "metadata": {},
   "outputs": [
    {
     "data": {
      "text/plain": [
       "(400,)"
      ]
     },
     "execution_count": 23,
     "metadata": {},
     "output_type": "execute_result"
    }
   ],
   "source": [
    "cpus_null.shape"
   ]
  },
  {
   "cell_type": "code",
   "execution_count": 24,
   "metadata": {},
   "outputs": [],
   "source": [
    "machine_events_null = sc.textFile('../../datasets/machine_events/part-00000-of-00001.csv.gz')\n",
    "machine_events_RDD_null = machine_events_null.map(lambda line: line.split(\",\"))\n",
    "machine_events_RDD_null = machine_events_RDD_null.map(lambda tokens: (int(tokens[0]), int(tokens[1]), int(tokens[2]), tokens[3], tokens[4], tokens[5]))\n",
    "machine_events_RDD_filtered_null = machine_events_RDD_null.filter(lambda elem: elem[0] == 0)\n",
    "sqlContext = SQLContext(sc)\n",
    "df_null = sqlContext.createDataFrame(machine_events_RDD_filtered_null, schema=['timestamp', 'machineID', 'eventtype', 'platformID', 'CPU', 'memory'])"
   ]
  },
  {
   "cell_type": "code",
   "execution_count": 25,
   "metadata": {},
   "outputs": [],
   "source": [
    "df_null = df_null.limit(400)"
   ]
  },
  {
   "cell_type": "code",
   "execution_count": 26,
   "metadata": {},
   "outputs": [
    {
     "data": {
      "text/plain": [
       "400"
      ]
     },
     "execution_count": 26,
     "metadata": {},
     "output_type": "execute_result"
    }
   ],
   "source": [
    "df_null.count()"
   ]
  },
  {
   "cell_type": "code",
   "execution_count": 27,
   "metadata": {},
   "outputs": [],
   "source": [
    "timestamps_null_a = np.array(list(df_null.toPandas()['timestamp'])).astype(np.int)\n",
    "cpus_null_a = np.array(list(df_null.toPandas()['CPU'])).astype(np.float32)\n",
    "rams_null_a = np.array(list(df_null.toPandas()['memory'])).astype(np.float32)"
   ]
  },
  {
   "cell_type": "code",
   "execution_count": 28,
   "metadata": {},
   "outputs": [
    {
     "data": {
      "text/plain": [
       "(400,)"
      ]
     },
     "execution_count": 28,
     "metadata": {},
     "output_type": "execute_result"
    }
   ],
   "source": [
    "cpus_null_a.shape"
   ]
  },
  {
   "cell_type": "code",
   "execution_count": 29,
   "metadata": {},
   "outputs": [
    {
     "data": {
      "image/png": "[encoded data removed]",
      "text/plain": [
       "<Figure size 432x288 with 1 Axes>"
      ]
     },
     "metadata": {
      "needs_background": "light"
     },
     "output_type": "display_data"
    }
   ],
   "source": [
    "fig = plt.figure()\n",
    "ax = fig.add_subplot(111)\n",
    "ax.plot(range(0, 400), cpus_null, label='cpu requested')\n",
    "ax.plot(range(0, 400), cpus_null_a, label='cpu available')\n",
    "ax.plot(range(0, 400), rams_null, label='mem requested')\n",
    "ax.plot(range(0, 400), rams_null_a, label='mem available')\n",
    "plt.xlim(0, 400)\n",
    "plt.legend()\n",
    "plt.show()"
   ]
  },
  {
   "cell_type": "markdown",
   "metadata": {},
   "source": [
    "## 2. How well the google scheduler allocates resources\n",
    "### 2.0 Task Usage"
   ]
  },
  {
   "cell_type": "code",
   "execution_count": 30,
   "metadata": {},
   "outputs": [],
   "source": [
    "task_usage = sc.textFile('../../datasets/task_usage/part-00000-of-00500.csv')\n",
    "task_usage_colnames=['starttime', 'endtime', 'job_id', 'task_idx', 'machine_id', 'cpu_usage', 'mem_usage', \n",
    "                         'assigned_mem', 'unmapped_cache_usage', 'page_cache_usage', 'max_mem_usage', 'disk_io_time', \n",
    "                         'max_disk_space', 'max_cpu_usage', 'max_disk_io_time', 'cpi', 'mai', 'sampling_rate', 'agg_type', 'sampled_cpu_usage']\n",
    "\n",
    "task_usage = task_usage.map(lambda line: line.split(\",\"))\n",
    "task_usage = task_usage.filter(lambda X: '' not in X)\n",
    "task_usage = task_usage.map(lambda tokens: (int(tokens[0]), int(tokens[1]), int(tokens[2]), int(tokens[3]), int(tokens[4]), float(tokens[5]), float(tokens[6]), float(tokens[7]), float(tokens[8]), float(tokens[9]), float(tokens[10]), float(tokens[11]), float(tokens[12]), float(tokens[13]), float(tokens[14]), float(tokens[15]), float(tokens[16]), int(tokens[17]), int(tokens[18]), float(tokens[19])))\n",
    "task_usage = task_usage.filter(lambda elem: elem[1]<=int(900000000))\n",
    "\n",
    "sqlContext = SQLContext(sc)\n",
    "task_usage_df = sqlContext.createDataFrame(task_usage, schema=task_usage_colnames)"
   ]
  },
  {
   "cell_type": "code",
   "execution_count": 31,
   "metadata": {},
   "outputs": [],
   "source": [
    "cpus_usage = np.array(list(task_usage_df.toPandas()['cpu_usage'])).astype(np.float32)\n",
    "rams_usage = np.array(list(task_usage_df.toPandas()['mem_usage'])).astype(np.float32)"
   ]
  },
  {
   "cell_type": "code",
   "execution_count": 32,
   "metadata": {},
   "outputs": [],
   "source": [
    "cpus_usage = cpus_usage[:cpus.shape[0]]\n",
    "rams_usage = rams_usage[:rams.shape[0]]"
   ]
  },
  {
   "cell_type": "code",
   "execution_count": 33,
   "metadata": {},
   "outputs": [
    {
     "ename": "NameError",
     "evalue": "name 'timestamps_a' is not defined",
     "output_type": "error",
     "traceback": [
      "\u001b[0;31m---------------------------------------------------------------------------\u001b[0m",
      "\u001b[0;31mNameError\u001b[0m                                 Traceback (most recent call last)",
      "\u001b[0;32m<ipython-input-33-13920fd40193>\u001b[0m in \u001b[0;36m<module>\u001b[0;34m()\u001b[0m\n\u001b[1;32m      2\u001b[0m \u001b[0max\u001b[0m \u001b[0;34m=\u001b[0m \u001b[0mfig\u001b[0m\u001b[0;34m.\u001b[0m\u001b[0madd_subplot\u001b[0m\u001b[0;34m(\u001b[0m\u001b[0;36m111\u001b[0m\u001b[0;34m)\u001b[0m\u001b[0;34m\u001b[0m\u001b[0m\n\u001b[1;32m      3\u001b[0m \u001b[0max\u001b[0m\u001b[0;34m.\u001b[0m\u001b[0mplot\u001b[0m\u001b[0;34m(\u001b[0m\u001b[0mtimestamps\u001b[0m\u001b[0;34m,\u001b[0m \u001b[0mcpus\u001b[0m\u001b[0;34m,\u001b[0m \u001b[0mlabel\u001b[0m\u001b[0;34m=\u001b[0m\u001b[0;34m'cpu requested'\u001b[0m\u001b[0;34m)\u001b[0m\u001b[0;34m\u001b[0m\u001b[0m\n\u001b[0;32m----> 4\u001b[0;31m \u001b[0max\u001b[0m\u001b[0;34m.\u001b[0m\u001b[0mplot\u001b[0m\u001b[0;34m(\u001b[0m\u001b[0mtimestamps_a\u001b[0m\u001b[0;34m,\u001b[0m \u001b[0mcpus_a\u001b[0m\u001b[0;34m,\u001b[0m \u001b[0mlabel\u001b[0m\u001b[0;34m=\u001b[0m\u001b[0;34m'cpu available'\u001b[0m\u001b[0;34m)\u001b[0m\u001b[0;34m\u001b[0m\u001b[0m\n\u001b[0m\u001b[1;32m      5\u001b[0m \u001b[0max\u001b[0m\u001b[0;34m.\u001b[0m\u001b[0mplot\u001b[0m\u001b[0;34m(\u001b[0m\u001b[0mtimestamps\u001b[0m\u001b[0;34m,\u001b[0m \u001b[0mcpus_usage\u001b[0m\u001b[0;34m,\u001b[0m \u001b[0mlabel\u001b[0m\u001b[0;34m=\u001b[0m\u001b[0;34m'mem usage'\u001b[0m\u001b[0;34m)\u001b[0m\u001b[0;34m\u001b[0m\u001b[0m\n\u001b[1;32m      6\u001b[0m \u001b[0mplt\u001b[0m\u001b[0;34m.\u001b[0m\u001b[0mxlim\u001b[0m\u001b[0;34m(\u001b[0m\u001b[0mtimestamps\u001b[0m\u001b[0;34m.\u001b[0m\u001b[0mmin\u001b[0m\u001b[0;34m(\u001b[0m\u001b[0;34m)\u001b[0m\u001b[0;34m,\u001b[0m \u001b[0mtimestamps\u001b[0m\u001b[0;34m.\u001b[0m\u001b[0mmax\u001b[0m\u001b[0;34m(\u001b[0m\u001b[0;34m)\u001b[0m\u001b[0;34m)\u001b[0m\u001b[0;34m\u001b[0m\u001b[0m\n",
      "\u001b[0;31mNameError\u001b[0m: name 'timestamps_a' is not defined"
     ]
    },
    {
     "data": {
      "image/png": "[encoded data removed]",
      "text/plain": [
       "<Figure size 432x288 with 1 Axes>"
      ]
     },
     "metadata": {
      "needs_background": "light"
     },
     "output_type": "display_data"
    }
   ],
   "source": [
    "fig = plt.figure()\n",
    "ax = fig.add_subplot(111)\n",
    "ax.plot(timestamps, cpus, label='cpu requested')\n",
    "ax.plot(timestamps_a, cpus_a, label='cpu available')\n",
    "ax.plot(timestamps, cpus_usage, label='mem usage')\n",
    "plt.xlim(timestamps.min(), timestamps.max())\n",
    "plt.legend()\n",
    "plt.show()"
   ]
  },
  {
   "cell_type": "code",
   "execution_count": null,
   "metadata": {},
   "outputs": [],
   "source": [
    "fig = plt.figure()\n",
    "ax = fig.add_subplot(111)\n",
    "ax.plot(timestamps, rams, label='mem requested')\n",
    "ax.plot(timestamps_a, rams_a, label='mem available')\n",
    "ax.plot(timestamps, rams_usage, label='mem usage')\n",
    "plt.xlim(timestamps.min(), timestamps.max())\n",
    "plt.legend()\n",
    "plt.show()"
   ]
  },
  {
   "cell_type": "code",
   "execution_count": null,
   "metadata": {},
   "outputs": [],
   "source": [
    "plt.hist(cpus, color='blue', edgecolor = 'black')\n",
    "plt.title('CPUs requested')\n",
    "plt.xlabel('Delay (days)')\n",
    "plt.ylabel('Machines')\n",
    "plt.show()\n",
    "\n",
    "plt.hist(cpus_a, color='blue', edgecolor = 'black')\n",
    "plt.title('CPUs available')\n",
    "plt.xlabel('Delay (days)')\n",
    "plt.ylabel('Machines')\n",
    "plt.show()\n",
    "\n",
    "plt.hist(cpus_u, color='blue', edgecolor = 'black')\n",
    "plt.title('CPUs used')\n",
    "plt.xlabel('Delay (days)')\n",
    "plt.ylabel('Machines')\n",
    "plt.show()\n",
    "\n",
    "print(np.array(cpus_a).min(), np.array(cpus_a).max())\n",
    "print(np.array(cpus_u).min(), np.array(cpus_u).max())\n",
    "print(np.array(cpus).min(), np.array(cpus).max())"
   ]
  },
  {
   "cell_type": "code",
   "execution_count": null,
   "metadata": {},
   "outputs": [],
   "source": [
    "plt.hist(rams, color='blue', edgecolor = 'black')\n",
    "plt.title('RAMs requested')\n",
    "plt.xlabel('Delay (days)')\n",
    "plt.ylabel('Machines')\n",
    "plt.show()\n",
    "\n",
    "plt.hist(rams_a, color='blue', edgecolor = 'black')\n",
    "plt.title('RAMs available')\n",
    "plt.xlabel('Delay (days)')\n",
    "plt.ylabel('Machines')\n",
    "plt.show()\n",
    "\n",
    "plt.hist(rams_u, color='blue', edgecolor = 'black')\n",
    "plt.title('RAMs used')\n",
    "plt.xlabel('Delay (days)')\n",
    "plt.ylabel('Machines')\n",
    "plt.show()\n",
    "\n",
    "print(np.array(rams_a).min(), np.array(rams_a).max())\n",
    "print(np.array(rams_u).min(), np.array(rams_u).max())\n",
    "print(np.array(rams).min(), np.array(rams).max())"
   ]
  },
  {
   "cell_type": "code",
   "execution_count": 456,
   "metadata": {},
   "outputs": [
    {
     "data": {
      "text/plain": [
       "434"
      ]
     },
     "execution_count": 456,
     "metadata": {},
     "output_type": "execute_result"
    }
   ],
   "source": [
    "demand = requested_df.join(available_df, on=['row_index']).withColumn(\"cpu_demand\", (100*F.col('CPUrequest')/F.col('CPU'))).withColumn(\"ram_demand\", (100*F.col('RAMrequest')/F.col('memory')))\n",
    "demand = demand.select(demand.cpu_demand, demand.ram_demand)\n",
    "usage = used_df.join(available_df, on=['row_index']).withColumn(\"cpu_usage_\", (100*F.col('cpu_usage')/F.col('CPU'))).withColumn(\"ram_usage_\", (100*F.col('mem_usage')/F.col('memory')))\n",
    "usage = usage.select(usage.cpu_usage_, usage.ram_usage_)"
   ]
  },
  {
   "cell_type": "code",
   "execution_count": 458,
   "metadata": {},
   "outputs": [],
   "source": [
    "import pyspark.sql.functions as f\n",
    "\n",
    "#used 'cpu_usage' mem_usage\n",
    "used_df = task_usage_df.select(used_df.cpu_usage, used_df.mem_usage).limit(available_df.count()).withColumn('row_index', f.monotonically_increasing_id())\n",
    "#requested CPUrequest\n",
    "requested_df = df1_RDD.select(requested_df.CPUrequest, requested_df.RAMrequest).limit(available_df.count()).withColumn('row_index', f.monotonically_increasing_id())\n",
    "#available CPU\n",
    "available_df = df_machines.select(available_df.CPU, available_df.memory).limit(available_df.count()).withColumn('row_index', f.monotonically_increasing_id())\n",
    "\n",
    "timestamps_d = timestamps[:available_df.count()]\n",
    "cpus_d = np.array(list(demand.toPandas()['cpu_demand'])).astype(np.float32)\n",
    "cpus_u = np.array(list(usage.toPandas()['cpu_usage_'])).astype(np.float32)"
   ]
  },
  {
   "cell_type": "code",
   "execution_count": 459,
   "metadata": {},
   "outputs": [],
   "source": [
    "rams_d = np.array(list(demand.toPandas()['ram_demand'])).astype(np.float32)\n",
    "rams_u = np.array(list(usage.toPandas()['ram_usage_'])).astype(np.float32)"
   ]
  },
  {
   "cell_type": "code",
   "execution_count": 460,
   "metadata": {},
   "outputs": [
    {
     "data": {
      "image/png": "[encoded data removed]",
      "text/plain": [
       "<Figure size 432x288 with 1 Axes>"
      ]
     },
     "metadata": {
      "needs_background": "light"
     },
     "output_type": "display_data"
    }
   ],
   "source": [
    "fig = plt.figure()\n",
    "ax = fig.add_subplot(111)\n",
    "ax.plot(timestamps_d, cpus_d, label='cpu % demand')\n",
    "ax.plot(timestamps_d, cpus_u, label='cpu % usage')\n",
    "plt.xlim(timestamps_d.min(), timestamps_d.max())\n",
    "plt.legend()\n",
    "plt.show()"
   ]
  },
  {
   "cell_type": "code",
   "execution_count": 462,
   "metadata": {},
   "outputs": [
    {
     "data": {
      "image/png": "[encoded data removed]",
      "text/plain": [
       "<Figure size 432x288 with 1 Axes>"
      ]
     },
     "metadata": {
      "needs_background": "light"
     },
     "output_type": "display_data"
    }
   ],
   "source": [
    "fig = plt.figure()\n",
    "ax = fig.add_subplot(111)\n",
    "ax.plot(timestamps_d, rams_d, label='ram % demand')\n",
    "ax.plot(timestamps_d, rams_u, label='ram % usage')\n",
    "plt.xlim(timestamps_d.min(), timestamps_d.max())\n",
    "plt.legend()\n",
    "plt.show()"
   ]
  },
  {
   "cell_type": "markdown",
   "metadata": {},
   "source": [
    "The density remains over 100 tasks per machine"
   ]
  },
  {
   "cell_type": "code",
   "execution_count": 485,
   "metadata": {},
   "outputs": [
    {
     "name": "stdout",
     "output_type": "stream",
     "text": [
      "Machines 434\n",
      "Tasks 43515\n",
      "Density of tasks, the task/machine ratio 100.26497695852535\n"
     ]
    }
   ],
   "source": [
    "print(\"Machines {}\".format(len(cpus_a)))\n",
    "print(\"Tasks {}\".format(len(cpus)))\n",
    "print(\"Density of tasks, the task/machine ratio {}\".format(len(cpus)/len(cpus_a)))"
   ]
  },
  {
   "cell_type": "markdown",
   "metadata": {},
   "source": [
    "Even when removing all of the tasks with zero cpu or memory requrements the density remains over 99 tasks per machine"
   ]
  },
  {
   "cell_type": "code",
   "execution_count": 486,
   "metadata": {},
   "outputs": [
    {
     "name": "stdout",
     "output_type": "stream",
     "text": [
      "Machines 434\n",
      "Tasks 43334\n",
      "Density of tasks, the task/machine ratio 99.84792626728111\n"
     ]
    }
   ],
   "source": [
    "non_zero_a = list(filter(lambda a: a != 0, cpus_a))\n",
    "non_zero = list(filter(lambda a: a != 0, cpus))\n",
    "print(\"Machines {}\".format(len(non_zero_a)))\n",
    "print(\"Tasks {}\".format(len(non_zero)))\n",
    "print(\"Density of tasks, the task/machine ratio {}\".format(len(non_zero)/len(non_zero_a)))"
   ]
  }
 ],
 "metadata": {
  "kernelspec": {
   "display_name": "Python 3",
   "language": "python",
   "name": "python3"
  },
  "language_info": {
   "codemirror_mode": {
    "name": "ipython",
    "version": 3
   },
   "file_extension": ".py",
   "mimetype": "text/x-python",
   "name": "python",
   "nbconvert_exporter": "python",
   "pygments_lexer": "ipython3",
   "version": "3.7.0"
  }
 },
 "nbformat": 4,
 "nbformat_minor": 2
}
